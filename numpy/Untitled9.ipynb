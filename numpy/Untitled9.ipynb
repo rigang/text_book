{
  "nbformat": 4,
  "nbformat_minor": 0,
  "metadata": {
    "colab": {
      "name": "Untitled9.ipynb",
      "provenance": [],
      "collapsed_sections": [],
      "authorship_tag": "ABX9TyNg5aWAYr0Xgaq+WYMqUClN"
    },
    "kernelspec": {
      "name": "python3",
      "display_name": "Python 3"
    }
  },
  "cells": [
    {
      "cell_type": "markdown",
      "metadata": {
        "id": "R67AqYm4-8iT"
      },
      "source": [
        "I. 개요\n",
        "\n",
        "NumPy는 C언어로 구성되었으며, 고성능의 수치계산을 위해 나온 패키지이며, Numerical Python의 약자이다.\n",
        "\n",
        "Python을 활용한 데이터 분석을 수행할 때, 그리고 데이터 시각화나 전처리를 수행할 때, NumPy는 매우 자주 사용되기 때문에 한번쯤은 꼭 다듬고 가는 것이 중요하다.\n",
        "\n",
        "이전 포스트에서는 Python - NumPy 소개 및 다양한 객체 생성에 대해 다루었으니, 본 포스트 읽기에 앞서서 기본적인 개념에 대해 확인하기를 바란다."
      ]
    },
    {
      "cell_type": "markdown",
      "metadata": {
        "id": "DOc2CYLC_EV0"
      },
      "source": [
        "II. 모듈 Import\n",
        "\n",
        "패키지 설치방법은 설치 문서를 확인한다."
      ]
    },
    {
      "cell_type": "code",
      "metadata": {
        "colab": {
          "base_uri": "https://localhost:8080/"
        },
        "id": "Q2FMDy-I-u_6",
        "outputId": "896d0bb3-084e-4b1e-dd2d-28ea00bdd109"
      },
      "source": [
        "import numpy as np\n",
        "print(np.__version__)"
      ],
      "execution_count": 2,
      "outputs": [
        {
          "output_type": "stream",
          "text": [
            "1.18.5\n"
          ],
          "name": "stdout"
        }
      ]
    },
    {
      "cell_type": "markdown",
      "metadata": {
        "id": "NxOl5h6D_QXW"
      },
      "source": [
        "III. NumPy 기본 활용법\n",
        "\n",
        "NumPy 객체 생성을 한 뒤에, 파일 저장, 서로 다른 배열끼리의 사칙연산 등을 수행할 수 있다."
      ]
    },
    {
      "cell_type": "markdown",
      "metadata": {
        "id": "iYhzIduF_TMb"
      },
      "source": [
        "(1) NumPy 객체 파일 저장 및 불러오기\n",
        "\n",
        "savetxt, loadtxt, 그리고 genfromtxt 함수를 활용하여 객체를 불러오는 예제를 실습한다."
      ]
    },
    {
      "cell_type": "code",
      "metadata": {
        "colab": {
          "base_uri": "https://localhost:8080/"
        },
        "id": "NMirg-SF_NY5",
        "outputId": "a907c647-39a2-409a-d1b9-84b126182745"
      },
      "source": [
        "# 객체 생성 후 저장하기\n",
        "x = np.arange(0.0, 50.0, 1.0)\n",
        "print(x)\n",
        "np.savetxt('data.out', x, delimiter=',')"
      ],
      "execution_count": 3,
      "outputs": [
        {
          "output_type": "stream",
          "text": [
            "[ 0.  1.  2.  3.  4.  5.  6.  7.  8.  9. 10. 11. 12. 13. 14. 15. 16. 17.\n",
            " 18. 19. 20. 21. 22. 23. 24. 25. 26. 27. 28. 29. 30. 31. 32. 33. 34. 35.\n",
            " 36. 37. 38. 39. 40. 41. 42. 43. 44. 45. 46. 47. 48. 49.]\n"
          ],
          "name": "stdout"
        }
      ]
    },
    {
      "cell_type": "code",
      "metadata": {
        "colab": {
          "base_uri": "https://localhost:8080/"
        },
        "id": "-P-hc39x_arK",
        "outputId": "b3db38f0-0226-4656-846e-937086e17ad4"
      },
      "source": [
        "!ls"
      ],
      "execution_count": 4,
      "outputs": [
        {
          "output_type": "stream",
          "text": [
            "data.out  sample_data\n"
          ],
          "name": "stdout"
        }
      ]
    },
    {
      "cell_type": "markdown",
      "metadata": {
        "id": "Hp0ZZCkP_gbT"
      },
      "source": [
        "현재 폴더에 data.out 파일이 생성된 것을 확인할 수 있다."
      ]
    },
    {
      "cell_type": "code",
      "metadata": {
        "colab": {
          "base_uri": "https://localhost:8080/"
        },
        "id": "k9ijNHDw_hhd",
        "outputId": "7d23799b-995e-433d-cf1b-f39686480198"
      },
      "source": [
        "# `data.out` 불러오기\n",
        "z = np.loadtxt('data.out', unpack=True)\n",
        "print(z)"
      ],
      "execution_count": 5,
      "outputs": [
        {
          "output_type": "stream",
          "text": [
            "[ 0.  1.  2.  3.  4.  5.  6.  7.  8.  9. 10. 11. 12. 13. 14. 15. 16. 17.\n",
            " 18. 19. 20. 21. 22. 23. 24. 25. 26. 27. 28. 29. 30. 31. 32. 33. 34. 35.\n",
            " 36. 37. 38. 39. 40. 41. 42. 43. 44. 45. 46. 47. 48. 49.]\n"
          ],
          "name": "stdout"
        }
      ]
    },
    {
      "cell_type": "code",
      "metadata": {
        "colab": {
          "base_uri": "https://localhost:8080/"
        },
        "id": "IkUiXdqt_j5K",
        "outputId": "45c49a90-f177-49e5-885a-719f374b3008"
      },
      "source": [
        "# genfromtxt 활용\n",
        "my_array2 = np.genfromtxt('data.out', \n",
        "                          skip_header=1, \n",
        "                          filling_values=-999)\n",
        "print(my_array2)"
      ],
      "execution_count": 6,
      "outputs": [
        {
          "output_type": "stream",
          "text": [
            "[ 1.  2.  3.  4.  5.  6.  7.  8.  9. 10. 11. 12. 13. 14. 15. 16. 17. 18.\n",
            " 19. 20. 21. 22. 23. 24. 25. 26. 27. 28. 29. 30. 31. 32. 33. 34. 35. 36.\n",
            " 37. 38. 39. 40. 41. 42. 43. 44. 45. 46. 47. 48. 49.]\n"
          ],
          "name": "stdout"
        }
      ]
    },
    {
      "cell_type": "markdown",
      "metadata": {
        "id": "ZVtS1980_oON"
      },
      "source": [
        "z객체와 마찬가지로 my_array2도 객체가 정상적으로 생성된 것을 확인할 수 있다.\n",
        "\n",
        "loadtxt와 genfromtxt의 차이점이 있기는 하다. 결론부터 말하면, genfromtxt가 다양한 옵션을 제공한다. 간단한 예를 들면, genfromtxt의 경우 열들의 자료형을 자동으로 결정해주어 사용자들이 좀 더 편안하게 사용할 수 있도록 도와준다 (Clinton, 2016, p. 281-2)."
      ]
    },
    {
      "cell_type": "markdown",
      "metadata": {
        "id": "lkg-sPxI_rF8"
      },
      "source": [
        "(2) 2차원 배열 Inspection\n",
        "\n",
        "ndim, size, flags, itemsize, nbytes를 활용하여 배열의 정보를 획득한다.\n",
        "특히, 딥러닝 모형 정의 및 학습할 때, NumPy 배열 에러 등이 종종 발생하기 때문에 기본 개념은 학습하는 것을 추천한다."
      ]
    },
    {
      "cell_type": "code",
      "metadata": {
        "colab": {
          "base_uri": "https://localhost:8080/"
        },
        "id": "PvhaI7XY_uHX",
        "outputId": "2aa4a3cb-c567-4079-cd8c-74d4530580b0"
      },
      "source": [
        "my2D_Array = np.array([[1,2,3,4], [2,4,6,8], [3,6,9,12]])\n",
        "print(my2D_Array)"
      ],
      "execution_count": 7,
      "outputs": [
        {
          "output_type": "stream",
          "text": [
            "[[ 1  2  3  4]\n",
            " [ 2  4  6  8]\n",
            " [ 3  6  9 12]]\n"
          ],
          "name": "stdout"
        }
      ]
    },
    {
      "cell_type": "code",
      "metadata": {
        "colab": {
          "base_uri": "https://localhost:8080/"
        },
        "id": "JySDsbNW_y7q",
        "outputId": "5dc8da1b-0230-4ff5-9150-a92032d70315"
      },
      "source": [
        "# ndim\n",
        "print(my2D_Array.ndim)"
      ],
      "execution_count": 8,
      "outputs": [
        {
          "output_type": "stream",
          "text": [
            "2\n"
          ],
          "name": "stdout"
        }
      ]
    },
    {
      "cell_type": "code",
      "metadata": {
        "colab": {
          "base_uri": "https://localhost:8080/"
        },
        "id": "36kraKuw_16m",
        "outputId": "b0a4af33-8e13-402a-e0a1-2614e5e5076d"
      },
      "source": [
        "# size (각 item의 개수를 의미)\n",
        "print(my2D_Array.size)"
      ],
      "execution_count": 9,
      "outputs": [
        {
          "output_type": "stream",
          "text": [
            "12\n"
          ],
          "name": "stdout"
        }
      ]
    },
    {
      "cell_type": "code",
      "metadata": {
        "colab": {
          "base_uri": "https://localhost:8080/"
        },
        "id": "yWj8Yt_k_4d5",
        "outputId": "08005932-7211-4877-e5b5-64ff54a9c6ba"
      },
      "source": [
        "# 2차원 배열의 memory layout 확인 \n",
        "print(my2D_Array.flags)"
      ],
      "execution_count": 10,
      "outputs": [
        {
          "output_type": "stream",
          "text": [
            "  C_CONTIGUOUS : True\n",
            "  F_CONTIGUOUS : False\n",
            "  OWNDATA : True\n",
            "  WRITEABLE : True\n",
            "  ALIGNED : True\n",
            "  WRITEBACKIFCOPY : False\n",
            "  UPDATEIFCOPY : False\n",
            "\n"
          ],
          "name": "stdout"
        }
      ]
    },
    {
      "cell_type": "code",
      "metadata": {
        "colab": {
          "base_uri": "https://localhost:8080/"
        },
        "id": "ROHuQ6FU_6gW",
        "outputId": "55d894e6-ec0d-43c4-8c23-2eae710780e4"
      },
      "source": [
        "# 1차원의 길이 in bytes (예. 숫자는 2bytes)\n",
        "print(my2D_Array.itemsize)"
      ],
      "execution_count": 11,
      "outputs": [
        {
          "output_type": "stream",
          "text": [
            "8\n"
          ],
          "name": "stdout"
        }
      ]
    },
    {
      "cell_type": "code",
      "metadata": {
        "colab": {
          "base_uri": "https://localhost:8080/"
        },
        "id": "faWyVXZI_8Zm",
        "outputId": "0bda80f0-cd18-477f-f3b2-4ead4a084fe5"
      },
      "source": [
        "# 전체 bytes\n",
        "print(my2D_Array.nbytes)"
      ],
      "execution_count": 12,
      "outputs": [
        {
          "output_type": "stream",
          "text": [
            "96\n"
          ],
          "name": "stdout"
        }
      ]
    }
  ]
}