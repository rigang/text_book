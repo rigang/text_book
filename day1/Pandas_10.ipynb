{
  "nbformat": 4,
  "nbformat_minor": 0,
  "metadata": {
    "colab": {
      "name": "Pandas 10.ipynb",
      "provenance": [],
      "collapsed_sections": [],
      "authorship_tag": "ABX9TyNkMOhK2r7eQOphookhdJHe"
    },
    "kernelspec": {
      "name": "python3",
      "display_name": "Python 3"
    }
  },
  "cells": [
    {
      "cell_type": "markdown",
      "metadata": {
        "id": "6z4ZHxUj0Ktv"
      },
      "source": [
        "일반적으로 각 패캐지는 pd,np,plt라는 이름으로 불러옵니다."
      ]
    },
    {
      "cell_type": "code",
      "metadata": {
        "id": "_QGSUDN2xSvi"
      },
      "source": [
        "import pandas as pd\n"
      ],
      "execution_count": null,
      "outputs": []
    },
    {
      "cell_type": "code",
      "metadata": {
        "id": "BuW8EvBkxdxc"
      },
      "source": [
        "import numpy as np\n"
      ],
      "execution_count": null,
      "outputs": []
    },
    {
      "cell_type": "code",
      "metadata": {
        "id": "JywLEH7txdge"
      },
      "source": [
        "import matplotlib.pyplot as plt\n"
      ],
      "execution_count": null,
      "outputs": []
    },
    {
      "cell_type": "code",
      "metadata": {
        "id": "2Jffs6c0wJPs",
        "outputId": "468b3576-b80c-4c65-dc35-e5081d7a606b",
        "colab": {
          "base_uri": "https://localhost:8080/"
        }
      },
      "source": [
        "s = pd.Series([1,3,5,np.nan,6,8])\n",
        "s"
      ],
      "execution_count": null,
      "outputs": [
        {
          "output_type": "execute_result",
          "data": {
            "text/plain": [
              "0    1.0\n",
              "1    3.0\n",
              "2    5.0\n",
              "3    NaN\n",
              "4    6.0\n",
              "5    8.0\n",
              "dtype: float64"
            ]
          },
          "metadata": {
            "tags": []
          },
          "execution_count": 7
        }
      ]
    },
    {
      "cell_type": "markdown",
      "metadata": {
        "id": "cdzexgK_0w-_"
      },
      "source": [
        "datetime 인덱스와 레이블이 있는 열을 가지고 있는 numpy 배열을 전달하여 데이터프레임을 만듭니다."
      ]
    },
    {
      "cell_type": "code",
      "metadata": {
        "id": "PAGlCYjYxqqU",
        "outputId": "f3689f26-ed97-466e-fafd-0b7f9ace249a",
        "colab": {
          "base_uri": "https://localhost:8080/"
        }
      },
      "source": [
        "dates = pd.date_range('20130101', periods=6)\n",
        "\n"
      ],
      "execution_count": null,
      "outputs": [
        {
          "output_type": "execute_result",
          "data": {
            "text/plain": [
              "DatetimeIndex(['2013-01-01', '2013-01-02', '2013-01-03', '2013-01-04',\n",
              "               '2013-01-05', '2013-01-06'],\n",
              "              dtype='datetime64[ns]', freq='D')"
            ]
          },
          "metadata": {
            "tags": []
          },
          "execution_count": 8
        }
      ]
    },
    {
      "cell_type": "code",
      "metadata": {
        "id": "k0skdxTlyBkH",
        "outputId": "ef132807-f28b-46ec-dfd0-c2f1df9df4ca",
        "colab": {
          "base_uri": "https://localhost:8080/",
          "height": 225
        }
      },
      "source": [
        "df = pd.DataFrame(np.random.randn(6,4), index=dates, columns=list('ABCD'))\n",
        "df"
      ],
      "execution_count": null,
      "outputs": [
        {
          "output_type": "execute_result",
          "data": {
            "text/html": [
              "<div>\n",
              "<style scoped>\n",
              "    .dataframe tbody tr th:only-of-type {\n",
              "        vertical-align: middle;\n",
              "    }\n",
              "\n",
              "    .dataframe tbody tr th {\n",
              "        vertical-align: top;\n",
              "    }\n",
              "\n",
              "    .dataframe thead th {\n",
              "        text-align: right;\n",
              "    }\n",
              "</style>\n",
              "<table border=\"1\" class=\"dataframe\">\n",
              "  <thead>\n",
              "    <tr style=\"text-align: right;\">\n",
              "      <th></th>\n",
              "      <th>A</th>\n",
              "      <th>B</th>\n",
              "      <th>C</th>\n",
              "      <th>D</th>\n",
              "    </tr>\n",
              "  </thead>\n",
              "  <tbody>\n",
              "    <tr>\n",
              "      <th>2013-01-01</th>\n",
              "      <td>0.194410</td>\n",
              "      <td>0.121056</td>\n",
              "      <td>0.605077</td>\n",
              "      <td>-0.280678</td>\n",
              "    </tr>\n",
              "    <tr>\n",
              "      <th>2013-01-02</th>\n",
              "      <td>-1.718574</td>\n",
              "      <td>0.414487</td>\n",
              "      <td>-1.069257</td>\n",
              "      <td>1.509118</td>\n",
              "    </tr>\n",
              "    <tr>\n",
              "      <th>2013-01-03</th>\n",
              "      <td>-1.119921</td>\n",
              "      <td>1.280441</td>\n",
              "      <td>2.158715</td>\n",
              "      <td>-0.043198</td>\n",
              "    </tr>\n",
              "    <tr>\n",
              "      <th>2013-01-04</th>\n",
              "      <td>-0.013501</td>\n",
              "      <td>0.678404</td>\n",
              "      <td>0.293569</td>\n",
              "      <td>-0.922581</td>\n",
              "    </tr>\n",
              "    <tr>\n",
              "      <th>2013-01-05</th>\n",
              "      <td>0.510088</td>\n",
              "      <td>-0.067553</td>\n",
              "      <td>0.671222</td>\n",
              "      <td>-0.521168</td>\n",
              "    </tr>\n",
              "    <tr>\n",
              "      <th>2013-01-06</th>\n",
              "      <td>-1.230430</td>\n",
              "      <td>-0.175668</td>\n",
              "      <td>0.395325</td>\n",
              "      <td>1.107810</td>\n",
              "    </tr>\n",
              "  </tbody>\n",
              "</table>\n",
              "</div>"
            ],
            "text/plain": [
              "                   A         B         C         D\n",
              "2013-01-01  0.194410  0.121056  0.605077 -0.280678\n",
              "2013-01-02 -1.718574  0.414487 -1.069257  1.509118\n",
              "2013-01-03 -1.119921  1.280441  2.158715 -0.043198\n",
              "2013-01-04 -0.013501  0.678404  0.293569 -0.922581\n",
              "2013-01-05  0.510088 -0.067553  0.671222 -0.521168\n",
              "2013-01-06 -1.230430 -0.175668  0.395325  1.107810"
            ]
          },
          "metadata": {
            "tags": []
          },
          "execution_count": 11
        }
      ]
    },
    {
      "cell_type": "markdown",
      "metadata": {
        "id": "Scjqlbjq1zt2"
      },
      "source": [
        "series와 같은 것으로 변환될 수 있는 객체들의 dict로 구성된 데이터프레임을 만듭니다."
      ]
    },
    {
      "cell_type": "code",
      "metadata": {
        "id": "UOsSmXUj1IPx",
        "outputId": "0f12beab-ecbc-462e-b87f-d6e159d6649d",
        "colab": {
          "base_uri": "https://localhost:8080/",
          "height": 166
        }
      },
      "source": [
        "df2 = pd.DataFrame({'A' : 1.,\n",
        "                    'B' : pd.Timestamp('20130102'),\n",
        "                    'C' : pd.Series(1,index=list(range(4)),dtype='float32'),\n",
        "                    'D' : np.array([3] * 4,dtype='int32'),\n",
        "                    'E' : pd.Categorical([\"test\",\"train\",\"test\",\"train\"]),\n",
        "                    'F' : 'foo' })\n",
        "\n",
        "df2"
      ],
      "execution_count": null,
      "outputs": [
        {
          "output_type": "execute_result",
          "data": {
            "text/html": [
              "<div>\n",
              "<style scoped>\n",
              "    .dataframe tbody tr th:only-of-type {\n",
              "        vertical-align: middle;\n",
              "    }\n",
              "\n",
              "    .dataframe tbody tr th {\n",
              "        vertical-align: top;\n",
              "    }\n",
              "\n",
              "    .dataframe thead th {\n",
              "        text-align: right;\n",
              "    }\n",
              "</style>\n",
              "<table border=\"1\" class=\"dataframe\">\n",
              "  <thead>\n",
              "    <tr style=\"text-align: right;\">\n",
              "      <th></th>\n",
              "      <th>A</th>\n",
              "      <th>B</th>\n",
              "      <th>C</th>\n",
              "      <th>D</th>\n",
              "      <th>E</th>\n",
              "      <th>F</th>\n",
              "    </tr>\n",
              "  </thead>\n",
              "  <tbody>\n",
              "    <tr>\n",
              "      <th>0</th>\n",
              "      <td>1.0</td>\n",
              "      <td>2013-01-02</td>\n",
              "      <td>1.0</td>\n",
              "      <td>3</td>\n",
              "      <td>test</td>\n",
              "      <td>foo</td>\n",
              "    </tr>\n",
              "    <tr>\n",
              "      <th>1</th>\n",
              "      <td>1.0</td>\n",
              "      <td>2013-01-02</td>\n",
              "      <td>1.0</td>\n",
              "      <td>3</td>\n",
              "      <td>train</td>\n",
              "      <td>foo</td>\n",
              "    </tr>\n",
              "    <tr>\n",
              "      <th>2</th>\n",
              "      <td>1.0</td>\n",
              "      <td>2013-01-02</td>\n",
              "      <td>1.0</td>\n",
              "      <td>3</td>\n",
              "      <td>test</td>\n",
              "      <td>foo</td>\n",
              "    </tr>\n",
              "    <tr>\n",
              "      <th>3</th>\n",
              "      <td>1.0</td>\n",
              "      <td>2013-01-02</td>\n",
              "      <td>1.0</td>\n",
              "      <td>3</td>\n",
              "      <td>train</td>\n",
              "      <td>foo</td>\n",
              "    </tr>\n",
              "  </tbody>\n",
              "</table>\n",
              "</div>"
            ],
            "text/plain": [
              "     A          B    C  D      E    F\n",
              "0  1.0 2013-01-02  1.0  3   test  foo\n",
              "1  1.0 2013-01-02  1.0  3  train  foo\n",
              "2  1.0 2013-01-02  1.0  3   test  foo\n",
              "3  1.0 2013-01-02  1.0  3  train  foo"
            ]
          },
          "metadata": {
            "tags": []
          },
          "execution_count": 15
        }
      ]
    },
    {
      "cell_type": "markdown",
      "metadata": {
        "id": "YiyLBHJO2s9A"
      },
      "source": [
        "데이터프레임 결과물의 열은 다양한 데이터타입 (dtypes)으로 구성됩니다.\n"
      ]
    },
    {
      "cell_type": "code",
      "metadata": {
        "id": "98Yt8eKW3uMn",
        "outputId": "dcbb5989-a615-4b1d-c0b6-aeb2ad0c5139",
        "colab": {
          "base_uri": "https://localhost:8080/"
        }
      },
      "source": [
        "df2.dtypes"
      ],
      "execution_count": null,
      "outputs": [
        {
          "output_type": "execute_result",
          "data": {
            "text/plain": [
              "A           float64\n",
              "B    datetime64[ns]\n",
              "C           float32\n",
              "D             int32\n",
              "E          category\n",
              "F            object\n",
              "dtype: object"
            ]
          },
          "metadata": {
            "tags": []
          },
          "execution_count": 16
        }
      ]
    },
    {
      "cell_type": "markdown",
      "metadata": {
        "id": "EoI5KrL933oZ"
      },
      "source": [
        "ipython을 이용하고 계시다면(공용 속성을 포함한) 열 이름에 대한 tap 자동완성 기능이 자동으로 활성화 됩니다, 다음은 완성될 속성에 대한 부분집합(subset)입니다.\n"
      ]
    },
    {
      "cell_type": "markdown",
      "metadata": {
        "id": "v3UL-0R14lho"
      },
      "source": [
        "역자주 :아래 제시된 코드의 경우, iPython이 아닌 환경(Google Colaboratory, Juoyter 등)에서는 사용이 불가능한 코드인 점에 주의하세요."
      ]
    },
    {
      "cell_type": "code",
      "metadata": {
        "id": "zaMWk1Ex4kEO"
      },
      "source": [
        "# df2.<TAB>"
      ],
      "execution_count": null,
      "outputs": []
    },
    {
      "cell_type": "markdown",
      "metadata": {
        "id": "_mEVXeWT59vO"
      },
      "source": [
        "2. Viewing Data (데이터 확인하기)\n"
      ]
    },
    {
      "cell_type": "markdown",
      "metadata": {
        "id": "HJBHIY3F6c2B"
      },
      "source": [
        "Basic Section을 참조하세요.\n",
        "\n",
        "데이터프레임의 가장 윗 줄과 마지막 줄을 확인하고 싶을 때에 사용하는 방법은 다음과 같습니다.\n",
        "\n",
        "역자 주: 괄호() 안에는 숫자가 들어갈 수도 있고 안 들어갈 수도 있습니다. 숫자가 들어간다면, 윗 / 마지막 줄의 특정 줄을 불러올 수 있습니다. 숫자가 들어가지 않다면, 기본값인 5로 처리됩니다."
      ]
    },
    {
      "cell_type": "markdown",
      "metadata": {
        "id": "fUQr1kwOxJW9"
      },
      "source": [
        "예시"
      ]
    },
    {
      "cell_type": "code",
      "metadata": {
        "id": "n9uGE3bo6qbJ",
        "outputId": "5c4bace3-0ed6-45ea-da19-1101366b98e7",
        "colab": {
          "base_uri": "https://localhost:8080/",
          "height": 195
        }
      },
      "source": [
        "df.tail(3) # 끝에서 마지막 3줄을 불러옴\n",
        "df.tail()  # 끝에서 마지막 5중르 불러옴\n",
        "\n",
        "df.head()\n"
      ],
      "execution_count": null,
      "outputs": [
        {
          "output_type": "execute_result",
          "data": {
            "text/html": [
              "<div>\n",
              "<style scoped>\n",
              "    .dataframe tbody tr th:only-of-type {\n",
              "        vertical-align: middle;\n",
              "    }\n",
              "\n",
              "    .dataframe tbody tr th {\n",
              "        vertical-align: top;\n",
              "    }\n",
              "\n",
              "    .dataframe thead th {\n",
              "        text-align: right;\n",
              "    }\n",
              "</style>\n",
              "<table border=\"1\" class=\"dataframe\">\n",
              "  <thead>\n",
              "    <tr style=\"text-align: right;\">\n",
              "      <th></th>\n",
              "      <th>A</th>\n",
              "      <th>B</th>\n",
              "      <th>C</th>\n",
              "      <th>D</th>\n",
              "    </tr>\n",
              "  </thead>\n",
              "  <tbody>\n",
              "    <tr>\n",
              "      <th>2013-01-01</th>\n",
              "      <td>0.194410</td>\n",
              "      <td>0.121056</td>\n",
              "      <td>0.605077</td>\n",
              "      <td>-0.280678</td>\n",
              "    </tr>\n",
              "    <tr>\n",
              "      <th>2013-01-02</th>\n",
              "      <td>-1.718574</td>\n",
              "      <td>0.414487</td>\n",
              "      <td>-1.069257</td>\n",
              "      <td>1.509118</td>\n",
              "    </tr>\n",
              "    <tr>\n",
              "      <th>2013-01-03</th>\n",
              "      <td>-1.119921</td>\n",
              "      <td>1.280441</td>\n",
              "      <td>2.158715</td>\n",
              "      <td>-0.043198</td>\n",
              "    </tr>\n",
              "    <tr>\n",
              "      <th>2013-01-04</th>\n",
              "      <td>-0.013501</td>\n",
              "      <td>0.678404</td>\n",
              "      <td>0.293569</td>\n",
              "      <td>-0.922581</td>\n",
              "    </tr>\n",
              "    <tr>\n",
              "      <th>2013-01-05</th>\n",
              "      <td>0.510088</td>\n",
              "      <td>-0.067553</td>\n",
              "      <td>0.671222</td>\n",
              "      <td>-0.521168</td>\n",
              "    </tr>\n",
              "  </tbody>\n",
              "</table>\n",
              "</div>"
            ],
            "text/plain": [
              "                   A         B         C         D\n",
              "2013-01-01  0.194410  0.121056  0.605077 -0.280678\n",
              "2013-01-02 -1.718574  0.414487 -1.069257  1.509118\n",
              "2013-01-03 -1.119921  1.280441  2.158715 -0.043198\n",
              "2013-01-04 -0.013501  0.678404  0.293569 -0.922581\n",
              "2013-01-05  0.510088 -0.067553  0.671222 -0.521168"
            ]
          },
          "metadata": {
            "tags": []
          },
          "execution_count": 25
        }
      ]
    },
    {
      "cell_type": "code",
      "metadata": {
        "id": "hrmF4XeQ7Mf5",
        "outputId": "501f536b-613c-415d-d77d-000c4d6c6eb3",
        "colab": {
          "base_uri": "https://localhost:8080/",
          "height": 136
        }
      },
      "source": [
        "df.tail(3)\n"
      ],
      "execution_count": null,
      "outputs": [
        {
          "output_type": "execute_result",
          "data": {
            "text/html": [
              "<div>\n",
              "<style scoped>\n",
              "    .dataframe tbody tr th:only-of-type {\n",
              "        vertical-align: middle;\n",
              "    }\n",
              "\n",
              "    .dataframe tbody tr th {\n",
              "        vertical-align: top;\n",
              "    }\n",
              "\n",
              "    .dataframe thead th {\n",
              "        text-align: right;\n",
              "    }\n",
              "</style>\n",
              "<table border=\"1\" class=\"dataframe\">\n",
              "  <thead>\n",
              "    <tr style=\"text-align: right;\">\n",
              "      <th></th>\n",
              "      <th>A</th>\n",
              "      <th>B</th>\n",
              "      <th>C</th>\n",
              "      <th>D</th>\n",
              "    </tr>\n",
              "  </thead>\n",
              "  <tbody>\n",
              "    <tr>\n",
              "      <th>2013-01-04</th>\n",
              "      <td>-0.013501</td>\n",
              "      <td>0.678404</td>\n",
              "      <td>0.293569</td>\n",
              "      <td>-0.922581</td>\n",
              "    </tr>\n",
              "    <tr>\n",
              "      <th>2013-01-05</th>\n",
              "      <td>0.510088</td>\n",
              "      <td>-0.067553</td>\n",
              "      <td>0.671222</td>\n",
              "      <td>-0.521168</td>\n",
              "    </tr>\n",
              "    <tr>\n",
              "      <th>2013-01-06</th>\n",
              "      <td>-1.230430</td>\n",
              "      <td>-0.175668</td>\n",
              "      <td>0.395325</td>\n",
              "      <td>1.107810</td>\n",
              "    </tr>\n",
              "  </tbody>\n",
              "</table>\n",
              "</div>"
            ],
            "text/plain": [
              "                   A         B         C         D\n",
              "2013-01-04 -0.013501  0.678404  0.293569 -0.922581\n",
              "2013-01-05  0.510088 -0.067553  0.671222 -0.521168\n",
              "2013-01-06 -1.230430 -0.175668  0.395325  1.107810"
            ]
          },
          "metadata": {
            "tags": []
          },
          "execution_count": 26
        }
      ]
    },
    {
      "cell_type": "markdown",
      "metadata": {
        "id": "Arsxk5mm7U00"
      },
      "source": [
        "인덱스(index), 열(column) 그리고 numpy 데이터에 대한 세부 정보를 봅니다.\n"
      ]
    },
    {
      "cell_type": "code",
      "metadata": {
        "id": "g_GvFiPz7nnz",
        "outputId": "1687fb8a-2b70-4543-ebba-6af977553c41",
        "colab": {
          "base_uri": "https://localhost:8080/"
        }
      },
      "source": [
        "df.index"
      ],
      "execution_count": null,
      "outputs": [
        {
          "output_type": "execute_result",
          "data": {
            "text/plain": [
              "DatetimeIndex(['2013-01-01', '2013-01-02', '2013-01-03', '2013-01-04',\n",
              "               '2013-01-05', '2013-01-06'],\n",
              "              dtype='datetime64[ns]', freq='D')"
            ]
          },
          "metadata": {
            "tags": []
          },
          "execution_count": 27
        }
      ]
    },
    {
      "cell_type": "code",
      "metadata": {
        "id": "GTYyL15R7svz",
        "outputId": "4a5f4791-1e99-4384-877f-6902b95f6ddb",
        "colab": {
          "base_uri": "https://localhost:8080/"
        }
      },
      "source": [
        "df.columns"
      ],
      "execution_count": null,
      "outputs": [
        {
          "output_type": "execute_result",
          "data": {
            "text/plain": [
              "Index(['A', 'B', 'C', 'D'], dtype='object')"
            ]
          },
          "metadata": {
            "tags": []
          },
          "execution_count": 28
        }
      ]
    },
    {
      "cell_type": "code",
      "metadata": {
        "id": "rWaUeENQ7wZ1",
        "outputId": "e07f986a-fdb6-4369-fd93-ade833749e12",
        "colab": {
          "base_uri": "https://localhost:8080/"
        }
      },
      "source": [
        "df.values"
      ],
      "execution_count": null,
      "outputs": [
        {
          "output_type": "execute_result",
          "data": {
            "text/plain": [
              "array([[ 0.19440965,  0.12105647,  0.60507694, -0.28067799],\n",
              "       [-1.71857419,  0.4144867 , -1.06925745,  1.50911777],\n",
              "       [-1.11992105,  1.28044147,  2.1587148 , -0.04319846],\n",
              "       [-0.01350082,  0.67840392,  0.29356863, -0.92258135],\n",
              "       [ 0.51008767, -0.06755282,  0.67122177, -0.52116846],\n",
              "       [-1.23043047, -0.17566823,  0.39532528,  1.10781011]])"
            ]
          },
          "metadata": {
            "tags": []
          },
          "execution_count": 29
        }
      ]
    },
    {
      "cell_type": "markdown",
      "metadata": {
        "id": "M_NDiFiB705D"
      },
      "source": [
        "describe()는 데이터의 대략적인 통계적 정보 요약을 보여줍니다."
      ]
    },
    {
      "cell_type": "code",
      "metadata": {
        "id": "JmLHOzVR7_N3",
        "outputId": "c0a06b23-02ce-4b44-fc8a-195ab5d82034",
        "colab": {
          "base_uri": "https://localhost:8080/",
          "height": 284
        }
      },
      "source": [
        "df.describe()"
      ],
      "execution_count": null,
      "outputs": [
        {
          "output_type": "execute_result",
          "data": {
            "text/html": [
              "<div>\n",
              "<style scoped>\n",
              "    .dataframe tbody tr th:only-of-type {\n",
              "        vertical-align: middle;\n",
              "    }\n",
              "\n",
              "    .dataframe tbody tr th {\n",
              "        vertical-align: top;\n",
              "    }\n",
              "\n",
              "    .dataframe thead th {\n",
              "        text-align: right;\n",
              "    }\n",
              "</style>\n",
              "<table border=\"1\" class=\"dataframe\">\n",
              "  <thead>\n",
              "    <tr style=\"text-align: right;\">\n",
              "      <th></th>\n",
              "      <th>A</th>\n",
              "      <th>B</th>\n",
              "      <th>C</th>\n",
              "      <th>D</th>\n",
              "    </tr>\n",
              "  </thead>\n",
              "  <tbody>\n",
              "    <tr>\n",
              "      <th>count</th>\n",
              "      <td>6.000000</td>\n",
              "      <td>6.000000</td>\n",
              "      <td>6.000000</td>\n",
              "      <td>6.000000</td>\n",
              "    </tr>\n",
              "    <tr>\n",
              "      <th>mean</th>\n",
              "      <td>-0.562988</td>\n",
              "      <td>0.375195</td>\n",
              "      <td>0.509108</td>\n",
              "      <td>0.141550</td>\n",
              "    </tr>\n",
              "    <tr>\n",
              "      <th>std</th>\n",
              "      <td>0.907536</td>\n",
              "      <td>0.543510</td>\n",
              "      <td>1.030275</td>\n",
              "      <td>0.957902</td>\n",
              "    </tr>\n",
              "    <tr>\n",
              "      <th>min</th>\n",
              "      <td>-1.718574</td>\n",
              "      <td>-0.175668</td>\n",
              "      <td>-1.069257</td>\n",
              "      <td>-0.922581</td>\n",
              "    </tr>\n",
              "    <tr>\n",
              "      <th>25%</th>\n",
              "      <td>-1.202803</td>\n",
              "      <td>-0.020400</td>\n",
              "      <td>0.319008</td>\n",
              "      <td>-0.461046</td>\n",
              "    </tr>\n",
              "    <tr>\n",
              "      <th>50%</th>\n",
              "      <td>-0.566711</td>\n",
              "      <td>0.267772</td>\n",
              "      <td>0.500201</td>\n",
              "      <td>-0.161938</td>\n",
              "    </tr>\n",
              "    <tr>\n",
              "      <th>75%</th>\n",
              "      <td>0.142432</td>\n",
              "      <td>0.612425</td>\n",
              "      <td>0.654686</td>\n",
              "      <td>0.820058</td>\n",
              "    </tr>\n",
              "    <tr>\n",
              "      <th>max</th>\n",
              "      <td>0.510088</td>\n",
              "      <td>1.280441</td>\n",
              "      <td>2.158715</td>\n",
              "      <td>1.509118</td>\n",
              "    </tr>\n",
              "  </tbody>\n",
              "</table>\n",
              "</div>"
            ],
            "text/plain": [
              "              A         B         C         D\n",
              "count  6.000000  6.000000  6.000000  6.000000\n",
              "mean  -0.562988  0.375195  0.509108  0.141550\n",
              "std    0.907536  0.543510  1.030275  0.957902\n",
              "min   -1.718574 -0.175668 -1.069257 -0.922581\n",
              "25%   -1.202803 -0.020400  0.319008 -0.461046\n",
              "50%   -0.566711  0.267772  0.500201 -0.161938\n",
              "75%    0.142432  0.612425  0.654686  0.820058\n",
              "max    0.510088  1.280441  2.158715  1.509118"
            ]
          },
          "metadata": {
            "tags": []
          },
          "execution_count": 30
        }
      ]
    },
    {
      "cell_type": "markdown",
      "metadata": {
        "id": "BEBPcaTn8J_k"
      },
      "source": [
        "축 별로 정렬합니다."
      ]
    },
    {
      "cell_type": "markdown",
      "metadata": {
        "id": "69lLhWkWxc7V"
      },
      "source": [
        "데이터를 전치합니다."
      ]
    },
    {
      "cell_type": "code",
      "metadata": {
        "id": "iXEuaePHxgMG",
        "outputId": "0afdbc74-9756-4d62-a800-b37059fd506d",
        "colab": {
          "base_uri": "https://localhost:8080/",
          "height": 231
        }
      },
      "source": [
        "df.T"
      ],
      "execution_count": 137,
      "outputs": [
        {
          "output_type": "execute_result",
          "data": {
            "text/html": [
              "<div>\n",
              "<style scoped>\n",
              "    .dataframe tbody tr th:only-of-type {\n",
              "        vertical-align: middle;\n",
              "    }\n",
              "\n",
              "    .dataframe tbody tr th {\n",
              "        vertical-align: top;\n",
              "    }\n",
              "\n",
              "    .dataframe thead th {\n",
              "        text-align: right;\n",
              "    }\n",
              "</style>\n",
              "<table border=\"1\" class=\"dataframe\">\n",
              "  <thead>\n",
              "    <tr style=\"text-align: right;\">\n",
              "      <th></th>\n",
              "      <th>2000-01-01</th>\n",
              "      <th>2000-01-02</th>\n",
              "      <th>2000-01-03</th>\n",
              "      <th>2000-01-04</th>\n",
              "      <th>2000-01-05</th>\n",
              "      <th>2000-01-06</th>\n",
              "      <th>2000-01-07</th>\n",
              "      <th>2000-01-08</th>\n",
              "      <th>2000-01-09</th>\n",
              "      <th>2000-01-10</th>\n",
              "      <th>2000-01-11</th>\n",
              "      <th>2000-01-12</th>\n",
              "      <th>2000-01-13</th>\n",
              "      <th>2000-01-14</th>\n",
              "      <th>2000-01-15</th>\n",
              "      <th>2000-01-16</th>\n",
              "      <th>2000-01-17</th>\n",
              "      <th>2000-01-18</th>\n",
              "      <th>2000-01-19</th>\n",
              "      <th>2000-01-20</th>\n",
              "      <th>2000-01-21</th>\n",
              "      <th>2000-01-22</th>\n",
              "      <th>2000-01-23</th>\n",
              "      <th>2000-01-24</th>\n",
              "      <th>2000-01-25</th>\n",
              "      <th>2000-01-26</th>\n",
              "      <th>2000-01-27</th>\n",
              "      <th>2000-01-28</th>\n",
              "      <th>2000-01-29</th>\n",
              "      <th>2000-01-30</th>\n",
              "      <th>2000-01-31</th>\n",
              "      <th>2000-02-01</th>\n",
              "      <th>2000-02-02</th>\n",
              "      <th>2000-02-03</th>\n",
              "      <th>2000-02-04</th>\n",
              "      <th>2000-02-05</th>\n",
              "      <th>2000-02-06</th>\n",
              "      <th>2000-02-07</th>\n",
              "      <th>2000-02-08</th>\n",
              "      <th>2000-02-09</th>\n",
              "      <th>...</th>\n",
              "      <th>2002-08-18</th>\n",
              "      <th>2002-08-19</th>\n",
              "      <th>2002-08-20</th>\n",
              "      <th>2002-08-21</th>\n",
              "      <th>2002-08-22</th>\n",
              "      <th>2002-08-23</th>\n",
              "      <th>2002-08-24</th>\n",
              "      <th>2002-08-25</th>\n",
              "      <th>2002-08-26</th>\n",
              "      <th>2002-08-27</th>\n",
              "      <th>2002-08-28</th>\n",
              "      <th>2002-08-29</th>\n",
              "      <th>2002-08-30</th>\n",
              "      <th>2002-08-31</th>\n",
              "      <th>2002-09-01</th>\n",
              "      <th>2002-09-02</th>\n",
              "      <th>2002-09-03</th>\n",
              "      <th>2002-09-04</th>\n",
              "      <th>2002-09-05</th>\n",
              "      <th>2002-09-06</th>\n",
              "      <th>2002-09-07</th>\n",
              "      <th>2002-09-08</th>\n",
              "      <th>2002-09-09</th>\n",
              "      <th>2002-09-10</th>\n",
              "      <th>2002-09-11</th>\n",
              "      <th>2002-09-12</th>\n",
              "      <th>2002-09-13</th>\n",
              "      <th>2002-09-14</th>\n",
              "      <th>2002-09-15</th>\n",
              "      <th>2002-09-16</th>\n",
              "      <th>2002-09-17</th>\n",
              "      <th>2002-09-18</th>\n",
              "      <th>2002-09-19</th>\n",
              "      <th>2002-09-20</th>\n",
              "      <th>2002-09-21</th>\n",
              "      <th>2002-09-22</th>\n",
              "      <th>2002-09-23</th>\n",
              "      <th>2002-09-24</th>\n",
              "      <th>2002-09-25</th>\n",
              "      <th>2002-09-26</th>\n",
              "    </tr>\n",
              "  </thead>\n",
              "  <tbody>\n",
              "    <tr>\n",
              "      <th>A</th>\n",
              "      <td>0.280353</td>\n",
              "      <td>-1.089355</td>\n",
              "      <td>-1.281490</td>\n",
              "      <td>-0.139539</td>\n",
              "      <td>-1.304498</td>\n",
              "      <td>-0.426005</td>\n",
              "      <td>-0.352535</td>\n",
              "      <td>0.618766</td>\n",
              "      <td>0.670575</td>\n",
              "      <td>0.950605</td>\n",
              "      <td>0.710204</td>\n",
              "      <td>0.745780</td>\n",
              "      <td>0.890783</td>\n",
              "      <td>-0.418436</td>\n",
              "      <td>-1.356375</td>\n",
              "      <td>-0.248237</td>\n",
              "      <td>-3.018162</td>\n",
              "      <td>-3.243624</td>\n",
              "      <td>-3.547542</td>\n",
              "      <td>-3.788419</td>\n",
              "      <td>-2.638557</td>\n",
              "      <td>-1.635766</td>\n",
              "      <td>0.709647</td>\n",
              "      <td>2.007808</td>\n",
              "      <td>2.544183</td>\n",
              "      <td>2.966512</td>\n",
              "      <td>3.076038</td>\n",
              "      <td>3.304551</td>\n",
              "      <td>2.983755</td>\n",
              "      <td>2.488460</td>\n",
              "      <td>2.350618</td>\n",
              "      <td>4.030657</td>\n",
              "      <td>3.568770</td>\n",
              "      <td>3.616490</td>\n",
              "      <td>3.215963</td>\n",
              "      <td>3.002183</td>\n",
              "      <td>4.508561</td>\n",
              "      <td>4.812830</td>\n",
              "      <td>5.305472</td>\n",
              "      <td>5.202707</td>\n",
              "      <td>...</td>\n",
              "      <td>21.718138</td>\n",
              "      <td>23.751031</td>\n",
              "      <td>22.959471</td>\n",
              "      <td>23.975053</td>\n",
              "      <td>22.478472</td>\n",
              "      <td>23.533818</td>\n",
              "      <td>24.495161</td>\n",
              "      <td>25.658659</td>\n",
              "      <td>25.745232</td>\n",
              "      <td>26.352025</td>\n",
              "      <td>26.937397</td>\n",
              "      <td>26.530066</td>\n",
              "      <td>24.151473</td>\n",
              "      <td>25.107589</td>\n",
              "      <td>24.647068</td>\n",
              "      <td>25.039945</td>\n",
              "      <td>24.518255</td>\n",
              "      <td>25.497215</td>\n",
              "      <td>25.350343</td>\n",
              "      <td>25.875312</td>\n",
              "      <td>25.080011</td>\n",
              "      <td>24.675983</td>\n",
              "      <td>23.666062</td>\n",
              "      <td>22.568480</td>\n",
              "      <td>23.115090</td>\n",
              "      <td>21.446472</td>\n",
              "      <td>20.332600</td>\n",
              "      <td>20.986947</td>\n",
              "      <td>20.525418</td>\n",
              "      <td>20.530840</td>\n",
              "      <td>19.808840</td>\n",
              "      <td>19.423558</td>\n",
              "      <td>17.395093</td>\n",
              "      <td>18.688758</td>\n",
              "      <td>20.744602</td>\n",
              "      <td>22.347220</td>\n",
              "      <td>21.936443</td>\n",
              "      <td>22.154637</td>\n",
              "      <td>23.114169</td>\n",
              "      <td>22.300030</td>\n",
              "    </tr>\n",
              "    <tr>\n",
              "      <th>B</th>\n",
              "      <td>1.296893</td>\n",
              "      <td>2.847020</td>\n",
              "      <td>2.852504</td>\n",
              "      <td>3.617231</td>\n",
              "      <td>3.649817</td>\n",
              "      <td>3.196368</td>\n",
              "      <td>3.873090</td>\n",
              "      <td>3.735412</td>\n",
              "      <td>3.053499</td>\n",
              "      <td>3.747156</td>\n",
              "      <td>2.941691</td>\n",
              "      <td>1.633961</td>\n",
              "      <td>1.272839</td>\n",
              "      <td>2.671194</td>\n",
              "      <td>2.258448</td>\n",
              "      <td>1.859584</td>\n",
              "      <td>2.177596</td>\n",
              "      <td>2.472521</td>\n",
              "      <td>2.085551</td>\n",
              "      <td>3.178242</td>\n",
              "      <td>3.990413</td>\n",
              "      <td>3.209243</td>\n",
              "      <td>2.909833</td>\n",
              "      <td>2.953295</td>\n",
              "      <td>4.292261</td>\n",
              "      <td>5.379284</td>\n",
              "      <td>5.794625</td>\n",
              "      <td>5.350584</td>\n",
              "      <td>5.986800</td>\n",
              "      <td>8.119934</td>\n",
              "      <td>8.505884</td>\n",
              "      <td>7.435859</td>\n",
              "      <td>7.926210</td>\n",
              "      <td>6.212781</td>\n",
              "      <td>5.584810</td>\n",
              "      <td>4.851334</td>\n",
              "      <td>4.475860</td>\n",
              "      <td>3.988038</td>\n",
              "      <td>4.345505</td>\n",
              "      <td>3.502859</td>\n",
              "      <td>...</td>\n",
              "      <td>18.286614</td>\n",
              "      <td>16.196244</td>\n",
              "      <td>15.110316</td>\n",
              "      <td>15.798372</td>\n",
              "      <td>14.961688</td>\n",
              "      <td>16.132605</td>\n",
              "      <td>15.868768</td>\n",
              "      <td>15.920336</td>\n",
              "      <td>14.375831</td>\n",
              "      <td>12.878878</td>\n",
              "      <td>13.730678</td>\n",
              "      <td>13.842113</td>\n",
              "      <td>14.330895</td>\n",
              "      <td>13.339800</td>\n",
              "      <td>13.778941</td>\n",
              "      <td>14.299954</td>\n",
              "      <td>13.528189</td>\n",
              "      <td>12.924052</td>\n",
              "      <td>12.974457</td>\n",
              "      <td>13.575532</td>\n",
              "      <td>12.833249</td>\n",
              "      <td>11.212887</td>\n",
              "      <td>10.998183</td>\n",
              "      <td>9.621573</td>\n",
              "      <td>7.026658</td>\n",
              "      <td>6.442208</td>\n",
              "      <td>6.758216</td>\n",
              "      <td>5.301073</td>\n",
              "      <td>5.620807</td>\n",
              "      <td>3.761053</td>\n",
              "      <td>2.503068</td>\n",
              "      <td>1.959570</td>\n",
              "      <td>2.319982</td>\n",
              "      <td>2.588816</td>\n",
              "      <td>3.499011</td>\n",
              "      <td>2.491960</td>\n",
              "      <td>1.604322</td>\n",
              "      <td>0.961829</td>\n",
              "      <td>-0.047867</td>\n",
              "      <td>-1.369450</td>\n",
              "    </tr>\n",
              "    <tr>\n",
              "      <th>C</th>\n",
              "      <td>-1.097626</td>\n",
              "      <td>-1.863945</td>\n",
              "      <td>-2.745883</td>\n",
              "      <td>-2.739149</td>\n",
              "      <td>-1.981081</td>\n",
              "      <td>-2.981278</td>\n",
              "      <td>-4.152758</td>\n",
              "      <td>-5.138968</td>\n",
              "      <td>-4.391257</td>\n",
              "      <td>-3.452069</td>\n",
              "      <td>-3.639681</td>\n",
              "      <td>-4.773260</td>\n",
              "      <td>-5.346908</td>\n",
              "      <td>-5.351098</td>\n",
              "      <td>-5.122650</td>\n",
              "      <td>-6.438253</td>\n",
              "      <td>-6.358193</td>\n",
              "      <td>-5.402117</td>\n",
              "      <td>-4.846769</td>\n",
              "      <td>-4.343147</td>\n",
              "      <td>-4.162444</td>\n",
              "      <td>-3.030663</td>\n",
              "      <td>-3.613069</td>\n",
              "      <td>-4.358178</td>\n",
              "      <td>-5.623767</td>\n",
              "      <td>-5.797887</td>\n",
              "      <td>-7.247136</td>\n",
              "      <td>-6.965390</td>\n",
              "      <td>-6.968596</td>\n",
              "      <td>-6.175723</td>\n",
              "      <td>-6.185779</td>\n",
              "      <td>-7.743011</td>\n",
              "      <td>-6.856696</td>\n",
              "      <td>-5.976730</td>\n",
              "      <td>-6.300570</td>\n",
              "      <td>-7.381584</td>\n",
              "      <td>-7.140689</td>\n",
              "      <td>-6.537160</td>\n",
              "      <td>-6.296318</td>\n",
              "      <td>-6.875144</td>\n",
              "      <td>...</td>\n",
              "      <td>60.670070</td>\n",
              "      <td>61.147826</td>\n",
              "      <td>60.732499</td>\n",
              "      <td>59.044951</td>\n",
              "      <td>60.384815</td>\n",
              "      <td>62.140510</td>\n",
              "      <td>61.153133</td>\n",
              "      <td>61.743508</td>\n",
              "      <td>62.611775</td>\n",
              "      <td>63.314422</td>\n",
              "      <td>63.601079</td>\n",
              "      <td>64.427206</td>\n",
              "      <td>62.961413</td>\n",
              "      <td>62.735520</td>\n",
              "      <td>63.691141</td>\n",
              "      <td>64.041031</td>\n",
              "      <td>64.364653</td>\n",
              "      <td>64.736152</td>\n",
              "      <td>64.165030</td>\n",
              "      <td>63.491954</td>\n",
              "      <td>63.613659</td>\n",
              "      <td>63.624532</td>\n",
              "      <td>62.123101</td>\n",
              "      <td>62.065376</td>\n",
              "      <td>62.363569</td>\n",
              "      <td>61.772100</td>\n",
              "      <td>61.838397</td>\n",
              "      <td>61.784562</td>\n",
              "      <td>61.691713</td>\n",
              "      <td>59.899992</td>\n",
              "      <td>61.202667</td>\n",
              "      <td>60.639685</td>\n",
              "      <td>61.195328</td>\n",
              "      <td>63.158920</td>\n",
              "      <td>63.167836</td>\n",
              "      <td>65.458653</td>\n",
              "      <td>66.379792</td>\n",
              "      <td>63.980942</td>\n",
              "      <td>63.231008</td>\n",
              "      <td>61.688241</td>\n",
              "    </tr>\n",
              "    <tr>\n",
              "      <th>D</th>\n",
              "      <td>0.768056</td>\n",
              "      <td>1.719845</td>\n",
              "      <td>1.945448</td>\n",
              "      <td>0.906859</td>\n",
              "      <td>1.387088</td>\n",
              "      <td>0.027732</td>\n",
              "      <td>-0.039092</td>\n",
              "      <td>-0.359943</td>\n",
              "      <td>0.651364</td>\n",
              "      <td>0.503580</td>\n",
              "      <td>-0.733038</td>\n",
              "      <td>0.254961</td>\n",
              "      <td>1.315699</td>\n",
              "      <td>1.292356</td>\n",
              "      <td>2.608023</td>\n",
              "      <td>2.170787</td>\n",
              "      <td>2.519770</td>\n",
              "      <td>4.682775</td>\n",
              "      <td>3.934196</td>\n",
              "      <td>6.754604</td>\n",
              "      <td>7.262403</td>\n",
              "      <td>7.525512</td>\n",
              "      <td>6.836525</td>\n",
              "      <td>7.491718</td>\n",
              "      <td>7.929934</td>\n",
              "      <td>6.646745</td>\n",
              "      <td>7.338339</td>\n",
              "      <td>7.314863</td>\n",
              "      <td>7.446202</td>\n",
              "      <td>6.464945</td>\n",
              "      <td>7.849607</td>\n",
              "      <td>6.801546</td>\n",
              "      <td>6.634883</td>\n",
              "      <td>7.404683</td>\n",
              "      <td>7.544519</td>\n",
              "      <td>7.244643</td>\n",
              "      <td>6.490613</td>\n",
              "      <td>6.336169</td>\n",
              "      <td>6.320106</td>\n",
              "      <td>4.740489</td>\n",
              "      <td>...</td>\n",
              "      <td>20.480634</td>\n",
              "      <td>21.204579</td>\n",
              "      <td>22.231309</td>\n",
              "      <td>22.359975</td>\n",
              "      <td>23.160157</td>\n",
              "      <td>21.124535</td>\n",
              "      <td>21.511923</td>\n",
              "      <td>22.442511</td>\n",
              "      <td>20.889240</td>\n",
              "      <td>20.960025</td>\n",
              "      <td>20.564279</td>\n",
              "      <td>19.205392</td>\n",
              "      <td>18.887180</td>\n",
              "      <td>19.925781</td>\n",
              "      <td>21.442772</td>\n",
              "      <td>21.272023</td>\n",
              "      <td>21.152595</td>\n",
              "      <td>20.836373</td>\n",
              "      <td>20.125997</td>\n",
              "      <td>21.039974</td>\n",
              "      <td>20.810115</td>\n",
              "      <td>20.127476</td>\n",
              "      <td>20.392711</td>\n",
              "      <td>21.135953</td>\n",
              "      <td>20.903940</td>\n",
              "      <td>19.269639</td>\n",
              "      <td>17.702188</td>\n",
              "      <td>18.685570</td>\n",
              "      <td>17.557568</td>\n",
              "      <td>19.186799</td>\n",
              "      <td>19.470451</td>\n",
              "      <td>19.098949</td>\n",
              "      <td>19.130309</td>\n",
              "      <td>19.687573</td>\n",
              "      <td>19.367319</td>\n",
              "      <td>20.122744</td>\n",
              "      <td>20.702678</td>\n",
              "      <td>20.804868</td>\n",
              "      <td>20.532317</td>\n",
              "      <td>20.040329</td>\n",
              "    </tr>\n",
              "  </tbody>\n",
              "</table>\n",
              "<p>4 rows × 1000 columns</p>\n",
              "</div>"
            ],
            "text/plain": [
              "   2000-01-01  2000-01-02  2000-01-03  ...  2002-09-24  2002-09-25  2002-09-26\n",
              "A    0.280353   -1.089355   -1.281490  ...   22.154637   23.114169   22.300030\n",
              "B    1.296893    2.847020    2.852504  ...    0.961829   -0.047867   -1.369450\n",
              "C   -1.097626   -1.863945   -2.745883  ...   63.980942   63.231008   61.688241\n",
              "D    0.768056    1.719845    1.945448  ...   20.804868   20.532317   20.040329\n",
              "\n",
              "[4 rows x 1000 columns]"
            ]
          },
          "metadata": {
            "tags": []
          },
          "execution_count": 137
        }
      ]
    },
    {
      "cell_type": "markdown",
      "metadata": {
        "id": "u5pdOLnlxnOt"
      },
      "source": [
        "축 별로 정렬합니다/\\."
      ]
    },
    {
      "cell_type": "code",
      "metadata": {
        "id": "1rCoSzwt8Nib",
        "outputId": "9d09cf47-86ff-4b18-89e5-1ebcabfb2144",
        "colab": {
          "base_uri": "https://localhost:8080/",
          "height": 225
        }
      },
      "source": [
        "df.sort_index(axis=1, ascending=False)"
      ],
      "execution_count": null,
      "outputs": [
        {
          "output_type": "execute_result",
          "data": {
            "text/html": [
              "<div>\n",
              "<style scoped>\n",
              "    .dataframe tbody tr th:only-of-type {\n",
              "        vertical-align: middle;\n",
              "    }\n",
              "\n",
              "    .dataframe tbody tr th {\n",
              "        vertical-align: top;\n",
              "    }\n",
              "\n",
              "    .dataframe thead th {\n",
              "        text-align: right;\n",
              "    }\n",
              "</style>\n",
              "<table border=\"1\" class=\"dataframe\">\n",
              "  <thead>\n",
              "    <tr style=\"text-align: right;\">\n",
              "      <th></th>\n",
              "      <th>D</th>\n",
              "      <th>C</th>\n",
              "      <th>B</th>\n",
              "      <th>A</th>\n",
              "    </tr>\n",
              "  </thead>\n",
              "  <tbody>\n",
              "    <tr>\n",
              "      <th>2013-01-01</th>\n",
              "      <td>-0.280678</td>\n",
              "      <td>0.605077</td>\n",
              "      <td>0.121056</td>\n",
              "      <td>0.194410</td>\n",
              "    </tr>\n",
              "    <tr>\n",
              "      <th>2013-01-02</th>\n",
              "      <td>1.509118</td>\n",
              "      <td>-1.069257</td>\n",
              "      <td>0.414487</td>\n",
              "      <td>-1.718574</td>\n",
              "    </tr>\n",
              "    <tr>\n",
              "      <th>2013-01-03</th>\n",
              "      <td>-0.043198</td>\n",
              "      <td>2.158715</td>\n",
              "      <td>1.280441</td>\n",
              "      <td>-1.119921</td>\n",
              "    </tr>\n",
              "    <tr>\n",
              "      <th>2013-01-04</th>\n",
              "      <td>-0.922581</td>\n",
              "      <td>0.293569</td>\n",
              "      <td>0.678404</td>\n",
              "      <td>-0.013501</td>\n",
              "    </tr>\n",
              "    <tr>\n",
              "      <th>2013-01-05</th>\n",
              "      <td>-0.521168</td>\n",
              "      <td>0.671222</td>\n",
              "      <td>-0.067553</td>\n",
              "      <td>0.510088</td>\n",
              "    </tr>\n",
              "    <tr>\n",
              "      <th>2013-01-06</th>\n",
              "      <td>1.107810</td>\n",
              "      <td>0.395325</td>\n",
              "      <td>-0.175668</td>\n",
              "      <td>-1.230430</td>\n",
              "    </tr>\n",
              "  </tbody>\n",
              "</table>\n",
              "</div>"
            ],
            "text/plain": [
              "                   D         C         B         A\n",
              "2013-01-01 -0.280678  0.605077  0.121056  0.194410\n",
              "2013-01-02  1.509118 -1.069257  0.414487 -1.718574\n",
              "2013-01-03 -0.043198  2.158715  1.280441 -1.119921\n",
              "2013-01-04 -0.922581  0.293569  0.678404 -0.013501\n",
              "2013-01-05 -0.521168  0.671222 -0.067553  0.510088\n",
              "2013-01-06  1.107810  0.395325 -0.175668 -1.230430"
            ]
          },
          "metadata": {
            "tags": []
          },
          "execution_count": 31
        }
      ]
    },
    {
      "cell_type": "markdown",
      "metadata": {
        "id": "ffFl1JW78Wy9"
      },
      "source": [
        "값 별로 정렬합니다."
      ]
    },
    {
      "cell_type": "code",
      "metadata": {
        "id": "GwL7rdEQ8cj3",
        "outputId": "a3ac1aba-af9d-4058-8952-d8a359446268",
        "colab": {
          "base_uri": "https://localhost:8080/",
          "height": 225
        }
      },
      "source": [
        "df.sort_values(by= 'B')"
      ],
      "execution_count": null,
      "outputs": [
        {
          "output_type": "execute_result",
          "data": {
            "text/html": [
              "<div>\n",
              "<style scoped>\n",
              "    .dataframe tbody tr th:only-of-type {\n",
              "        vertical-align: middle;\n",
              "    }\n",
              "\n",
              "    .dataframe tbody tr th {\n",
              "        vertical-align: top;\n",
              "    }\n",
              "\n",
              "    .dataframe thead th {\n",
              "        text-align: right;\n",
              "    }\n",
              "</style>\n",
              "<table border=\"1\" class=\"dataframe\">\n",
              "  <thead>\n",
              "    <tr style=\"text-align: right;\">\n",
              "      <th></th>\n",
              "      <th>A</th>\n",
              "      <th>B</th>\n",
              "      <th>C</th>\n",
              "      <th>D</th>\n",
              "    </tr>\n",
              "  </thead>\n",
              "  <tbody>\n",
              "    <tr>\n",
              "      <th>2013-01-06</th>\n",
              "      <td>-1.230430</td>\n",
              "      <td>-0.175668</td>\n",
              "      <td>0.395325</td>\n",
              "      <td>1.107810</td>\n",
              "    </tr>\n",
              "    <tr>\n",
              "      <th>2013-01-05</th>\n",
              "      <td>0.510088</td>\n",
              "      <td>-0.067553</td>\n",
              "      <td>0.671222</td>\n",
              "      <td>-0.521168</td>\n",
              "    </tr>\n",
              "    <tr>\n",
              "      <th>2013-01-01</th>\n",
              "      <td>0.194410</td>\n",
              "      <td>0.121056</td>\n",
              "      <td>0.605077</td>\n",
              "      <td>-0.280678</td>\n",
              "    </tr>\n",
              "    <tr>\n",
              "      <th>2013-01-02</th>\n",
              "      <td>-1.718574</td>\n",
              "      <td>0.414487</td>\n",
              "      <td>-1.069257</td>\n",
              "      <td>1.509118</td>\n",
              "    </tr>\n",
              "    <tr>\n",
              "      <th>2013-01-04</th>\n",
              "      <td>-0.013501</td>\n",
              "      <td>0.678404</td>\n",
              "      <td>0.293569</td>\n",
              "      <td>-0.922581</td>\n",
              "    </tr>\n",
              "    <tr>\n",
              "      <th>2013-01-03</th>\n",
              "      <td>-1.119921</td>\n",
              "      <td>1.280441</td>\n",
              "      <td>2.158715</td>\n",
              "      <td>-0.043198</td>\n",
              "    </tr>\n",
              "  </tbody>\n",
              "</table>\n",
              "</div>"
            ],
            "text/plain": [
              "                   A         B         C         D\n",
              "2013-01-06 -1.230430 -0.175668  0.395325  1.107810\n",
              "2013-01-05  0.510088 -0.067553  0.671222 -0.521168\n",
              "2013-01-01  0.194410  0.121056  0.605077 -0.280678\n",
              "2013-01-02 -1.718574  0.414487 -1.069257  1.509118\n",
              "2013-01-04 -0.013501  0.678404  0.293569 -0.922581\n",
              "2013-01-03 -1.119921  1.280441  2.158715 -0.043198"
            ]
          },
          "metadata": {
            "tags": []
          },
          "execution_count": 32
        }
      ]
    },
    {
      "cell_type": "markdown",
      "metadata": {
        "id": "7RT6rf6g8s80"
      },
      "source": [
        "3. Selection(선택)\n",
        "\n",
        "주석(Note): 선택과 설정을 위한 Python/Numpy의 표준화된 표현들이 직관적이며,코드 작성을 위한 양방향 작업에 유용하지만 우리는 pandasd에 죄적화된 데이터 접근 방법인 .at,.iat,.loc 및 .iloc을 추천합니다.\n",
        "\n"
      ]
    },
    {
      "cell_type": "markdown",
      "metadata": {
        "id": "CY5_fFS09mbJ"
      },
      "source": [
        "Getting(데이터 얻기)\n",
        "\n",
        "df.A와 동일한 Series를 생성하는 단일 열을 선택합니다."
      ]
    },
    {
      "cell_type": "code",
      "metadata": {
        "id": "md2380vd927C",
        "outputId": "4700dbfb-5384-41bd-e83d-a122ad17bf77",
        "colab": {
          "base_uri": "https://localhost:8080/"
        }
      },
      "source": [
        "df['A']"
      ],
      "execution_count": null,
      "outputs": [
        {
          "output_type": "execute_result",
          "data": {
            "text/plain": [
              "2013-01-01    0.194410\n",
              "2013-01-02   -1.718574\n",
              "2013-01-03   -1.119921\n",
              "2013-01-04   -0.013501\n",
              "2013-01-05    0.510088\n",
              "2013-01-06   -1.230430\n",
              "Freq: D, Name: A, dtype: float64"
            ]
          },
          "metadata": {
            "tags": []
          },
          "execution_count": 33
        }
      ]
    },
    {
      "cell_type": "markdown",
      "metadata": {
        "id": "Nuv4Yb4z976v"
      },
      "source": [
        "행을 분할하는 []를 통해 선택합니다."
      ]
    },
    {
      "cell_type": "code",
      "metadata": {
        "id": "DCB-3KJM-Be0",
        "outputId": "423ba70d-e9f2-4bdd-bd12-ce04d3571259",
        "colab": {
          "base_uri": "https://localhost:8080/",
          "height": 136
        }
      },
      "source": [
        "df[0:3]"
      ],
      "execution_count": null,
      "outputs": [
        {
          "output_type": "execute_result",
          "data": {
            "text/html": [
              "<div>\n",
              "<style scoped>\n",
              "    .dataframe tbody tr th:only-of-type {\n",
              "        vertical-align: middle;\n",
              "    }\n",
              "\n",
              "    .dataframe tbody tr th {\n",
              "        vertical-align: top;\n",
              "    }\n",
              "\n",
              "    .dataframe thead th {\n",
              "        text-align: right;\n",
              "    }\n",
              "</style>\n",
              "<table border=\"1\" class=\"dataframe\">\n",
              "  <thead>\n",
              "    <tr style=\"text-align: right;\">\n",
              "      <th></th>\n",
              "      <th>A</th>\n",
              "      <th>B</th>\n",
              "      <th>C</th>\n",
              "      <th>D</th>\n",
              "    </tr>\n",
              "  </thead>\n",
              "  <tbody>\n",
              "    <tr>\n",
              "      <th>2013-01-01</th>\n",
              "      <td>0.194410</td>\n",
              "      <td>0.121056</td>\n",
              "      <td>0.605077</td>\n",
              "      <td>-0.280678</td>\n",
              "    </tr>\n",
              "    <tr>\n",
              "      <th>2013-01-02</th>\n",
              "      <td>-1.718574</td>\n",
              "      <td>0.414487</td>\n",
              "      <td>-1.069257</td>\n",
              "      <td>1.509118</td>\n",
              "    </tr>\n",
              "    <tr>\n",
              "      <th>2013-01-03</th>\n",
              "      <td>-1.119921</td>\n",
              "      <td>1.280441</td>\n",
              "      <td>2.158715</td>\n",
              "      <td>-0.043198</td>\n",
              "    </tr>\n",
              "  </tbody>\n",
              "</table>\n",
              "</div>"
            ],
            "text/plain": [
              "                   A         B         C         D\n",
              "2013-01-01  0.194410  0.121056  0.605077 -0.280678\n",
              "2013-01-02 -1.718574  0.414487 -1.069257  1.509118\n",
              "2013-01-03 -1.119921  1.280441  2.158715 -0.043198"
            ]
          },
          "metadata": {
            "tags": []
          },
          "execution_count": 34
        }
      ]
    },
    {
      "cell_type": "code",
      "metadata": {
        "id": "dUrq7BDk-Hbn",
        "outputId": "0fbf6e59-118f-45d4-8568-4df5bf46e5fa",
        "colab": {
          "base_uri": "https://localhost:8080/",
          "height": 136
        }
      },
      "source": [
        "df['20130102' : '20130104']"
      ],
      "execution_count": null,
      "outputs": [
        {
          "output_type": "execute_result",
          "data": {
            "text/html": [
              "<div>\n",
              "<style scoped>\n",
              "    .dataframe tbody tr th:only-of-type {\n",
              "        vertical-align: middle;\n",
              "    }\n",
              "\n",
              "    .dataframe tbody tr th {\n",
              "        vertical-align: top;\n",
              "    }\n",
              "\n",
              "    .dataframe thead th {\n",
              "        text-align: right;\n",
              "    }\n",
              "</style>\n",
              "<table border=\"1\" class=\"dataframe\">\n",
              "  <thead>\n",
              "    <tr style=\"text-align: right;\">\n",
              "      <th></th>\n",
              "      <th>A</th>\n",
              "      <th>B</th>\n",
              "      <th>C</th>\n",
              "      <th>D</th>\n",
              "    </tr>\n",
              "  </thead>\n",
              "  <tbody>\n",
              "    <tr>\n",
              "      <th>2013-01-02</th>\n",
              "      <td>-1.718574</td>\n",
              "      <td>0.414487</td>\n",
              "      <td>-1.069257</td>\n",
              "      <td>1.509118</td>\n",
              "    </tr>\n",
              "    <tr>\n",
              "      <th>2013-01-03</th>\n",
              "      <td>-1.119921</td>\n",
              "      <td>1.280441</td>\n",
              "      <td>2.158715</td>\n",
              "      <td>-0.043198</td>\n",
              "    </tr>\n",
              "    <tr>\n",
              "      <th>2013-01-04</th>\n",
              "      <td>-0.013501</td>\n",
              "      <td>0.678404</td>\n",
              "      <td>0.293569</td>\n",
              "      <td>-0.922581</td>\n",
              "    </tr>\n",
              "  </tbody>\n",
              "</table>\n",
              "</div>"
            ],
            "text/plain": [
              "                   A         B         C         D\n",
              "2013-01-02 -1.718574  0.414487 -1.069257  1.509118\n",
              "2013-01-03 -1.119921  1.280441  2.158715 -0.043198\n",
              "2013-01-04 -0.013501  0.678404  0.293569 -0.922581"
            ]
          },
          "metadata": {
            "tags": []
          },
          "execution_count": 35
        }
      ]
    },
    {
      "cell_type": "markdown",
      "metadata": {
        "id": "OeyNbYHd-SWO"
      },
      "source": [
        "selection by Label (Label 을 통한 선택)\n",
        "\n",
        "Label을 통한 선택에서 더 많은 내용을 확인하세요.\n",
        "\n",
        "라벨을 사용하여 횡단면을 얻습니다."
      ]
    },
    {
      "cell_type": "code",
      "metadata": {
        "id": "iSdCMF_D_kxr",
        "outputId": "bdad11a3-8da1-426a-c403-cfcf33347cf4",
        "colab": {
          "base_uri": "https://localhost:8080/"
        }
      },
      "source": [
        "df.loc[dates[0]]"
      ],
      "execution_count": 36,
      "outputs": [
        {
          "output_type": "execute_result",
          "data": {
            "text/plain": [
              "A    0.194410\n",
              "B    0.121056\n",
              "C    0.605077\n",
              "D   -0.280678\n",
              "Name: 2013-01-01 00:00:00, dtype: float64"
            ]
          },
          "metadata": {
            "tags": []
          },
          "execution_count": 36
        }
      ]
    },
    {
      "cell_type": "markdown",
      "metadata": {
        "id": "Wozhe_FO_wQQ"
      },
      "source": [
        "라벨을 사용하여 여러 축 (의 데이터)을 얻습니다."
      ]
    },
    {
      "cell_type": "code",
      "metadata": {
        "id": "nCbXSzmN_5Y3",
        "outputId": "7024a4f4-1fa2-49ed-88b8-96780a342d0f",
        "colab": {
          "base_uri": "https://localhost:8080/",
          "height": 225
        }
      },
      "source": [
        "df.loc[:,['A','B']]"
      ],
      "execution_count": 37,
      "outputs": [
        {
          "output_type": "execute_result",
          "data": {
            "text/html": [
              "<div>\n",
              "<style scoped>\n",
              "    .dataframe tbody tr th:only-of-type {\n",
              "        vertical-align: middle;\n",
              "    }\n",
              "\n",
              "    .dataframe tbody tr th {\n",
              "        vertical-align: top;\n",
              "    }\n",
              "\n",
              "    .dataframe thead th {\n",
              "        text-align: right;\n",
              "    }\n",
              "</style>\n",
              "<table border=\"1\" class=\"dataframe\">\n",
              "  <thead>\n",
              "    <tr style=\"text-align: right;\">\n",
              "      <th></th>\n",
              "      <th>A</th>\n",
              "      <th>B</th>\n",
              "    </tr>\n",
              "  </thead>\n",
              "  <tbody>\n",
              "    <tr>\n",
              "      <th>2013-01-01</th>\n",
              "      <td>0.194410</td>\n",
              "      <td>0.121056</td>\n",
              "    </tr>\n",
              "    <tr>\n",
              "      <th>2013-01-02</th>\n",
              "      <td>-1.718574</td>\n",
              "      <td>0.414487</td>\n",
              "    </tr>\n",
              "    <tr>\n",
              "      <th>2013-01-03</th>\n",
              "      <td>-1.119921</td>\n",
              "      <td>1.280441</td>\n",
              "    </tr>\n",
              "    <tr>\n",
              "      <th>2013-01-04</th>\n",
              "      <td>-0.013501</td>\n",
              "      <td>0.678404</td>\n",
              "    </tr>\n",
              "    <tr>\n",
              "      <th>2013-01-05</th>\n",
              "      <td>0.510088</td>\n",
              "      <td>-0.067553</td>\n",
              "    </tr>\n",
              "    <tr>\n",
              "      <th>2013-01-06</th>\n",
              "      <td>-1.230430</td>\n",
              "      <td>-0.175668</td>\n",
              "    </tr>\n",
              "  </tbody>\n",
              "</table>\n",
              "</div>"
            ],
            "text/plain": [
              "                   A         B\n",
              "2013-01-01  0.194410  0.121056\n",
              "2013-01-02 -1.718574  0.414487\n",
              "2013-01-03 -1.119921  1.280441\n",
              "2013-01-04 -0.013501  0.678404\n",
              "2013-01-05  0.510088 -0.067553\n",
              "2013-01-06 -1.230430 -0.175668"
            ]
          },
          "metadata": {
            "tags": []
          },
          "execution_count": 37
        }
      ]
    },
    {
      "cell_type": "markdown",
      "metadata": {
        "id": "znQy3QyuAFt3"
      },
      "source": [
        "양쪽 종단점을 포함한 라벨 슬라이싱을 봅니다."
      ]
    },
    {
      "cell_type": "code",
      "metadata": {
        "id": "SkEzW9QcAXgQ",
        "outputId": "2b9dfa98-dc6f-4f69-9f9a-682a062c17b3",
        "colab": {
          "base_uri": "https://localhost:8080/",
          "height": 136
        }
      },
      "source": [
        "df.loc['20130102':'20130104', ['A','B']]"
      ],
      "execution_count": 39,
      "outputs": [
        {
          "output_type": "execute_result",
          "data": {
            "text/html": [
              "<div>\n",
              "<style scoped>\n",
              "    .dataframe tbody tr th:only-of-type {\n",
              "        vertical-align: middle;\n",
              "    }\n",
              "\n",
              "    .dataframe tbody tr th {\n",
              "        vertical-align: top;\n",
              "    }\n",
              "\n",
              "    .dataframe thead th {\n",
              "        text-align: right;\n",
              "    }\n",
              "</style>\n",
              "<table border=\"1\" class=\"dataframe\">\n",
              "  <thead>\n",
              "    <tr style=\"text-align: right;\">\n",
              "      <th></th>\n",
              "      <th>A</th>\n",
              "      <th>B</th>\n",
              "    </tr>\n",
              "  </thead>\n",
              "  <tbody>\n",
              "    <tr>\n",
              "      <th>2013-01-02</th>\n",
              "      <td>-1.718574</td>\n",
              "      <td>0.414487</td>\n",
              "    </tr>\n",
              "    <tr>\n",
              "      <th>2013-01-03</th>\n",
              "      <td>-1.119921</td>\n",
              "      <td>1.280441</td>\n",
              "    </tr>\n",
              "    <tr>\n",
              "      <th>2013-01-04</th>\n",
              "      <td>-0.013501</td>\n",
              "      <td>0.678404</td>\n",
              "    </tr>\n",
              "  </tbody>\n",
              "</table>\n",
              "</div>"
            ],
            "text/plain": [
              "                   A         B\n",
              "2013-01-02 -1.718574  0.414487\n",
              "2013-01-03 -1.119921  1.280441\n",
              "2013-01-04 -0.013501  0.678404"
            ]
          },
          "metadata": {
            "tags": []
          },
          "execution_count": 39
        }
      ]
    },
    {
      "cell_type": "markdown",
      "metadata": {
        "id": "d_CNypHYAptR"
      },
      "source": [
        "반환되는 객체의 차원를 줄입니다."
      ]
    },
    {
      "cell_type": "code",
      "metadata": {
        "id": "oBKyjI4YAvqt",
        "outputId": "dac0a0ec-7723-4c2d-aa7c-8a6e75747a86",
        "colab": {
          "base_uri": "https://localhost:8080/"
        }
      },
      "source": [
        "df.loc['20130102',['A','B']]"
      ],
      "execution_count": 40,
      "outputs": [
        {
          "output_type": "execute_result",
          "data": {
            "text/plain": [
              "A   -1.718574\n",
              "B    0.414487\n",
              "Name: 2013-01-02 00:00:00, dtype: float64"
            ]
          },
          "metadata": {
            "tags": []
          },
          "execution_count": 40
        }
      ]
    },
    {
      "cell_type": "markdown",
      "metadata": {
        "id": "B6inKoSpBEVh"
      },
      "source": [
        "스칼라 값을 얻습니다."
      ]
    },
    {
      "cell_type": "code",
      "metadata": {
        "id": "XZR6vj4JBJXQ",
        "outputId": "cab5bc71-d18d-496b-bb79-49cd0375a9de",
        "colab": {
          "base_uri": "https://localhost:8080/"
        }
      },
      "source": [
        "df.loc[dates[0],'A']"
      ],
      "execution_count": 41,
      "outputs": [
        {
          "output_type": "execute_result",
          "data": {
            "text/plain": [
              "0.19440964706320546"
            ]
          },
          "metadata": {
            "tags": []
          },
          "execution_count": 41
        }
      ]
    },
    {
      "cell_type": "markdown",
      "metadata": {
        "id": "t1GqfEU2BStr"
      },
      "source": [
        "스칼라 값을 더 빠르게 구하는 방법입니다.( 앞선 메소드와 동일합니다,)"
      ]
    },
    {
      "cell_type": "code",
      "metadata": {
        "id": "PNA8fTD8Bc1E",
        "outputId": "911b7e32-0ebf-4795-eb81-5966e89b65f6",
        "colab": {
          "base_uri": "https://localhost:8080/"
        }
      },
      "source": [
        "df.at[dates[0],'A']"
      ],
      "execution_count": 42,
      "outputs": [
        {
          "output_type": "execute_result",
          "data": {
            "text/plain": [
              "0.19440964706320546"
            ]
          },
          "metadata": {
            "tags": []
          },
          "execution_count": 42
        }
      ]
    },
    {
      "cell_type": "markdown",
      "metadata": {
        "id": "bOomvNyBBlkz"
      },
      "source": [
        "Selection by Position(위치로 선택하기)\n",
        "\n",
        "자세한 내용을 위치로 선택하기를 참고해주세요.\n",
        "\n",
        "넘겨받은 정수의 위치를 기준으로 선택합니다."
      ]
    },
    {
      "cell_type": "code",
      "metadata": {
        "id": "3wQWBqQJB7cV",
        "outputId": "37c866c9-0161-4c44-a8e4-1a3d06b53647",
        "colab": {
          "base_uri": "https://localhost:8080/"
        }
      },
      "source": [
        "df.iloc[3]"
      ],
      "execution_count": 43,
      "outputs": [
        {
          "output_type": "execute_result",
          "data": {
            "text/plain": [
              "A   -0.013501\n",
              "B    0.678404\n",
              "C    0.293569\n",
              "D   -0.922581\n",
              "Name: 2013-01-04 00:00:00, dtype: float64"
            ]
          },
          "metadata": {
            "tags": []
          },
          "execution_count": 43
        }
      ]
    },
    {
      "cell_type": "markdown",
      "metadata": {
        "id": "d1yC3_deCD2v"
      },
      "source": [
        "정수로 표기된 슬라이들을 통해, numpy/python과 유사하게 작동합니다."
      ]
    },
    {
      "cell_type": "code",
      "metadata": {
        "id": "u7S5xMBzCOQz",
        "outputId": "1522078d-6f62-4044-b1fc-3820810f3e71",
        "colab": {
          "base_uri": "https://localhost:8080/",
          "height": 106
        }
      },
      "source": [
        "df.iloc[3:5,0:2]"
      ],
      "execution_count": 44,
      "outputs": [
        {
          "output_type": "execute_result",
          "data": {
            "text/html": [
              "<div>\n",
              "<style scoped>\n",
              "    .dataframe tbody tr th:only-of-type {\n",
              "        vertical-align: middle;\n",
              "    }\n",
              "\n",
              "    .dataframe tbody tr th {\n",
              "        vertical-align: top;\n",
              "    }\n",
              "\n",
              "    .dataframe thead th {\n",
              "        text-align: right;\n",
              "    }\n",
              "</style>\n",
              "<table border=\"1\" class=\"dataframe\">\n",
              "  <thead>\n",
              "    <tr style=\"text-align: right;\">\n",
              "      <th></th>\n",
              "      <th>A</th>\n",
              "      <th>B</th>\n",
              "    </tr>\n",
              "  </thead>\n",
              "  <tbody>\n",
              "    <tr>\n",
              "      <th>2013-01-04</th>\n",
              "      <td>-0.013501</td>\n",
              "      <td>0.678404</td>\n",
              "    </tr>\n",
              "    <tr>\n",
              "      <th>2013-01-05</th>\n",
              "      <td>0.510088</td>\n",
              "      <td>-0.067553</td>\n",
              "    </tr>\n",
              "  </tbody>\n",
              "</table>\n",
              "</div>"
            ],
            "text/plain": [
              "                   A         B\n",
              "2013-01-04 -0.013501  0.678404\n",
              "2013-01-05  0.510088 -0.067553"
            ]
          },
          "metadata": {
            "tags": []
          },
          "execution_count": 44
        }
      ]
    },
    {
      "cell_type": "markdown",
      "metadata": {
        "id": "diOiGEpgCYKs"
      },
      "source": [
        "정수로 표기돈 위치값의 리스트을 통해, numpy/python의 스타일과 유사해집니다."
      ]
    },
    {
      "cell_type": "code",
      "metadata": {
        "id": "i-ZJnAoCClPo",
        "outputId": "e70db6ec-2fb6-4128-dc77-d2420a6f99c8",
        "colab": {
          "base_uri": "https://localhost:8080/",
          "height": 136
        }
      },
      "source": [
        "df.iloc[[1,2,4],[0,2]]"
      ],
      "execution_count": 45,
      "outputs": [
        {
          "output_type": "execute_result",
          "data": {
            "text/html": [
              "<div>\n",
              "<style scoped>\n",
              "    .dataframe tbody tr th:only-of-type {\n",
              "        vertical-align: middle;\n",
              "    }\n",
              "\n",
              "    .dataframe tbody tr th {\n",
              "        vertical-align: top;\n",
              "    }\n",
              "\n",
              "    .dataframe thead th {\n",
              "        text-align: right;\n",
              "    }\n",
              "</style>\n",
              "<table border=\"1\" class=\"dataframe\">\n",
              "  <thead>\n",
              "    <tr style=\"text-align: right;\">\n",
              "      <th></th>\n",
              "      <th>A</th>\n",
              "      <th>C</th>\n",
              "    </tr>\n",
              "  </thead>\n",
              "  <tbody>\n",
              "    <tr>\n",
              "      <th>2013-01-02</th>\n",
              "      <td>-1.718574</td>\n",
              "      <td>-1.069257</td>\n",
              "    </tr>\n",
              "    <tr>\n",
              "      <th>2013-01-03</th>\n",
              "      <td>-1.119921</td>\n",
              "      <td>2.158715</td>\n",
              "    </tr>\n",
              "    <tr>\n",
              "      <th>2013-01-05</th>\n",
              "      <td>0.510088</td>\n",
              "      <td>0.671222</td>\n",
              "    </tr>\n",
              "  </tbody>\n",
              "</table>\n",
              "</div>"
            ],
            "text/plain": [
              "                   A         C\n",
              "2013-01-02 -1.718574 -1.069257\n",
              "2013-01-03 -1.119921  2.158715\n",
              "2013-01-05  0.510088  0.671222"
            ]
          },
          "metadata": {
            "tags": []
          },
          "execution_count": 45
        }
      ]
    },
    {
      "cell_type": "markdown",
      "metadata": {
        "id": "6SOJEDbADYBM"
      },
      "source": [
        "명시적으로 행을 나누고자 하는 경우입니다."
      ]
    },
    {
      "cell_type": "code",
      "metadata": {
        "id": "L2hQQyYqDT63",
        "outputId": "677ab8de-9f0a-4108-da98-bc877b4f73ab",
        "colab": {
          "base_uri": "https://localhost:8080/",
          "height": 106
        }
      },
      "source": [
        "df.iloc[1:3,:]"
      ],
      "execution_count": 46,
      "outputs": [
        {
          "output_type": "execute_result",
          "data": {
            "text/html": [
              "<div>\n",
              "<style scoped>\n",
              "    .dataframe tbody tr th:only-of-type {\n",
              "        vertical-align: middle;\n",
              "    }\n",
              "\n",
              "    .dataframe tbody tr th {\n",
              "        vertical-align: top;\n",
              "    }\n",
              "\n",
              "    .dataframe thead th {\n",
              "        text-align: right;\n",
              "    }\n",
              "</style>\n",
              "<table border=\"1\" class=\"dataframe\">\n",
              "  <thead>\n",
              "    <tr style=\"text-align: right;\">\n",
              "      <th></th>\n",
              "      <th>A</th>\n",
              "      <th>B</th>\n",
              "      <th>C</th>\n",
              "      <th>D</th>\n",
              "    </tr>\n",
              "  </thead>\n",
              "  <tbody>\n",
              "    <tr>\n",
              "      <th>2013-01-02</th>\n",
              "      <td>-1.718574</td>\n",
              "      <td>0.414487</td>\n",
              "      <td>-1.069257</td>\n",
              "      <td>1.509118</td>\n",
              "    </tr>\n",
              "    <tr>\n",
              "      <th>2013-01-03</th>\n",
              "      <td>-1.119921</td>\n",
              "      <td>1.280441</td>\n",
              "      <td>2.158715</td>\n",
              "      <td>-0.043198</td>\n",
              "    </tr>\n",
              "  </tbody>\n",
              "</table>\n",
              "</div>"
            ],
            "text/plain": [
              "                   A         B         C         D\n",
              "2013-01-02 -1.718574  0.414487 -1.069257  1.509118\n",
              "2013-01-03 -1.119921  1.280441  2.158715 -0.043198"
            ]
          },
          "metadata": {
            "tags": []
          },
          "execution_count": 46
        }
      ]
    },
    {
      "cell_type": "markdown",
      "metadata": {
        "id": "4PiPSMPZDl8o"
      },
      "source": [
        "명시적으로 열을 나누고자 하는 경우입니다."
      ]
    },
    {
      "cell_type": "code",
      "metadata": {
        "id": "trr07tybDt4n",
        "outputId": "7aa190a0-24d9-45b8-9e98-ecec486ce63e",
        "colab": {
          "base_uri": "https://localhost:8080/",
          "height": 225
        }
      },
      "source": [
        "df.iloc[:,1:3]"
      ],
      "execution_count": 47,
      "outputs": [
        {
          "output_type": "execute_result",
          "data": {
            "text/html": [
              "<div>\n",
              "<style scoped>\n",
              "    .dataframe tbody tr th:only-of-type {\n",
              "        vertical-align: middle;\n",
              "    }\n",
              "\n",
              "    .dataframe tbody tr th {\n",
              "        vertical-align: top;\n",
              "    }\n",
              "\n",
              "    .dataframe thead th {\n",
              "        text-align: right;\n",
              "    }\n",
              "</style>\n",
              "<table border=\"1\" class=\"dataframe\">\n",
              "  <thead>\n",
              "    <tr style=\"text-align: right;\">\n",
              "      <th></th>\n",
              "      <th>B</th>\n",
              "      <th>C</th>\n",
              "    </tr>\n",
              "  </thead>\n",
              "  <tbody>\n",
              "    <tr>\n",
              "      <th>2013-01-01</th>\n",
              "      <td>0.121056</td>\n",
              "      <td>0.605077</td>\n",
              "    </tr>\n",
              "    <tr>\n",
              "      <th>2013-01-02</th>\n",
              "      <td>0.414487</td>\n",
              "      <td>-1.069257</td>\n",
              "    </tr>\n",
              "    <tr>\n",
              "      <th>2013-01-03</th>\n",
              "      <td>1.280441</td>\n",
              "      <td>2.158715</td>\n",
              "    </tr>\n",
              "    <tr>\n",
              "      <th>2013-01-04</th>\n",
              "      <td>0.678404</td>\n",
              "      <td>0.293569</td>\n",
              "    </tr>\n",
              "    <tr>\n",
              "      <th>2013-01-05</th>\n",
              "      <td>-0.067553</td>\n",
              "      <td>0.671222</td>\n",
              "    </tr>\n",
              "    <tr>\n",
              "      <th>2013-01-06</th>\n",
              "      <td>-0.175668</td>\n",
              "      <td>0.395325</td>\n",
              "    </tr>\n",
              "  </tbody>\n",
              "</table>\n",
              "</div>"
            ],
            "text/plain": [
              "                   B         C\n",
              "2013-01-01  0.121056  0.605077\n",
              "2013-01-02  0.414487 -1.069257\n",
              "2013-01-03  1.280441  2.158715\n",
              "2013-01-04  0.678404  0.293569\n",
              "2013-01-05 -0.067553  0.671222\n",
              "2013-01-06 -0.175668  0.395325"
            ]
          },
          "metadata": {
            "tags": []
          },
          "execution_count": 47
        }
      ]
    },
    {
      "cell_type": "markdown",
      "metadata": {
        "id": "i_9s5wBFD18H"
      },
      "source": [
        "명시적으로(특정한) 값을 얻고자 하는 경우입니다."
      ]
    },
    {
      "cell_type": "code",
      "metadata": {
        "id": "e_p4ujoJD9Oh",
        "outputId": "715dc2c7-39c3-4959-d616-98f2a1ee725c",
        "colab": {
          "base_uri": "https://localhost:8080/"
        }
      },
      "source": [
        "df.iloc[1,1]"
      ],
      "execution_count": 48,
      "outputs": [
        {
          "output_type": "execute_result",
          "data": {
            "text/plain": [
              "0.4144866976943618"
            ]
          },
          "metadata": {
            "tags": []
          },
          "execution_count": 48
        }
      ]
    },
    {
      "cell_type": "markdown",
      "metadata": {
        "id": "f-uPyYiUEB1W"
      },
      "source": [
        "스칼라 값을 빠르게 얻는 방법입니다 (위의 방식과 동일합니다.)\n"
      ]
    },
    {
      "cell_type": "code",
      "metadata": {
        "id": "6HuZUNDAFCcE",
        "outputId": "972e8092-0fa6-4e7e-9791-ed171b4f0726",
        "colab": {
          "base_uri": "https://localhost:8080/"
        }
      },
      "source": [
        "df.iat[1,1]"
      ],
      "execution_count": 49,
      "outputs": [
        {
          "output_type": "execute_result",
          "data": {
            "text/plain": [
              "0.4144866976943618"
            ]
          },
          "metadata": {
            "tags": []
          },
          "execution_count": 49
        }
      ]
    },
    {
      "cell_type": "markdown",
      "metadata": {
        "id": "bgmAwMoLFIeo"
      },
      "source": [
        "Boolean Indexing\n",
        "\n",
        "데이터를 선택하기 위해 단일 열의 값을 사용합니다."
      ]
    },
    {
      "cell_type": "code",
      "metadata": {
        "id": "JIxDj_kvFRRc",
        "outputId": "d0569dc1-3d6c-40ae-fb84-b3b3a22209ec",
        "colab": {
          "base_uri": "https://localhost:8080/",
          "height": 106
        }
      },
      "source": [
        "df[df.A > 0]"
      ],
      "execution_count": 50,
      "outputs": [
        {
          "output_type": "execute_result",
          "data": {
            "text/html": [
              "<div>\n",
              "<style scoped>\n",
              "    .dataframe tbody tr th:only-of-type {\n",
              "        vertical-align: middle;\n",
              "    }\n",
              "\n",
              "    .dataframe tbody tr th {\n",
              "        vertical-align: top;\n",
              "    }\n",
              "\n",
              "    .dataframe thead th {\n",
              "        text-align: right;\n",
              "    }\n",
              "</style>\n",
              "<table border=\"1\" class=\"dataframe\">\n",
              "  <thead>\n",
              "    <tr style=\"text-align: right;\">\n",
              "      <th></th>\n",
              "      <th>A</th>\n",
              "      <th>B</th>\n",
              "      <th>C</th>\n",
              "      <th>D</th>\n",
              "    </tr>\n",
              "  </thead>\n",
              "  <tbody>\n",
              "    <tr>\n",
              "      <th>2013-01-01</th>\n",
              "      <td>0.194410</td>\n",
              "      <td>0.121056</td>\n",
              "      <td>0.605077</td>\n",
              "      <td>-0.280678</td>\n",
              "    </tr>\n",
              "    <tr>\n",
              "      <th>2013-01-05</th>\n",
              "      <td>0.510088</td>\n",
              "      <td>-0.067553</td>\n",
              "      <td>0.671222</td>\n",
              "      <td>-0.521168</td>\n",
              "    </tr>\n",
              "  </tbody>\n",
              "</table>\n",
              "</div>"
            ],
            "text/plain": [
              "                   A         B         C         D\n",
              "2013-01-01  0.194410  0.121056  0.605077 -0.280678\n",
              "2013-01-05  0.510088 -0.067553  0.671222 -0.521168"
            ]
          },
          "metadata": {
            "tags": []
          },
          "execution_count": 50
        }
      ]
    },
    {
      "cell_type": "markdown",
      "metadata": {
        "id": "kgFzoO-3FYrH"
      },
      "source": [
        "Boolean 조건을 충촉하는 데이터프레임에서 값을 선택합니다."
      ]
    },
    {
      "cell_type": "code",
      "metadata": {
        "id": "nQnXuqhZFiU4",
        "outputId": "c963a130-a911-43ea-95c2-d4e36d3a0386",
        "colab": {
          "base_uri": "https://localhost:8080/",
          "height": 225
        }
      },
      "source": [
        "df[df > 0]"
      ],
      "execution_count": 51,
      "outputs": [
        {
          "output_type": "execute_result",
          "data": {
            "text/html": [
              "<div>\n",
              "<style scoped>\n",
              "    .dataframe tbody tr th:only-of-type {\n",
              "        vertical-align: middle;\n",
              "    }\n",
              "\n",
              "    .dataframe tbody tr th {\n",
              "        vertical-align: top;\n",
              "    }\n",
              "\n",
              "    .dataframe thead th {\n",
              "        text-align: right;\n",
              "    }\n",
              "</style>\n",
              "<table border=\"1\" class=\"dataframe\">\n",
              "  <thead>\n",
              "    <tr style=\"text-align: right;\">\n",
              "      <th></th>\n",
              "      <th>A</th>\n",
              "      <th>B</th>\n",
              "      <th>C</th>\n",
              "      <th>D</th>\n",
              "    </tr>\n",
              "  </thead>\n",
              "  <tbody>\n",
              "    <tr>\n",
              "      <th>2013-01-01</th>\n",
              "      <td>0.194410</td>\n",
              "      <td>0.121056</td>\n",
              "      <td>0.605077</td>\n",
              "      <td>NaN</td>\n",
              "    </tr>\n",
              "    <tr>\n",
              "      <th>2013-01-02</th>\n",
              "      <td>NaN</td>\n",
              "      <td>0.414487</td>\n",
              "      <td>NaN</td>\n",
              "      <td>1.509118</td>\n",
              "    </tr>\n",
              "    <tr>\n",
              "      <th>2013-01-03</th>\n",
              "      <td>NaN</td>\n",
              "      <td>1.280441</td>\n",
              "      <td>2.158715</td>\n",
              "      <td>NaN</td>\n",
              "    </tr>\n",
              "    <tr>\n",
              "      <th>2013-01-04</th>\n",
              "      <td>NaN</td>\n",
              "      <td>0.678404</td>\n",
              "      <td>0.293569</td>\n",
              "      <td>NaN</td>\n",
              "    </tr>\n",
              "    <tr>\n",
              "      <th>2013-01-05</th>\n",
              "      <td>0.510088</td>\n",
              "      <td>NaN</td>\n",
              "      <td>0.671222</td>\n",
              "      <td>NaN</td>\n",
              "    </tr>\n",
              "    <tr>\n",
              "      <th>2013-01-06</th>\n",
              "      <td>NaN</td>\n",
              "      <td>NaN</td>\n",
              "      <td>0.395325</td>\n",
              "      <td>1.107810</td>\n",
              "    </tr>\n",
              "  </tbody>\n",
              "</table>\n",
              "</div>"
            ],
            "text/plain": [
              "                   A         B         C         D\n",
              "2013-01-01  0.194410  0.121056  0.605077       NaN\n",
              "2013-01-02       NaN  0.414487       NaN  1.509118\n",
              "2013-01-03       NaN  1.280441  2.158715       NaN\n",
              "2013-01-04       NaN  0.678404  0.293569       NaN\n",
              "2013-01-05  0.510088       NaN  0.671222       NaN\n",
              "2013-01-06       NaN       NaN  0.395325  1.107810"
            ]
          },
          "metadata": {
            "tags": []
          },
          "execution_count": 51
        }
      ]
    },
    {
      "cell_type": "markdown",
      "metadata": {
        "id": "P3B3H3uSFpFd"
      },
      "source": [
        "필터링을 위한 메소드 isin()을 사용합니다."
      ]
    },
    {
      "cell_type": "code",
      "metadata": {
        "id": "dCbqxCE2Fxdh",
        "outputId": "9af071db-842d-409f-b739-d0156ce59a59",
        "colab": {
          "base_uri": "https://localhost:8080/",
          "height": 225
        }
      },
      "source": [
        "df2 = df.copy()\n",
        "\n",
        "df2['E'] = ['one','one','two', 'three', 'four', 'three']\n",
        "\n",
        "df2"
      ],
      "execution_count": 53,
      "outputs": [
        {
          "output_type": "execute_result",
          "data": {
            "text/html": [
              "<div>\n",
              "<style scoped>\n",
              "    .dataframe tbody tr th:only-of-type {\n",
              "        vertical-align: middle;\n",
              "    }\n",
              "\n",
              "    .dataframe tbody tr th {\n",
              "        vertical-align: top;\n",
              "    }\n",
              "\n",
              "    .dataframe thead th {\n",
              "        text-align: right;\n",
              "    }\n",
              "</style>\n",
              "<table border=\"1\" class=\"dataframe\">\n",
              "  <thead>\n",
              "    <tr style=\"text-align: right;\">\n",
              "      <th></th>\n",
              "      <th>A</th>\n",
              "      <th>B</th>\n",
              "      <th>C</th>\n",
              "      <th>D</th>\n",
              "      <th>E</th>\n",
              "    </tr>\n",
              "  </thead>\n",
              "  <tbody>\n",
              "    <tr>\n",
              "      <th>2013-01-01</th>\n",
              "      <td>0.194410</td>\n",
              "      <td>0.121056</td>\n",
              "      <td>0.605077</td>\n",
              "      <td>-0.280678</td>\n",
              "      <td>one</td>\n",
              "    </tr>\n",
              "    <tr>\n",
              "      <th>2013-01-02</th>\n",
              "      <td>-1.718574</td>\n",
              "      <td>0.414487</td>\n",
              "      <td>-1.069257</td>\n",
              "      <td>1.509118</td>\n",
              "      <td>one</td>\n",
              "    </tr>\n",
              "    <tr>\n",
              "      <th>2013-01-03</th>\n",
              "      <td>-1.119921</td>\n",
              "      <td>1.280441</td>\n",
              "      <td>2.158715</td>\n",
              "      <td>-0.043198</td>\n",
              "      <td>two</td>\n",
              "    </tr>\n",
              "    <tr>\n",
              "      <th>2013-01-04</th>\n",
              "      <td>-0.013501</td>\n",
              "      <td>0.678404</td>\n",
              "      <td>0.293569</td>\n",
              "      <td>-0.922581</td>\n",
              "      <td>three</td>\n",
              "    </tr>\n",
              "    <tr>\n",
              "      <th>2013-01-05</th>\n",
              "      <td>0.510088</td>\n",
              "      <td>-0.067553</td>\n",
              "      <td>0.671222</td>\n",
              "      <td>-0.521168</td>\n",
              "      <td>four</td>\n",
              "    </tr>\n",
              "    <tr>\n",
              "      <th>2013-01-06</th>\n",
              "      <td>-1.230430</td>\n",
              "      <td>-0.175668</td>\n",
              "      <td>0.395325</td>\n",
              "      <td>1.107810</td>\n",
              "      <td>three</td>\n",
              "    </tr>\n",
              "  </tbody>\n",
              "</table>\n",
              "</div>"
            ],
            "text/plain": [
              "                   A         B         C         D      E\n",
              "2013-01-01  0.194410  0.121056  0.605077 -0.280678    one\n",
              "2013-01-02 -1.718574  0.414487 -1.069257  1.509118    one\n",
              "2013-01-03 -1.119921  1.280441  2.158715 -0.043198    two\n",
              "2013-01-04 -0.013501  0.678404  0.293569 -0.922581  three\n",
              "2013-01-05  0.510088 -0.067553  0.671222 -0.521168   four\n",
              "2013-01-06 -1.230430 -0.175668  0.395325  1.107810  three"
            ]
          },
          "metadata": {
            "tags": []
          },
          "execution_count": 53
        }
      ]
    },
    {
      "cell_type": "code",
      "metadata": {
        "id": "1XvxwDVlGN0e",
        "outputId": "fdca3886-d264-4184-98c0-482cf2107851",
        "colab": {
          "base_uri": "https://localhost:8080/",
          "height": 106
        }
      },
      "source": [
        "df2[df2['E'].isin(['two','four'])]"
      ],
      "execution_count": 54,
      "outputs": [
        {
          "output_type": "execute_result",
          "data": {
            "text/html": [
              "<div>\n",
              "<style scoped>\n",
              "    .dataframe tbody tr th:only-of-type {\n",
              "        vertical-align: middle;\n",
              "    }\n",
              "\n",
              "    .dataframe tbody tr th {\n",
              "        vertical-align: top;\n",
              "    }\n",
              "\n",
              "    .dataframe thead th {\n",
              "        text-align: right;\n",
              "    }\n",
              "</style>\n",
              "<table border=\"1\" class=\"dataframe\">\n",
              "  <thead>\n",
              "    <tr style=\"text-align: right;\">\n",
              "      <th></th>\n",
              "      <th>A</th>\n",
              "      <th>B</th>\n",
              "      <th>C</th>\n",
              "      <th>D</th>\n",
              "      <th>E</th>\n",
              "    </tr>\n",
              "  </thead>\n",
              "  <tbody>\n",
              "    <tr>\n",
              "      <th>2013-01-03</th>\n",
              "      <td>-1.119921</td>\n",
              "      <td>1.280441</td>\n",
              "      <td>2.158715</td>\n",
              "      <td>-0.043198</td>\n",
              "      <td>two</td>\n",
              "    </tr>\n",
              "    <tr>\n",
              "      <th>2013-01-05</th>\n",
              "      <td>0.510088</td>\n",
              "      <td>-0.067553</td>\n",
              "      <td>0.671222</td>\n",
              "      <td>-0.521168</td>\n",
              "      <td>four</td>\n",
              "    </tr>\n",
              "  </tbody>\n",
              "</table>\n",
              "</div>"
            ],
            "text/plain": [
              "                   A         B         C         D     E\n",
              "2013-01-03 -1.119921  1.280441  2.158715 -0.043198   two\n",
              "2013-01-05  0.510088 -0.067553  0.671222 -0.521168  four"
            ]
          },
          "metadata": {
            "tags": []
          },
          "execution_count": 54
        }
      ]
    },
    {
      "cell_type": "markdown",
      "metadata": {
        "id": "DZMli3T4GaXC"
      },
      "source": [
        " setting (설정)\n",
        "\n",
        " 새 열을 설정하면 데이터가 인덱스 별로 자동 정렬됩니다."
      ]
    },
    {
      "cell_type": "code",
      "metadata": {
        "id": "HcKslFyxGnAE",
        "outputId": "760d678b-cace-48e1-a932-c16c985a676a",
        "colab": {
          "base_uri": "https://localhost:8080/"
        }
      },
      "source": [
        "s1 = pd.Series([1,2,3,4,5,6], index=pd.date_range('20130102', periods=6))\n",
        "s1"
      ],
      "execution_count": 56,
      "outputs": [
        {
          "output_type": "execute_result",
          "data": {
            "text/plain": [
              "2013-01-02    1\n",
              "2013-01-03    2\n",
              "2013-01-04    3\n",
              "2013-01-05    4\n",
              "2013-01-06    5\n",
              "2013-01-07    6\n",
              "Freq: D, dtype: int64"
            ]
          },
          "metadata": {
            "tags": []
          },
          "execution_count": 56
        }
      ]
    },
    {
      "cell_type": "code",
      "metadata": {
        "id": "IjtAczrsHOVn"
      },
      "source": [
        "df['F'] = S1"
      ],
      "execution_count": null,
      "outputs": []
    },
    {
      "cell_type": "markdown",
      "metadata": {
        "id": "NLZH8SoCHTOW"
      },
      "source": [
        "라벨에 의해 값을 설정합니다."
      ]
    },
    {
      "cell_type": "code",
      "metadata": {
        "id": "nAEbOaSRHXQk"
      },
      "source": [
        "df.at[dates[0],'A'] = 0"
      ],
      "execution_count": null,
      "outputs": []
    },
    {
      "cell_type": "markdown",
      "metadata": {
        "id": "PK4trMU4HfkA"
      },
      "source": [
        "위치에 의해 값을 설정합니다."
      ]
    },
    {
      "cell_type": "code",
      "metadata": {
        "id": "HOzm-sEsHkr8"
      },
      "source": [
        "df.iat[0,1] =0"
      ],
      "execution_count": null,
      "outputs": []
    },
    {
      "cell_type": "markdown",
      "metadata": {
        "id": "HuOP8QpZHqQ3"
      },
      "source": [
        "Numpy 배열을 사용한 할당에 의해 값을 설절합니다."
      ]
    },
    {
      "cell_type": "code",
      "metadata": {
        "id": "1yQTQmYnHxzl"
      },
      "source": [
        "df.loc[: 'D'] = np.array([5]) * len((df))"
      ],
      "execution_count": null,
      "outputs": []
    },
    {
      "cell_type": "markdown",
      "metadata": {
        "id": "VEIDgQgMH9ct"
      },
      "source": [
        "위 설정대로 작동한 결과입니다."
      ]
    },
    {
      "cell_type": "code",
      "metadata": {
        "id": "nVsqargWICV2",
        "outputId": "6864ba1a-5573-4a72-b693-b2ffdb4ec956",
        "colab": {
          "base_uri": "https://localhost:8080/",
          "height": 225
        }
      },
      "source": [
        "df"
      ],
      "execution_count": 58,
      "outputs": [
        {
          "output_type": "execute_result",
          "data": {
            "text/html": [
              "<div>\n",
              "<style scoped>\n",
              "    .dataframe tbody tr th:only-of-type {\n",
              "        vertical-align: middle;\n",
              "    }\n",
              "\n",
              "    .dataframe tbody tr th {\n",
              "        vertical-align: top;\n",
              "    }\n",
              "\n",
              "    .dataframe thead th {\n",
              "        text-align: right;\n",
              "    }\n",
              "</style>\n",
              "<table border=\"1\" class=\"dataframe\">\n",
              "  <thead>\n",
              "    <tr style=\"text-align: right;\">\n",
              "      <th></th>\n",
              "      <th>A</th>\n",
              "      <th>B</th>\n",
              "      <th>C</th>\n",
              "      <th>D</th>\n",
              "    </tr>\n",
              "  </thead>\n",
              "  <tbody>\n",
              "    <tr>\n",
              "      <th>2013-01-01</th>\n",
              "      <td>0.194410</td>\n",
              "      <td>0.121056</td>\n",
              "      <td>0.605077</td>\n",
              "      <td>-0.280678</td>\n",
              "    </tr>\n",
              "    <tr>\n",
              "      <th>2013-01-02</th>\n",
              "      <td>-1.718574</td>\n",
              "      <td>0.414487</td>\n",
              "      <td>-1.069257</td>\n",
              "      <td>1.509118</td>\n",
              "    </tr>\n",
              "    <tr>\n",
              "      <th>2013-01-03</th>\n",
              "      <td>-1.119921</td>\n",
              "      <td>1.280441</td>\n",
              "      <td>2.158715</td>\n",
              "      <td>-0.043198</td>\n",
              "    </tr>\n",
              "    <tr>\n",
              "      <th>2013-01-04</th>\n",
              "      <td>-0.013501</td>\n",
              "      <td>0.678404</td>\n",
              "      <td>0.293569</td>\n",
              "      <td>-0.922581</td>\n",
              "    </tr>\n",
              "    <tr>\n",
              "      <th>2013-01-05</th>\n",
              "      <td>0.510088</td>\n",
              "      <td>-0.067553</td>\n",
              "      <td>0.671222</td>\n",
              "      <td>-0.521168</td>\n",
              "    </tr>\n",
              "    <tr>\n",
              "      <th>2013-01-06</th>\n",
              "      <td>-1.230430</td>\n",
              "      <td>-0.175668</td>\n",
              "      <td>0.395325</td>\n",
              "      <td>1.107810</td>\n",
              "    </tr>\n",
              "  </tbody>\n",
              "</table>\n",
              "</div>"
            ],
            "text/plain": [
              "                   A         B         C         D\n",
              "2013-01-01  0.194410  0.121056  0.605077 -0.280678\n",
              "2013-01-02 -1.718574  0.414487 -1.069257  1.509118\n",
              "2013-01-03 -1.119921  1.280441  2.158715 -0.043198\n",
              "2013-01-04 -0.013501  0.678404  0.293569 -0.922581\n",
              "2013-01-05  0.510088 -0.067553  0.671222 -0.521168\n",
              "2013-01-06 -1.230430 -0.175668  0.395325  1.107810"
            ]
          },
          "metadata": {
            "tags": []
          },
          "execution_count": 58
        }
      ]
    },
    {
      "cell_type": "markdown",
      "metadata": {
        "id": "aizI6_NkIJ2V"
      },
      "source": [
        "where 연산을 설정합니다."
      ]
    },
    {
      "cell_type": "code",
      "metadata": {
        "id": "tm7Lzgv1INdR",
        "outputId": "af8f3296-e4cf-461f-fd82-5778a9d208c2",
        "colab": {
          "base_uri": "https://localhost:8080/",
          "height": 225
        }
      },
      "source": [
        "df2 = df.copy()\n",
        "\n",
        "df2[df2 > 0] = -df2\n",
        "\n",
        "df2"
      ],
      "execution_count": 59,
      "outputs": [
        {
          "output_type": "execute_result",
          "data": {
            "text/html": [
              "<div>\n",
              "<style scoped>\n",
              "    .dataframe tbody tr th:only-of-type {\n",
              "        vertical-align: middle;\n",
              "    }\n",
              "\n",
              "    .dataframe tbody tr th {\n",
              "        vertical-align: top;\n",
              "    }\n",
              "\n",
              "    .dataframe thead th {\n",
              "        text-align: right;\n",
              "    }\n",
              "</style>\n",
              "<table border=\"1\" class=\"dataframe\">\n",
              "  <thead>\n",
              "    <tr style=\"text-align: right;\">\n",
              "      <th></th>\n",
              "      <th>A</th>\n",
              "      <th>B</th>\n",
              "      <th>C</th>\n",
              "      <th>D</th>\n",
              "    </tr>\n",
              "  </thead>\n",
              "  <tbody>\n",
              "    <tr>\n",
              "      <th>2013-01-01</th>\n",
              "      <td>-0.194410</td>\n",
              "      <td>-0.121056</td>\n",
              "      <td>-0.605077</td>\n",
              "      <td>-0.280678</td>\n",
              "    </tr>\n",
              "    <tr>\n",
              "      <th>2013-01-02</th>\n",
              "      <td>-1.718574</td>\n",
              "      <td>-0.414487</td>\n",
              "      <td>-1.069257</td>\n",
              "      <td>-1.509118</td>\n",
              "    </tr>\n",
              "    <tr>\n",
              "      <th>2013-01-03</th>\n",
              "      <td>-1.119921</td>\n",
              "      <td>-1.280441</td>\n",
              "      <td>-2.158715</td>\n",
              "      <td>-0.043198</td>\n",
              "    </tr>\n",
              "    <tr>\n",
              "      <th>2013-01-04</th>\n",
              "      <td>-0.013501</td>\n",
              "      <td>-0.678404</td>\n",
              "      <td>-0.293569</td>\n",
              "      <td>-0.922581</td>\n",
              "    </tr>\n",
              "    <tr>\n",
              "      <th>2013-01-05</th>\n",
              "      <td>-0.510088</td>\n",
              "      <td>-0.067553</td>\n",
              "      <td>-0.671222</td>\n",
              "      <td>-0.521168</td>\n",
              "    </tr>\n",
              "    <tr>\n",
              "      <th>2013-01-06</th>\n",
              "      <td>-1.230430</td>\n",
              "      <td>-0.175668</td>\n",
              "      <td>-0.395325</td>\n",
              "      <td>-1.107810</td>\n",
              "    </tr>\n",
              "  </tbody>\n",
              "</table>\n",
              "</div>"
            ],
            "text/plain": [
              "                   A         B         C         D\n",
              "2013-01-01 -0.194410 -0.121056 -0.605077 -0.280678\n",
              "2013-01-02 -1.718574 -0.414487 -1.069257 -1.509118\n",
              "2013-01-03 -1.119921 -1.280441 -2.158715 -0.043198\n",
              "2013-01-04 -0.013501 -0.678404 -0.293569 -0.922581\n",
              "2013-01-05 -0.510088 -0.067553 -0.671222 -0.521168\n",
              "2013-01-06 -1.230430 -0.175668 -0.395325 -1.107810"
            ]
          },
          "metadata": {
            "tags": []
          },
          "execution_count": 59
        }
      ]
    },
    {
      "cell_type": "markdown",
      "metadata": {
        "id": "gSYDANWBIbS7"
      },
      "source": [
        "4. Missing Data (결측지)\n",
        "\n",
        "Pandas는 결측치를 표현하기 위해 주로 np.nan 값을 사용합니다. 이 방법은 기본 설정값이지만 계산에는 포함되지 않습니다. Missing data section을 참조하세요.\n",
        "\n",
        "Reindexing으로 지정된 축 상의 인덱스를 변경/추기/삭제할 수 있습니다.\n",
        "Reindxing은 데이터의 복사본을 반환합니다."
      ]
    },
    {
      "cell_type": "code",
      "metadata": {
        "id": "c7HEJbH5JH1h",
        "outputId": "ae98772e-d18c-41f4-91d2-917084a67c4d",
        "colab": {
          "base_uri": "https://localhost:8080/",
          "height": 166
        }
      },
      "source": [
        "df1 = df.reindex(index=dates[0:4], columns=list(df.columns)+ ['E'])\n",
        "\n",
        "df1.loc[dates[0]:dates[1],'E'] = 1\n",
        "\n",
        "df1\n"
      ],
      "execution_count": 60,
      "outputs": [
        {
          "output_type": "execute_result",
          "data": {
            "text/html": [
              "<div>\n",
              "<style scoped>\n",
              "    .dataframe tbody tr th:only-of-type {\n",
              "        vertical-align: middle;\n",
              "    }\n",
              "\n",
              "    .dataframe tbody tr th {\n",
              "        vertical-align: top;\n",
              "    }\n",
              "\n",
              "    .dataframe thead th {\n",
              "        text-align: right;\n",
              "    }\n",
              "</style>\n",
              "<table border=\"1\" class=\"dataframe\">\n",
              "  <thead>\n",
              "    <tr style=\"text-align: right;\">\n",
              "      <th></th>\n",
              "      <th>A</th>\n",
              "      <th>B</th>\n",
              "      <th>C</th>\n",
              "      <th>D</th>\n",
              "      <th>E</th>\n",
              "    </tr>\n",
              "  </thead>\n",
              "  <tbody>\n",
              "    <tr>\n",
              "      <th>2013-01-01</th>\n",
              "      <td>0.194410</td>\n",
              "      <td>0.121056</td>\n",
              "      <td>0.605077</td>\n",
              "      <td>-0.280678</td>\n",
              "      <td>1.0</td>\n",
              "    </tr>\n",
              "    <tr>\n",
              "      <th>2013-01-02</th>\n",
              "      <td>-1.718574</td>\n",
              "      <td>0.414487</td>\n",
              "      <td>-1.069257</td>\n",
              "      <td>1.509118</td>\n",
              "      <td>1.0</td>\n",
              "    </tr>\n",
              "    <tr>\n",
              "      <th>2013-01-03</th>\n",
              "      <td>-1.119921</td>\n",
              "      <td>1.280441</td>\n",
              "      <td>2.158715</td>\n",
              "      <td>-0.043198</td>\n",
              "      <td>NaN</td>\n",
              "    </tr>\n",
              "    <tr>\n",
              "      <th>2013-01-04</th>\n",
              "      <td>-0.013501</td>\n",
              "      <td>0.678404</td>\n",
              "      <td>0.293569</td>\n",
              "      <td>-0.922581</td>\n",
              "      <td>NaN</td>\n",
              "    </tr>\n",
              "  </tbody>\n",
              "</table>\n",
              "</div>"
            ],
            "text/plain": [
              "                   A         B         C         D    E\n",
              "2013-01-01  0.194410  0.121056  0.605077 -0.280678  1.0\n",
              "2013-01-02 -1.718574  0.414487 -1.069257  1.509118  1.0\n",
              "2013-01-03 -1.119921  1.280441  2.158715 -0.043198  NaN\n",
              "2013-01-04 -0.013501  0.678404  0.293569 -0.922581  NaN"
            ]
          },
          "metadata": {
            "tags": []
          },
          "execution_count": 60
        }
      ]
    },
    {
      "cell_type": "markdown",
      "metadata": {
        "id": "aDz55RUAJ2ij"
      },
      "source": [
        "결측지를 가지고 있는 행들을 지웁니다.\n"
      ]
    },
    {
      "cell_type": "code",
      "metadata": {
        "id": "ynEliVxgJ7AR",
        "outputId": "84bce903-297e-4903-8817-41fb05df13e0",
        "colab": {
          "base_uri": "https://localhost:8080/",
          "height": 106
        }
      },
      "source": [
        "df1.dropna(how = 'any')"
      ],
      "execution_count": 61,
      "outputs": [
        {
          "output_type": "execute_result",
          "data": {
            "text/html": [
              "<div>\n",
              "<style scoped>\n",
              "    .dataframe tbody tr th:only-of-type {\n",
              "        vertical-align: middle;\n",
              "    }\n",
              "\n",
              "    .dataframe tbody tr th {\n",
              "        vertical-align: top;\n",
              "    }\n",
              "\n",
              "    .dataframe thead th {\n",
              "        text-align: right;\n",
              "    }\n",
              "</style>\n",
              "<table border=\"1\" class=\"dataframe\">\n",
              "  <thead>\n",
              "    <tr style=\"text-align: right;\">\n",
              "      <th></th>\n",
              "      <th>A</th>\n",
              "      <th>B</th>\n",
              "      <th>C</th>\n",
              "      <th>D</th>\n",
              "      <th>E</th>\n",
              "    </tr>\n",
              "  </thead>\n",
              "  <tbody>\n",
              "    <tr>\n",
              "      <th>2013-01-01</th>\n",
              "      <td>0.194410</td>\n",
              "      <td>0.121056</td>\n",
              "      <td>0.605077</td>\n",
              "      <td>-0.280678</td>\n",
              "      <td>1.0</td>\n",
              "    </tr>\n",
              "    <tr>\n",
              "      <th>2013-01-02</th>\n",
              "      <td>-1.718574</td>\n",
              "      <td>0.414487</td>\n",
              "      <td>-1.069257</td>\n",
              "      <td>1.509118</td>\n",
              "      <td>1.0</td>\n",
              "    </tr>\n",
              "  </tbody>\n",
              "</table>\n",
              "</div>"
            ],
            "text/plain": [
              "                   A         B         C         D    E\n",
              "2013-01-01  0.194410  0.121056  0.605077 -0.280678  1.0\n",
              "2013-01-02 -1.718574  0.414487 -1.069257  1.509118  1.0"
            ]
          },
          "metadata": {
            "tags": []
          },
          "execution_count": 61
        }
      ]
    },
    {
      "cell_type": "markdown",
      "metadata": {
        "id": "EOVepkmaKkq_"
      },
      "source": [
        "결측지를 채워 넣습니다."
      ]
    },
    {
      "cell_type": "code",
      "metadata": {
        "id": "Ocrh90qFKn0Q",
        "outputId": "3c81af39-b2fa-47e6-9b7c-175602922693",
        "colab": {
          "base_uri": "https://localhost:8080/",
          "height": 166
        }
      },
      "source": [
        "df1.fillna(value=5)"
      ],
      "execution_count": 62,
      "outputs": [
        {
          "output_type": "execute_result",
          "data": {
            "text/html": [
              "<div>\n",
              "<style scoped>\n",
              "    .dataframe tbody tr th:only-of-type {\n",
              "        vertical-align: middle;\n",
              "    }\n",
              "\n",
              "    .dataframe tbody tr th {\n",
              "        vertical-align: top;\n",
              "    }\n",
              "\n",
              "    .dataframe thead th {\n",
              "        text-align: right;\n",
              "    }\n",
              "</style>\n",
              "<table border=\"1\" class=\"dataframe\">\n",
              "  <thead>\n",
              "    <tr style=\"text-align: right;\">\n",
              "      <th></th>\n",
              "      <th>A</th>\n",
              "      <th>B</th>\n",
              "      <th>C</th>\n",
              "      <th>D</th>\n",
              "      <th>E</th>\n",
              "    </tr>\n",
              "  </thead>\n",
              "  <tbody>\n",
              "    <tr>\n",
              "      <th>2013-01-01</th>\n",
              "      <td>0.194410</td>\n",
              "      <td>0.121056</td>\n",
              "      <td>0.605077</td>\n",
              "      <td>-0.280678</td>\n",
              "      <td>1.0</td>\n",
              "    </tr>\n",
              "    <tr>\n",
              "      <th>2013-01-02</th>\n",
              "      <td>-1.718574</td>\n",
              "      <td>0.414487</td>\n",
              "      <td>-1.069257</td>\n",
              "      <td>1.509118</td>\n",
              "      <td>1.0</td>\n",
              "    </tr>\n",
              "    <tr>\n",
              "      <th>2013-01-03</th>\n",
              "      <td>-1.119921</td>\n",
              "      <td>1.280441</td>\n",
              "      <td>2.158715</td>\n",
              "      <td>-0.043198</td>\n",
              "      <td>5.0</td>\n",
              "    </tr>\n",
              "    <tr>\n",
              "      <th>2013-01-04</th>\n",
              "      <td>-0.013501</td>\n",
              "      <td>0.678404</td>\n",
              "      <td>0.293569</td>\n",
              "      <td>-0.922581</td>\n",
              "      <td>5.0</td>\n",
              "    </tr>\n",
              "  </tbody>\n",
              "</table>\n",
              "</div>"
            ],
            "text/plain": [
              "                   A         B         C         D    E\n",
              "2013-01-01  0.194410  0.121056  0.605077 -0.280678  1.0\n",
              "2013-01-02 -1.718574  0.414487 -1.069257  1.509118  1.0\n",
              "2013-01-03 -1.119921  1.280441  2.158715 -0.043198  5.0\n",
              "2013-01-04 -0.013501  0.678404  0.293569 -0.922581  5.0"
            ]
          },
          "metadata": {
            "tags": []
          },
          "execution_count": 62
        }
      ]
    },
    {
      "cell_type": "markdown",
      "metadata": {
        "id": "wgoRpQ3bK9O5"
      },
      "source": [
        "nan인 값에 boolean을 통한 표식을 얻습니다.\n",
        "\n",
        "역자 주 : 데이터프레임의 모든 값이 boolean 형태로 표시되도록 하며, nan인 값에만 True가 표시되게 하는 함수입니다."
      ]
    },
    {
      "cell_type": "code",
      "metadata": {
        "id": "nzq9AqrRLcQT",
        "outputId": "96fca639-caf1-45fa-9228-cebb66398902",
        "colab": {
          "base_uri": "https://localhost:8080/",
          "height": 166
        }
      },
      "source": [
        "pd.isna(df1)"
      ],
      "execution_count": 63,
      "outputs": [
        {
          "output_type": "execute_result",
          "data": {
            "text/html": [
              "<div>\n",
              "<style scoped>\n",
              "    .dataframe tbody tr th:only-of-type {\n",
              "        vertical-align: middle;\n",
              "    }\n",
              "\n",
              "    .dataframe tbody tr th {\n",
              "        vertical-align: top;\n",
              "    }\n",
              "\n",
              "    .dataframe thead th {\n",
              "        text-align: right;\n",
              "    }\n",
              "</style>\n",
              "<table border=\"1\" class=\"dataframe\">\n",
              "  <thead>\n",
              "    <tr style=\"text-align: right;\">\n",
              "      <th></th>\n",
              "      <th>A</th>\n",
              "      <th>B</th>\n",
              "      <th>C</th>\n",
              "      <th>D</th>\n",
              "      <th>E</th>\n",
              "    </tr>\n",
              "  </thead>\n",
              "  <tbody>\n",
              "    <tr>\n",
              "      <th>2013-01-01</th>\n",
              "      <td>False</td>\n",
              "      <td>False</td>\n",
              "      <td>False</td>\n",
              "      <td>False</td>\n",
              "      <td>False</td>\n",
              "    </tr>\n",
              "    <tr>\n",
              "      <th>2013-01-02</th>\n",
              "      <td>False</td>\n",
              "      <td>False</td>\n",
              "      <td>False</td>\n",
              "      <td>False</td>\n",
              "      <td>False</td>\n",
              "    </tr>\n",
              "    <tr>\n",
              "      <th>2013-01-03</th>\n",
              "      <td>False</td>\n",
              "      <td>False</td>\n",
              "      <td>False</td>\n",
              "      <td>False</td>\n",
              "      <td>True</td>\n",
              "    </tr>\n",
              "    <tr>\n",
              "      <th>2013-01-04</th>\n",
              "      <td>False</td>\n",
              "      <td>False</td>\n",
              "      <td>False</td>\n",
              "      <td>False</td>\n",
              "      <td>True</td>\n",
              "    </tr>\n",
              "  </tbody>\n",
              "</table>\n",
              "</div>"
            ],
            "text/plain": [
              "                A      B      C      D      E\n",
              "2013-01-01  False  False  False  False  False\n",
              "2013-01-02  False  False  False  False  False\n",
              "2013-01-03  False  False  False  False   True\n",
              "2013-01-04  False  False  False  False   True"
            ]
          },
          "metadata": {
            "tags": []
          },
          "execution_count": 63
        }
      ]
    },
    {
      "cell_type": "markdown",
      "metadata": {
        "id": "-TjqNFZ2LjQw"
      },
      "source": [
        "5. operation (연산)\n",
        "\n",
        "이진 (Binary) 연산의 기본 섹션을 참조히세요.\n",
        "\n"
      ]
    },
    {
      "cell_type": "markdown",
      "metadata": {
        "id": "SPSG_AiYLzL0"
      },
      "source": [
        "Stats (통계)\n",
        "\n",
        "일반적으로 결츨지를 제외한 후 연산됩니다.\n",
        "\n",
        "기술통계를 수행합니다.\n"
      ]
    },
    {
      "cell_type": "code",
      "metadata": {
        "id": "CdUif6PsL_l0",
        "outputId": "35f774aa-1214-4012-d218-cb6bf06af5bd",
        "colab": {
          "base_uri": "https://localhost:8080/"
        }
      },
      "source": [
        "df.mean()"
      ],
      "execution_count": 64,
      "outputs": [
        {
          "output_type": "execute_result",
          "data": {
            "text/plain": [
              "A   -0.562988\n",
              "B    0.375195\n",
              "C    0.509108\n",
              "D    0.141550\n",
              "dtype: float64"
            ]
          },
          "metadata": {
            "tags": []
          },
          "execution_count": 64
        }
      ]
    },
    {
      "cell_type": "markdown",
      "metadata": {
        "id": "i3CObek0MDy1"
      },
      "source": [
        "다른 축에서 동일한 연산을 수행합니다."
      ]
    },
    {
      "cell_type": "code",
      "metadata": {
        "id": "-nqVxtXTMH8U",
        "outputId": "dabe7fd7-ba5a-4513-d950-96ee401b98e3",
        "colab": {
          "base_uri": "https://localhost:8080/"
        }
      },
      "source": [
        "df.mean(1)"
      ],
      "execution_count": 65,
      "outputs": [
        {
          "output_type": "execute_result",
          "data": {
            "text/plain": [
              "2013-01-01    0.159966\n",
              "2013-01-02   -0.216057\n",
              "2013-01-03    0.569009\n",
              "2013-01-04    0.008973\n",
              "2013-01-05    0.148147\n",
              "2013-01-06    0.024259\n",
              "Freq: D, dtype: float64"
            ]
          },
          "metadata": {
            "tags": []
          },
          "execution_count": 65
        }
      ]
    },
    {
      "cell_type": "markdown",
      "metadata": {
        "id": "lnM17HSxMMK8"
      },
      "source": [
        "정열이 필요하며, 차원이 다른 객체로 연산해보겠습니다. 또한, Pandas는 지정된 차원을 따라 자동을 브로드 캐스팅됩니다.\n",
        "\n",
        "역자 주: broadcast란 numpy에서 유래한 용어로,n차원이나 스칼라 값으로 연산을 수행할 때 도출되는 결과의 규칙을 설명하는 것을 의미합니다.\n",
        "\n",
        "\n"
      ]
    },
    {
      "cell_type": "code",
      "metadata": {
        "id": "qVDXRDWeNDqS",
        "outputId": "f9b3a001-596e-4200-f1ba-e6e4b0e55e5f",
        "colab": {
          "base_uri": "https://localhost:8080/"
        }
      },
      "source": [
        "s = pd.Series([1,3,5,np.nan,6,8], index=dates).shift(2)\n",
        "s\n"
      ],
      "execution_count": 67,
      "outputs": [
        {
          "output_type": "execute_result",
          "data": {
            "text/plain": [
              "2013-01-01    NaN\n",
              "2013-01-02    NaN\n",
              "2013-01-03    1.0\n",
              "2013-01-04    3.0\n",
              "2013-01-05    5.0\n",
              "2013-01-06    NaN\n",
              "Freq: D, dtype: float64"
            ]
          },
          "metadata": {
            "tags": []
          },
          "execution_count": 67
        }
      ]
    },
    {
      "cell_type": "markdown",
      "metadata": {
        "id": "Un4HRepHcSwT"
      },
      "source": [
        "정렬이 필요하며, 다른 객체로 연산해보겠습니다. 또한 , pandas는 지정되차원을 따라 자동으로 브로드 캐스팅됩니다.\n",
        "\n",
        "역자 주 : broadcast란 numpy에서 유래한 용어로, n차원이나 스칼라 값으로 연산을 수행할 때 도출되는 결과의 규칙을 설명하는 것을 의미합니다."
      ]
    },
    {
      "cell_type": "code",
      "metadata": {
        "id": "60oDeLvxdytZ",
        "outputId": "b5efe855-6bd5-446e-86bd-730d0d388e54",
        "colab": {
          "base_uri": "https://localhost:8080/"
        }
      },
      "source": [
        "s = pd.Series([1,3,5,np.nan,6,8], index=dates).shift(2)\n",
        "s"
      ],
      "execution_count": 68,
      "outputs": [
        {
          "output_type": "execute_result",
          "data": {
            "text/plain": [
              "2013-01-01    NaN\n",
              "2013-01-02    NaN\n",
              "2013-01-03    1.0\n",
              "2013-01-04    3.0\n",
              "2013-01-05    5.0\n",
              "2013-01-06    NaN\n",
              "Freq: D, dtype: float64"
            ]
          },
          "metadata": {
            "tags": []
          },
          "execution_count": 68
        }
      ]
    },
    {
      "cell_type": "code",
      "metadata": {
        "id": "n2C4oq8Pel9g",
        "outputId": "b21d2bae-69f4-40de-da04-d764d2d595bf",
        "colab": {
          "base_uri": "https://localhost:8080/",
          "height": 225
        }
      },
      "source": [
        "df.sub(s, axis= 'index')"
      ],
      "execution_count": 69,
      "outputs": [
        {
          "output_type": "execute_result",
          "data": {
            "text/html": [
              "<div>\n",
              "<style scoped>\n",
              "    .dataframe tbody tr th:only-of-type {\n",
              "        vertical-align: middle;\n",
              "    }\n",
              "\n",
              "    .dataframe tbody tr th {\n",
              "        vertical-align: top;\n",
              "    }\n",
              "\n",
              "    .dataframe thead th {\n",
              "        text-align: right;\n",
              "    }\n",
              "</style>\n",
              "<table border=\"1\" class=\"dataframe\">\n",
              "  <thead>\n",
              "    <tr style=\"text-align: right;\">\n",
              "      <th></th>\n",
              "      <th>A</th>\n",
              "      <th>B</th>\n",
              "      <th>C</th>\n",
              "      <th>D</th>\n",
              "    </tr>\n",
              "  </thead>\n",
              "  <tbody>\n",
              "    <tr>\n",
              "      <th>2013-01-01</th>\n",
              "      <td>NaN</td>\n",
              "      <td>NaN</td>\n",
              "      <td>NaN</td>\n",
              "      <td>NaN</td>\n",
              "    </tr>\n",
              "    <tr>\n",
              "      <th>2013-01-02</th>\n",
              "      <td>NaN</td>\n",
              "      <td>NaN</td>\n",
              "      <td>NaN</td>\n",
              "      <td>NaN</td>\n",
              "    </tr>\n",
              "    <tr>\n",
              "      <th>2013-01-03</th>\n",
              "      <td>-2.119921</td>\n",
              "      <td>0.280441</td>\n",
              "      <td>1.158715</td>\n",
              "      <td>-1.043198</td>\n",
              "    </tr>\n",
              "    <tr>\n",
              "      <th>2013-01-04</th>\n",
              "      <td>-3.013501</td>\n",
              "      <td>-2.321596</td>\n",
              "      <td>-2.706431</td>\n",
              "      <td>-3.922581</td>\n",
              "    </tr>\n",
              "    <tr>\n",
              "      <th>2013-01-05</th>\n",
              "      <td>-4.489912</td>\n",
              "      <td>-5.067553</td>\n",
              "      <td>-4.328778</td>\n",
              "      <td>-5.521168</td>\n",
              "    </tr>\n",
              "    <tr>\n",
              "      <th>2013-01-06</th>\n",
              "      <td>NaN</td>\n",
              "      <td>NaN</td>\n",
              "      <td>NaN</td>\n",
              "      <td>NaN</td>\n",
              "    </tr>\n",
              "  </tbody>\n",
              "</table>\n",
              "</div>"
            ],
            "text/plain": [
              "                   A         B         C         D\n",
              "2013-01-01       NaN       NaN       NaN       NaN\n",
              "2013-01-02       NaN       NaN       NaN       NaN\n",
              "2013-01-03 -2.119921  0.280441  1.158715 -1.043198\n",
              "2013-01-04 -3.013501 -2.321596 -2.706431 -3.922581\n",
              "2013-01-05 -4.489912 -5.067553 -4.328778 -5.521168\n",
              "2013-01-06       NaN       NaN       NaN       NaN"
            ]
          },
          "metadata": {
            "tags": []
          },
          "execution_count": 69
        }
      ]
    },
    {
      "cell_type": "markdown",
      "metadata": {
        "id": "oq0t7rUZexHl"
      },
      "source": [
        "Apply(적용)\n",
        "\n",
        "데이터에 함수를 적용합니다."
      ]
    },
    {
      "cell_type": "code",
      "metadata": {
        "id": "aK34l6jfe5Eh",
        "outputId": "cfcaed4e-0949-4d14-a353-461ec9152889",
        "colab": {
          "base_uri": "https://localhost:8080/",
          "height": 225
        }
      },
      "source": [
        "df.apply(np.cumsum)"
      ],
      "execution_count": 70,
      "outputs": [
        {
          "output_type": "execute_result",
          "data": {
            "text/html": [
              "<div>\n",
              "<style scoped>\n",
              "    .dataframe tbody tr th:only-of-type {\n",
              "        vertical-align: middle;\n",
              "    }\n",
              "\n",
              "    .dataframe tbody tr th {\n",
              "        vertical-align: top;\n",
              "    }\n",
              "\n",
              "    .dataframe thead th {\n",
              "        text-align: right;\n",
              "    }\n",
              "</style>\n",
              "<table border=\"1\" class=\"dataframe\">\n",
              "  <thead>\n",
              "    <tr style=\"text-align: right;\">\n",
              "      <th></th>\n",
              "      <th>A</th>\n",
              "      <th>B</th>\n",
              "      <th>C</th>\n",
              "      <th>D</th>\n",
              "    </tr>\n",
              "  </thead>\n",
              "  <tbody>\n",
              "    <tr>\n",
              "      <th>2013-01-01</th>\n",
              "      <td>0.194410</td>\n",
              "      <td>0.121056</td>\n",
              "      <td>0.605077</td>\n",
              "      <td>-0.280678</td>\n",
              "    </tr>\n",
              "    <tr>\n",
              "      <th>2013-01-02</th>\n",
              "      <td>-1.524165</td>\n",
              "      <td>0.535543</td>\n",
              "      <td>-0.464181</td>\n",
              "      <td>1.228440</td>\n",
              "    </tr>\n",
              "    <tr>\n",
              "      <th>2013-01-03</th>\n",
              "      <td>-2.644086</td>\n",
              "      <td>1.815985</td>\n",
              "      <td>1.694534</td>\n",
              "      <td>1.185241</td>\n",
              "    </tr>\n",
              "    <tr>\n",
              "      <th>2013-01-04</th>\n",
              "      <td>-2.657586</td>\n",
              "      <td>2.494389</td>\n",
              "      <td>1.988103</td>\n",
              "      <td>0.262660</td>\n",
              "    </tr>\n",
              "    <tr>\n",
              "      <th>2013-01-05</th>\n",
              "      <td>-2.147499</td>\n",
              "      <td>2.426836</td>\n",
              "      <td>2.659325</td>\n",
              "      <td>-0.258508</td>\n",
              "    </tr>\n",
              "    <tr>\n",
              "      <th>2013-01-06</th>\n",
              "      <td>-3.377929</td>\n",
              "      <td>2.251168</td>\n",
              "      <td>3.054650</td>\n",
              "      <td>0.849302</td>\n",
              "    </tr>\n",
              "  </tbody>\n",
              "</table>\n",
              "</div>"
            ],
            "text/plain": [
              "                   A         B         C         D\n",
              "2013-01-01  0.194410  0.121056  0.605077 -0.280678\n",
              "2013-01-02 -1.524165  0.535543 -0.464181  1.228440\n",
              "2013-01-03 -2.644086  1.815985  1.694534  1.185241\n",
              "2013-01-04 -2.657586  2.494389  1.988103  0.262660\n",
              "2013-01-05 -2.147499  2.426836  2.659325 -0.258508\n",
              "2013-01-06 -3.377929  2.251168  3.054650  0.849302"
            ]
          },
          "metadata": {
            "tags": []
          },
          "execution_count": 70
        }
      ]
    },
    {
      "cell_type": "code",
      "metadata": {
        "id": "TOZt5DoJe9-L",
        "outputId": "789a870f-6e61-40ad-dd6b-a5d1a90d7826",
        "colab": {
          "base_uri": "https://localhost:8080/"
        }
      },
      "source": [
        "df.apply(lambda x: x.max() - x.min())"
      ],
      "execution_count": 73,
      "outputs": [
        {
          "output_type": "execute_result",
          "data": {
            "text/plain": [
              "A    2.228662\n",
              "B    1.456110\n",
              "C    3.227972\n",
              "D    2.431699\n",
              "dtype: float64"
            ]
          },
          "metadata": {
            "tags": []
          },
          "execution_count": 73
        }
      ]
    },
    {
      "cell_type": "markdown",
      "metadata": {
        "id": "6S4dwsuLfU0j"
      },
      "source": [
        "Histogramming (히스토그래밍)\n",
        "\n",
        "더 많은 내용은 Histogramming and Discretization(히스토그래밍과 이산화)\n",
        "항목을 참조하세요."
      ]
    },
    {
      "cell_type": "code",
      "metadata": {
        "id": "-PONvofsfxIS",
        "outputId": "af551912-509c-43ea-9e08-4db8d1d2ef60",
        "colab": {
          "base_uri": "https://localhost:8080/"
        }
      },
      "source": [
        "s = pd.Series(np.random.randint(0, 7, size=10))\n",
        "s"
      ],
      "execution_count": 75,
      "outputs": [
        {
          "output_type": "execute_result",
          "data": {
            "text/plain": [
              "0    6\n",
              "1    1\n",
              "2    1\n",
              "3    4\n",
              "4    4\n",
              "5    3\n",
              "6    2\n",
              "7    5\n",
              "8    1\n",
              "9    1\n",
              "dtype: int64"
            ]
          },
          "metadata": {
            "tags": []
          },
          "execution_count": 75
        }
      ]
    },
    {
      "cell_type": "code",
      "metadata": {
        "id": "dG4nFehJgE_T",
        "outputId": "74a562d9-3001-43d6-ca97-b6a395620553",
        "colab": {
          "base_uri": "https://localhost:8080/"
        }
      },
      "source": [
        "s.value_counts()"
      ],
      "execution_count": 76,
      "outputs": [
        {
          "output_type": "execute_result",
          "data": {
            "text/plain": [
              "1    4\n",
              "4    2\n",
              "6    1\n",
              "5    1\n",
              "3    1\n",
              "2    1\n",
              "dtype: int64"
            ]
          },
          "metadata": {
            "tags": []
          },
          "execution_count": 76
        }
      ]
    },
    {
      "cell_type": "markdown",
      "metadata": {
        "id": "6EdZR0VqgIDl"
      },
      "source": [
        "string methods (문자열 메소드)\n",
        "\n",
        "series는 다음의 코드와 같이 문자열 처리 메소드 모음(set)을 가지고 있습니다.\n",
        "이 모음은 배열의 각 요소를 쉽게 조작할 수 있도록 만들어주는 문자열의 속성에 포함되어 있습니다.\n",
        "\n",
        "문자열의 패턴 일치 확인은 기보적으로 정규 표현식을 사용하며,몇몇 경우에는 항상 정규표현식을 사용함에 유의하십오.\n",
        "\n",
        "종 더 자세한 내용은 백터화된 문자열메소드 부분에서 확인할 수 있습니다.\n"
      ]
    },
    {
      "cell_type": "code",
      "metadata": {
        "id": "jIBS1nnYg9u9",
        "outputId": "15e22bf0-e627-4191-d117-fa70069545a3",
        "colab": {
          "base_uri": "https://localhost:8080/"
        }
      },
      "source": [
        "s = pd.Series(['A', 'B', 'C', 'Aaba', 'Baca', np.nan, 'CABA', 'dog', 'cat'])\n",
        "\n",
        "s.str.lower()"
      ],
      "execution_count": 77,
      "outputs": [
        {
          "output_type": "execute_result",
          "data": {
            "text/plain": [
              "0       a\n",
              "1       b\n",
              "2       c\n",
              "3    aaba\n",
              "4    baca\n",
              "5     NaN\n",
              "6    caba\n",
              "7     dog\n",
              "8     cat\n",
              "dtype: object"
            ]
          },
          "metadata": {
            "tags": []
          },
          "execution_count": 77
        }
      ]
    },
    {
      "cell_type": "markdown",
      "metadata": {
        "id": "AMAbr6echFh1"
      },
      "source": [
        "6. Merge(병합)\n"
      ]
    },
    {
      "cell_type": "markdown",
      "metadata": {
        "id": "aKEUC5rnhKvt"
      },
      "source": [
        "concat (연결)\n",
        "결합 (join)/병합(merge) 형태의 연산에 대한 인덱스, 관계 대수 기능을 위한 다양한 형태의 논리를 포함함 series,데이터프레임,panel 객체를 손쉽게 결합할 수 있도록 하는 다양한 기능을 pandas에서 제공합니다.\n",
        "\n",
        "merging 부분을 참조하세요\n",
        "\n",
        "concat()으로 pandas 객채를 연결합니다."
      ]
    },
    {
      "cell_type": "code",
      "metadata": {
        "id": "DJWIn4vhh2KS",
        "outputId": "84b721cd-b188-4021-bde8-bd99793badcd",
        "colab": {
          "base_uri": "https://localhost:8080/",
          "height": 343
        }
      },
      "source": [
        "df = pd.DataFrame(np.random.randn(10,4))\n",
        "df"
      ],
      "execution_count": 78,
      "outputs": [
        {
          "output_type": "execute_result",
          "data": {
            "text/html": [
              "<div>\n",
              "<style scoped>\n",
              "    .dataframe tbody tr th:only-of-type {\n",
              "        vertical-align: middle;\n",
              "    }\n",
              "\n",
              "    .dataframe tbody tr th {\n",
              "        vertical-align: top;\n",
              "    }\n",
              "\n",
              "    .dataframe thead th {\n",
              "        text-align: right;\n",
              "    }\n",
              "</style>\n",
              "<table border=\"1\" class=\"dataframe\">\n",
              "  <thead>\n",
              "    <tr style=\"text-align: right;\">\n",
              "      <th></th>\n",
              "      <th>0</th>\n",
              "      <th>1</th>\n",
              "      <th>2</th>\n",
              "      <th>3</th>\n",
              "    </tr>\n",
              "  </thead>\n",
              "  <tbody>\n",
              "    <tr>\n",
              "      <th>0</th>\n",
              "      <td>-0.875812</td>\n",
              "      <td>-0.968662</td>\n",
              "      <td>-0.193460</td>\n",
              "      <td>-0.046753</td>\n",
              "    </tr>\n",
              "    <tr>\n",
              "      <th>1</th>\n",
              "      <td>0.073616</td>\n",
              "      <td>1.142832</td>\n",
              "      <td>2.035875</td>\n",
              "      <td>-0.516474</td>\n",
              "    </tr>\n",
              "    <tr>\n",
              "      <th>2</th>\n",
              "      <td>1.370633</td>\n",
              "      <td>0.758340</td>\n",
              "      <td>0.768648</td>\n",
              "      <td>1.429753</td>\n",
              "    </tr>\n",
              "    <tr>\n",
              "      <th>3</th>\n",
              "      <td>0.216355</td>\n",
              "      <td>1.269061</td>\n",
              "      <td>-0.294901</td>\n",
              "      <td>0.938689</td>\n",
              "    </tr>\n",
              "    <tr>\n",
              "      <th>4</th>\n",
              "      <td>1.685577</td>\n",
              "      <td>-0.682654</td>\n",
              "      <td>0.792883</td>\n",
              "      <td>0.690632</td>\n",
              "    </tr>\n",
              "    <tr>\n",
              "      <th>5</th>\n",
              "      <td>0.337686</td>\n",
              "      <td>-0.669829</td>\n",
              "      <td>-0.539364</td>\n",
              "      <td>-0.586899</td>\n",
              "    </tr>\n",
              "    <tr>\n",
              "      <th>6</th>\n",
              "      <td>-0.801232</td>\n",
              "      <td>-0.419858</td>\n",
              "      <td>0.552384</td>\n",
              "      <td>1.099629</td>\n",
              "    </tr>\n",
              "    <tr>\n",
              "      <th>7</th>\n",
              "      <td>0.951477</td>\n",
              "      <td>0.647495</td>\n",
              "      <td>0.615819</td>\n",
              "      <td>-0.537869</td>\n",
              "    </tr>\n",
              "    <tr>\n",
              "      <th>8</th>\n",
              "      <td>-0.879253</td>\n",
              "      <td>0.591884</td>\n",
              "      <td>1.514240</td>\n",
              "      <td>-2.407143</td>\n",
              "    </tr>\n",
              "    <tr>\n",
              "      <th>9</th>\n",
              "      <td>-1.589914</td>\n",
              "      <td>0.930538</td>\n",
              "      <td>0.146211</td>\n",
              "      <td>-0.001975</td>\n",
              "    </tr>\n",
              "  </tbody>\n",
              "</table>\n",
              "</div>"
            ],
            "text/plain": [
              "          0         1         2         3\n",
              "0 -0.875812 -0.968662 -0.193460 -0.046753\n",
              "1  0.073616  1.142832  2.035875 -0.516474\n",
              "2  1.370633  0.758340  0.768648  1.429753\n",
              "3  0.216355  1.269061 -0.294901  0.938689\n",
              "4  1.685577 -0.682654  0.792883  0.690632\n",
              "5  0.337686 -0.669829 -0.539364 -0.586899\n",
              "6 -0.801232 -0.419858  0.552384  1.099629\n",
              "7  0.951477  0.647495  0.615819 -0.537869\n",
              "8 -0.879253  0.591884  1.514240 -2.407143\n",
              "9 -1.589914  0.930538  0.146211 -0.001975"
            ]
          },
          "metadata": {
            "tags": []
          },
          "execution_count": 78
        }
      ]
    },
    {
      "cell_type": "code",
      "metadata": {
        "id": "ttYAC0EbiGFg",
        "outputId": "a62051b9-3ca9-41a0-a7d2-b7c263376b0a",
        "colab": {
          "base_uri": "https://localhost:8080/",
          "height": 254
        }
      },
      "source": [
        "# break it into pieces\n",
        "pieces = [df[:3], df[3:7], df[7:1]]\n",
        "pd.concat(pieces)"
      ],
      "execution_count": 79,
      "outputs": [
        {
          "output_type": "execute_result",
          "data": {
            "text/html": [
              "<div>\n",
              "<style scoped>\n",
              "    .dataframe tbody tr th:only-of-type {\n",
              "        vertical-align: middle;\n",
              "    }\n",
              "\n",
              "    .dataframe tbody tr th {\n",
              "        vertical-align: top;\n",
              "    }\n",
              "\n",
              "    .dataframe thead th {\n",
              "        text-align: right;\n",
              "    }\n",
              "</style>\n",
              "<table border=\"1\" class=\"dataframe\">\n",
              "  <thead>\n",
              "    <tr style=\"text-align: right;\">\n",
              "      <th></th>\n",
              "      <th>0</th>\n",
              "      <th>1</th>\n",
              "      <th>2</th>\n",
              "      <th>3</th>\n",
              "    </tr>\n",
              "  </thead>\n",
              "  <tbody>\n",
              "    <tr>\n",
              "      <th>0</th>\n",
              "      <td>-0.875812</td>\n",
              "      <td>-0.968662</td>\n",
              "      <td>-0.193460</td>\n",
              "      <td>-0.046753</td>\n",
              "    </tr>\n",
              "    <tr>\n",
              "      <th>1</th>\n",
              "      <td>0.073616</td>\n",
              "      <td>1.142832</td>\n",
              "      <td>2.035875</td>\n",
              "      <td>-0.516474</td>\n",
              "    </tr>\n",
              "    <tr>\n",
              "      <th>2</th>\n",
              "      <td>1.370633</td>\n",
              "      <td>0.758340</td>\n",
              "      <td>0.768648</td>\n",
              "      <td>1.429753</td>\n",
              "    </tr>\n",
              "    <tr>\n",
              "      <th>3</th>\n",
              "      <td>0.216355</td>\n",
              "      <td>1.269061</td>\n",
              "      <td>-0.294901</td>\n",
              "      <td>0.938689</td>\n",
              "    </tr>\n",
              "    <tr>\n",
              "      <th>4</th>\n",
              "      <td>1.685577</td>\n",
              "      <td>-0.682654</td>\n",
              "      <td>0.792883</td>\n",
              "      <td>0.690632</td>\n",
              "    </tr>\n",
              "    <tr>\n",
              "      <th>5</th>\n",
              "      <td>0.337686</td>\n",
              "      <td>-0.669829</td>\n",
              "      <td>-0.539364</td>\n",
              "      <td>-0.586899</td>\n",
              "    </tr>\n",
              "    <tr>\n",
              "      <th>6</th>\n",
              "      <td>-0.801232</td>\n",
              "      <td>-0.419858</td>\n",
              "      <td>0.552384</td>\n",
              "      <td>1.099629</td>\n",
              "    </tr>\n",
              "  </tbody>\n",
              "</table>\n",
              "</div>"
            ],
            "text/plain": [
              "          0         1         2         3\n",
              "0 -0.875812 -0.968662 -0.193460 -0.046753\n",
              "1  0.073616  1.142832  2.035875 -0.516474\n",
              "2  1.370633  0.758340  0.768648  1.429753\n",
              "3  0.216355  1.269061 -0.294901  0.938689\n",
              "4  1.685577 -0.682654  0.792883  0.690632\n",
              "5  0.337686 -0.669829 -0.539364 -0.586899\n",
              "6 -0.801232 -0.419858  0.552384  1.099629"
            ]
          },
          "metadata": {
            "tags": []
          },
          "execution_count": 79
        }
      ]
    },
    {
      "cell_type": "markdown",
      "metadata": {
        "id": "xKUNqJpcidRj"
      },
      "source": [
        "join (결합)\n",
        "\n",
        "SQL 방식으로 병합합니다. 데이터베이스 스타일 결합 부분을 참고하세요.\n"
      ]
    },
    {
      "cell_type": "code",
      "metadata": {
        "id": "SyesUlCfiqsd",
        "outputId": "5fc84824-d858-4e01-cb50-c6abbceb9e4b",
        "colab": {
          "base_uri": "https://localhost:8080/",
          "height": 106
        }
      },
      "source": [
        "left = pd.DataFrame({'key': ['foo', 'foo'], 'lval': [1, 2]})\n",
        "\n",
        "right = pd.DataFrame({'key': ['foo', 'foo'], 'rval': [4, 5]})\n",
        "left"
      ],
      "execution_count": 80,
      "outputs": [
        {
          "output_type": "execute_result",
          "data": {
            "text/html": [
              "<div>\n",
              "<style scoped>\n",
              "    .dataframe tbody tr th:only-of-type {\n",
              "        vertical-align: middle;\n",
              "    }\n",
              "\n",
              "    .dataframe tbody tr th {\n",
              "        vertical-align: top;\n",
              "    }\n",
              "\n",
              "    .dataframe thead th {\n",
              "        text-align: right;\n",
              "    }\n",
              "</style>\n",
              "<table border=\"1\" class=\"dataframe\">\n",
              "  <thead>\n",
              "    <tr style=\"text-align: right;\">\n",
              "      <th></th>\n",
              "      <th>key</th>\n",
              "      <th>lval</th>\n",
              "    </tr>\n",
              "  </thead>\n",
              "  <tbody>\n",
              "    <tr>\n",
              "      <th>0</th>\n",
              "      <td>foo</td>\n",
              "      <td>1</td>\n",
              "    </tr>\n",
              "    <tr>\n",
              "      <th>1</th>\n",
              "      <td>foo</td>\n",
              "      <td>2</td>\n",
              "    </tr>\n",
              "  </tbody>\n",
              "</table>\n",
              "</div>"
            ],
            "text/plain": [
              "   key  lval\n",
              "0  foo     1\n",
              "1  foo     2"
            ]
          },
          "metadata": {
            "tags": []
          },
          "execution_count": 80
        }
      ]
    },
    {
      "cell_type": "code",
      "metadata": {
        "id": "jayChETujK8E",
        "outputId": "0b655bc5-dbf4-4ed6-fffb-ea5848cb90b9",
        "colab": {
          "base_uri": "https://localhost:8080/",
          "height": 106
        }
      },
      "source": [
        "left = pd.DataFrame({'key': ['foo', 'foo'], 'lval': [1, 2]})\n",
        "right = pd.DataFrame({'key': ['foo', 'foo'], 'rval': [4, 5]})\n",
        "\n",
        "right"
      ],
      "execution_count": 81,
      "outputs": [
        {
          "output_type": "execute_result",
          "data": {
            "text/html": [
              "<div>\n",
              "<style scoped>\n",
              "    .dataframe tbody tr th:only-of-type {\n",
              "        vertical-align: middle;\n",
              "    }\n",
              "\n",
              "    .dataframe tbody tr th {\n",
              "        vertical-align: top;\n",
              "    }\n",
              "\n",
              "    .dataframe thead th {\n",
              "        text-align: right;\n",
              "    }\n",
              "</style>\n",
              "<table border=\"1\" class=\"dataframe\">\n",
              "  <thead>\n",
              "    <tr style=\"text-align: right;\">\n",
              "      <th></th>\n",
              "      <th>key</th>\n",
              "      <th>rval</th>\n",
              "    </tr>\n",
              "  </thead>\n",
              "  <tbody>\n",
              "    <tr>\n",
              "      <th>0</th>\n",
              "      <td>foo</td>\n",
              "      <td>4</td>\n",
              "    </tr>\n",
              "    <tr>\n",
              "      <th>1</th>\n",
              "      <td>foo</td>\n",
              "      <td>5</td>\n",
              "    </tr>\n",
              "  </tbody>\n",
              "</table>\n",
              "</div>"
            ],
            "text/plain": [
              "   key  rval\n",
              "0  foo     4\n",
              "1  foo     5"
            ]
          },
          "metadata": {
            "tags": []
          },
          "execution_count": 81
        }
      ]
    },
    {
      "cell_type": "code",
      "metadata": {
        "id": "nNobzCsLjO9n",
        "outputId": "51638a51-5a5a-499c-edcc-4be28304c37d",
        "colab": {
          "base_uri": "https://localhost:8080/",
          "height": 166
        }
      },
      "source": [
        "pd.merge(left, right, on='key')"
      ],
      "execution_count": 82,
      "outputs": [
        {
          "output_type": "execute_result",
          "data": {
            "text/html": [
              "<div>\n",
              "<style scoped>\n",
              "    .dataframe tbody tr th:only-of-type {\n",
              "        vertical-align: middle;\n",
              "    }\n",
              "\n",
              "    .dataframe tbody tr th {\n",
              "        vertical-align: top;\n",
              "    }\n",
              "\n",
              "    .dataframe thead th {\n",
              "        text-align: right;\n",
              "    }\n",
              "</style>\n",
              "<table border=\"1\" class=\"dataframe\">\n",
              "  <thead>\n",
              "    <tr style=\"text-align: right;\">\n",
              "      <th></th>\n",
              "      <th>key</th>\n",
              "      <th>lval</th>\n",
              "      <th>rval</th>\n",
              "    </tr>\n",
              "  </thead>\n",
              "  <tbody>\n",
              "    <tr>\n",
              "      <th>0</th>\n",
              "      <td>foo</td>\n",
              "      <td>1</td>\n",
              "      <td>4</td>\n",
              "    </tr>\n",
              "    <tr>\n",
              "      <th>1</th>\n",
              "      <td>foo</td>\n",
              "      <td>1</td>\n",
              "      <td>5</td>\n",
              "    </tr>\n",
              "    <tr>\n",
              "      <th>2</th>\n",
              "      <td>foo</td>\n",
              "      <td>2</td>\n",
              "      <td>4</td>\n",
              "    </tr>\n",
              "    <tr>\n",
              "      <th>3</th>\n",
              "      <td>foo</td>\n",
              "      <td>2</td>\n",
              "      <td>5</td>\n",
              "    </tr>\n",
              "  </tbody>\n",
              "</table>\n",
              "</div>"
            ],
            "text/plain": [
              "   key  lval  rval\n",
              "0  foo     1     4\n",
              "1  foo     1     5\n",
              "2  foo     2     4\n",
              "3  foo     2     5"
            ]
          },
          "metadata": {
            "tags": []
          },
          "execution_count": 82
        }
      ]
    },
    {
      "cell_type": "markdown",
      "metadata": {
        "id": "19mlthP9jWbP"
      },
      "source": [
        "다른 예시입니다."
      ]
    },
    {
      "cell_type": "code",
      "metadata": {
        "id": "uQT8eI7GjZfe",
        "outputId": "696af688-5f31-433b-b3ce-643089473328",
        "colab": {
          "base_uri": "https://localhost:8080/",
          "height": 106
        }
      },
      "source": [
        "left = pd.DataFrame({'key' : ['foo', 'bar'], 'lval' : [1, 2]})\n",
        "\n",
        "right = pd.DataFrame({'key': ['foo', 'bar'], 'rval': [4, 5]})\n",
        "left\n"
      ],
      "execution_count": 83,
      "outputs": [
        {
          "output_type": "execute_result",
          "data": {
            "text/html": [
              "<div>\n",
              "<style scoped>\n",
              "    .dataframe tbody tr th:only-of-type {\n",
              "        vertical-align: middle;\n",
              "    }\n",
              "\n",
              "    .dataframe tbody tr th {\n",
              "        vertical-align: top;\n",
              "    }\n",
              "\n",
              "    .dataframe thead th {\n",
              "        text-align: right;\n",
              "    }\n",
              "</style>\n",
              "<table border=\"1\" class=\"dataframe\">\n",
              "  <thead>\n",
              "    <tr style=\"text-align: right;\">\n",
              "      <th></th>\n",
              "      <th>key</th>\n",
              "      <th>lval</th>\n",
              "    </tr>\n",
              "  </thead>\n",
              "  <tbody>\n",
              "    <tr>\n",
              "      <th>0</th>\n",
              "      <td>foo</td>\n",
              "      <td>1</td>\n",
              "    </tr>\n",
              "    <tr>\n",
              "      <th>1</th>\n",
              "      <td>bar</td>\n",
              "      <td>2</td>\n",
              "    </tr>\n",
              "  </tbody>\n",
              "</table>\n",
              "</div>"
            ],
            "text/plain": [
              "   key  lval\n",
              "0  foo     1\n",
              "1  bar     2"
            ]
          },
          "metadata": {
            "tags": []
          },
          "execution_count": 83
        }
      ]
    },
    {
      "cell_type": "code",
      "metadata": {
        "id": "QGrMykGwjiHh",
        "outputId": "3f568cbe-ebb9-4a5f-dfaf-8149e9620368",
        "colab": {
          "base_uri": "https://localhost:8080/",
          "height": 106
        }
      },
      "source": [
        "left = pd.DataFrame({'key' : ['foo', 'bar'], 'lval' : [1, 2]})\n",
        "\n",
        "right = pd.DataFrame({'key': ['foo', 'bar'], 'rval': [4, 5]})\n",
        "right"
      ],
      "execution_count": 84,
      "outputs": [
        {
          "output_type": "execute_result",
          "data": {
            "text/html": [
              "<div>\n",
              "<style scoped>\n",
              "    .dataframe tbody tr th:only-of-type {\n",
              "        vertical-align: middle;\n",
              "    }\n",
              "\n",
              "    .dataframe tbody tr th {\n",
              "        vertical-align: top;\n",
              "    }\n",
              "\n",
              "    .dataframe thead th {\n",
              "        text-align: right;\n",
              "    }\n",
              "</style>\n",
              "<table border=\"1\" class=\"dataframe\">\n",
              "  <thead>\n",
              "    <tr style=\"text-align: right;\">\n",
              "      <th></th>\n",
              "      <th>key</th>\n",
              "      <th>rval</th>\n",
              "    </tr>\n",
              "  </thead>\n",
              "  <tbody>\n",
              "    <tr>\n",
              "      <th>0</th>\n",
              "      <td>foo</td>\n",
              "      <td>4</td>\n",
              "    </tr>\n",
              "    <tr>\n",
              "      <th>1</th>\n",
              "      <td>bar</td>\n",
              "      <td>5</td>\n",
              "    </tr>\n",
              "  </tbody>\n",
              "</table>\n",
              "</div>"
            ],
            "text/plain": [
              "   key  rval\n",
              "0  foo     4\n",
              "1  bar     5"
            ]
          },
          "metadata": {
            "tags": []
          },
          "execution_count": 84
        }
      ]
    },
    {
      "cell_type": "markdown",
      "metadata": {
        "id": "ts3CnPZFj03Q"
      },
      "source": [
        "Append (추가)\n",
        "'데이터프레임에 행을 추가합니다. Appending 부분을 참조하세요."
      ]
    },
    {
      "cell_type": "code",
      "metadata": {
        "id": "OSGzja9jkAkL",
        "outputId": "9700a0b0-a4f4-4c22-8a34-26240943ab27",
        "colab": {
          "base_uri": "https://localhost:8080/",
          "height": 284
        }
      },
      "source": [
        "df = pd.DataFrame(np.random.randn(8, 4), columns=['A', 'B', 'C', 'D'])\n",
        "\n",
        "df"
      ],
      "execution_count": 85,
      "outputs": [
        {
          "output_type": "execute_result",
          "data": {
            "text/html": [
              "<div>\n",
              "<style scoped>\n",
              "    .dataframe tbody tr th:only-of-type {\n",
              "        vertical-align: middle;\n",
              "    }\n",
              "\n",
              "    .dataframe tbody tr th {\n",
              "        vertical-align: top;\n",
              "    }\n",
              "\n",
              "    .dataframe thead th {\n",
              "        text-align: right;\n",
              "    }\n",
              "</style>\n",
              "<table border=\"1\" class=\"dataframe\">\n",
              "  <thead>\n",
              "    <tr style=\"text-align: right;\">\n",
              "      <th></th>\n",
              "      <th>A</th>\n",
              "      <th>B</th>\n",
              "      <th>C</th>\n",
              "      <th>D</th>\n",
              "    </tr>\n",
              "  </thead>\n",
              "  <tbody>\n",
              "    <tr>\n",
              "      <th>0</th>\n",
              "      <td>-0.186303</td>\n",
              "      <td>-0.948499</td>\n",
              "      <td>-1.691976</td>\n",
              "      <td>2.520725</td>\n",
              "    </tr>\n",
              "    <tr>\n",
              "      <th>1</th>\n",
              "      <td>0.814807</td>\n",
              "      <td>-0.901218</td>\n",
              "      <td>-2.010461</td>\n",
              "      <td>0.453750</td>\n",
              "    </tr>\n",
              "    <tr>\n",
              "      <th>2</th>\n",
              "      <td>-2.040529</td>\n",
              "      <td>-1.461039</td>\n",
              "      <td>2.445050</td>\n",
              "      <td>-0.855324</td>\n",
              "    </tr>\n",
              "    <tr>\n",
              "      <th>3</th>\n",
              "      <td>2.433347</td>\n",
              "      <td>1.310652</td>\n",
              "      <td>1.312268</td>\n",
              "      <td>-0.490035</td>\n",
              "    </tr>\n",
              "    <tr>\n",
              "      <th>4</th>\n",
              "      <td>-2.366583</td>\n",
              "      <td>-0.564038</td>\n",
              "      <td>-0.696777</td>\n",
              "      <td>0.036595</td>\n",
              "    </tr>\n",
              "    <tr>\n",
              "      <th>5</th>\n",
              "      <td>1.510713</td>\n",
              "      <td>0.684128</td>\n",
              "      <td>-0.437801</td>\n",
              "      <td>-0.186753</td>\n",
              "    </tr>\n",
              "    <tr>\n",
              "      <th>6</th>\n",
              "      <td>-0.592549</td>\n",
              "      <td>-0.363812</td>\n",
              "      <td>0.521712</td>\n",
              "      <td>-1.301172</td>\n",
              "    </tr>\n",
              "    <tr>\n",
              "      <th>7</th>\n",
              "      <td>-0.120403</td>\n",
              "      <td>0.975058</td>\n",
              "      <td>-0.046443</td>\n",
              "      <td>-0.125506</td>\n",
              "    </tr>\n",
              "  </tbody>\n",
              "</table>\n",
              "</div>"
            ],
            "text/plain": [
              "          A         B         C         D\n",
              "0 -0.186303 -0.948499 -1.691976  2.520725\n",
              "1  0.814807 -0.901218 -2.010461  0.453750\n",
              "2 -2.040529 -1.461039  2.445050 -0.855324\n",
              "3  2.433347  1.310652  1.312268 -0.490035\n",
              "4 -2.366583 -0.564038 -0.696777  0.036595\n",
              "5  1.510713  0.684128 -0.437801 -0.186753\n",
              "6 -0.592549 -0.363812  0.521712 -1.301172\n",
              "7 -0.120403  0.975058 -0.046443 -0.125506"
            ]
          },
          "metadata": {
            "tags": []
          },
          "execution_count": 85
        }
      ]
    },
    {
      "cell_type": "code",
      "metadata": {
        "id": "QjmwWEtykIft",
        "outputId": "db89328c-768a-4ff1-93c0-cc3ad4f7a0b5",
        "colab": {
          "base_uri": "https://localhost:8080/",
          "height": 314
        }
      },
      "source": [
        "s = df.iloc[3]\n",
        "df.append(s, ignore_index=True)"
      ],
      "execution_count": 87,
      "outputs": [
        {
          "output_type": "execute_result",
          "data": {
            "text/html": [
              "<div>\n",
              "<style scoped>\n",
              "    .dataframe tbody tr th:only-of-type {\n",
              "        vertical-align: middle;\n",
              "    }\n",
              "\n",
              "    .dataframe tbody tr th {\n",
              "        vertical-align: top;\n",
              "    }\n",
              "\n",
              "    .dataframe thead th {\n",
              "        text-align: right;\n",
              "    }\n",
              "</style>\n",
              "<table border=\"1\" class=\"dataframe\">\n",
              "  <thead>\n",
              "    <tr style=\"text-align: right;\">\n",
              "      <th></th>\n",
              "      <th>A</th>\n",
              "      <th>B</th>\n",
              "      <th>C</th>\n",
              "      <th>D</th>\n",
              "    </tr>\n",
              "  </thead>\n",
              "  <tbody>\n",
              "    <tr>\n",
              "      <th>0</th>\n",
              "      <td>-0.186303</td>\n",
              "      <td>-0.948499</td>\n",
              "      <td>-1.691976</td>\n",
              "      <td>2.520725</td>\n",
              "    </tr>\n",
              "    <tr>\n",
              "      <th>1</th>\n",
              "      <td>0.814807</td>\n",
              "      <td>-0.901218</td>\n",
              "      <td>-2.010461</td>\n",
              "      <td>0.453750</td>\n",
              "    </tr>\n",
              "    <tr>\n",
              "      <th>2</th>\n",
              "      <td>-2.040529</td>\n",
              "      <td>-1.461039</td>\n",
              "      <td>2.445050</td>\n",
              "      <td>-0.855324</td>\n",
              "    </tr>\n",
              "    <tr>\n",
              "      <th>3</th>\n",
              "      <td>2.433347</td>\n",
              "      <td>1.310652</td>\n",
              "      <td>1.312268</td>\n",
              "      <td>-0.490035</td>\n",
              "    </tr>\n",
              "    <tr>\n",
              "      <th>4</th>\n",
              "      <td>-2.366583</td>\n",
              "      <td>-0.564038</td>\n",
              "      <td>-0.696777</td>\n",
              "      <td>0.036595</td>\n",
              "    </tr>\n",
              "    <tr>\n",
              "      <th>5</th>\n",
              "      <td>1.510713</td>\n",
              "      <td>0.684128</td>\n",
              "      <td>-0.437801</td>\n",
              "      <td>-0.186753</td>\n",
              "    </tr>\n",
              "    <tr>\n",
              "      <th>6</th>\n",
              "      <td>-0.592549</td>\n",
              "      <td>-0.363812</td>\n",
              "      <td>0.521712</td>\n",
              "      <td>-1.301172</td>\n",
              "    </tr>\n",
              "    <tr>\n",
              "      <th>7</th>\n",
              "      <td>-0.120403</td>\n",
              "      <td>0.975058</td>\n",
              "      <td>-0.046443</td>\n",
              "      <td>-0.125506</td>\n",
              "    </tr>\n",
              "    <tr>\n",
              "      <th>8</th>\n",
              "      <td>2.433347</td>\n",
              "      <td>1.310652</td>\n",
              "      <td>1.312268</td>\n",
              "      <td>-0.490035</td>\n",
              "    </tr>\n",
              "  </tbody>\n",
              "</table>\n",
              "</div>"
            ],
            "text/plain": [
              "          A         B         C         D\n",
              "0 -0.186303 -0.948499 -1.691976  2.520725\n",
              "1  0.814807 -0.901218 -2.010461  0.453750\n",
              "2 -2.040529 -1.461039  2.445050 -0.855324\n",
              "3  2.433347  1.310652  1.312268 -0.490035\n",
              "4 -2.366583 -0.564038 -0.696777  0.036595\n",
              "5  1.510713  0.684128 -0.437801 -0.186753\n",
              "6 -0.592549 -0.363812  0.521712 -1.301172\n",
              "7 -0.120403  0.975058 -0.046443 -0.125506\n",
              "8  2.433347  1.310652  1.312268 -0.490035"
            ]
          },
          "metadata": {
            "tags": []
          },
          "execution_count": 87
        }
      ]
    },
    {
      "cell_type": "markdown",
      "metadata": {
        "id": "l_Adapj8kdo4"
      },
      "source": [
        "7. Grouping (그룹화)\n",
        "\n",
        "그룹화는 다음 단계 중 하난 이상을 포함하는 과정을 가리킵니다.\n",
        "\n",
        ". 몇몇 기준에 따라 여러 그룹으로 데이터를 분할(splitting)\n",
        ".각 그룹에 독립적으로 함수로 적용(applying)\n",
        ". 결과물들을 하나의 데이터 구조로 결합(combining)\n",
        "\n",
        "자세한 내용을 그룹화 부분을 참조하세요."
      ]
    },
    {
      "cell_type": "code",
      "metadata": {
        "id": "BkoYizo7lBkq",
        "outputId": "4eeb433b-1f91-4bc4-81ec-07a465839ee4",
        "colab": {
          "base_uri": "https://localhost:8080/",
          "height": 284
        }
      },
      "source": [
        "df = pd.DataFrame(\n",
        "    {\n",
        "        'A' : ['foo', 'bar', 'foo', 'bar', 'foo', 'bar', 'foo', 'foo'],\n",
        "        'B' : ['one', 'one', 'two', 'three', 'two', 'two', 'one', 'three'],\n",
        "        'C' : np.random.randn(8),\n",
        "        'D' : np.random.randn(8)\n",
        "    })\n",
        "df"
      ],
      "execution_count": 88,
      "outputs": [
        {
          "output_type": "execute_result",
          "data": {
            "text/html": [
              "<div>\n",
              "<style scoped>\n",
              "    .dataframe tbody tr th:only-of-type {\n",
              "        vertical-align: middle;\n",
              "    }\n",
              "\n",
              "    .dataframe tbody tr th {\n",
              "        vertical-align: top;\n",
              "    }\n",
              "\n",
              "    .dataframe thead th {\n",
              "        text-align: right;\n",
              "    }\n",
              "</style>\n",
              "<table border=\"1\" class=\"dataframe\">\n",
              "  <thead>\n",
              "    <tr style=\"text-align: right;\">\n",
              "      <th></th>\n",
              "      <th>A</th>\n",
              "      <th>B</th>\n",
              "      <th>C</th>\n",
              "      <th>D</th>\n",
              "    </tr>\n",
              "  </thead>\n",
              "  <tbody>\n",
              "    <tr>\n",
              "      <th>0</th>\n",
              "      <td>foo</td>\n",
              "      <td>one</td>\n",
              "      <td>1.216723</td>\n",
              "      <td>0.314523</td>\n",
              "    </tr>\n",
              "    <tr>\n",
              "      <th>1</th>\n",
              "      <td>bar</td>\n",
              "      <td>one</td>\n",
              "      <td>0.762531</td>\n",
              "      <td>-2.301460</td>\n",
              "    </tr>\n",
              "    <tr>\n",
              "      <th>2</th>\n",
              "      <td>foo</td>\n",
              "      <td>two</td>\n",
              "      <td>0.062766</td>\n",
              "      <td>-0.448490</td>\n",
              "    </tr>\n",
              "    <tr>\n",
              "      <th>3</th>\n",
              "      <td>bar</td>\n",
              "      <td>three</td>\n",
              "      <td>-0.458840</td>\n",
              "      <td>0.310048</td>\n",
              "    </tr>\n",
              "    <tr>\n",
              "      <th>4</th>\n",
              "      <td>foo</td>\n",
              "      <td>two</td>\n",
              "      <td>-0.600315</td>\n",
              "      <td>-0.900763</td>\n",
              "    </tr>\n",
              "    <tr>\n",
              "      <th>5</th>\n",
              "      <td>bar</td>\n",
              "      <td>two</td>\n",
              "      <td>-0.874219</td>\n",
              "      <td>0.697910</td>\n",
              "    </tr>\n",
              "    <tr>\n",
              "      <th>6</th>\n",
              "      <td>foo</td>\n",
              "      <td>one</td>\n",
              "      <td>-0.855035</td>\n",
              "      <td>1.082298</td>\n",
              "    </tr>\n",
              "    <tr>\n",
              "      <th>7</th>\n",
              "      <td>foo</td>\n",
              "      <td>three</td>\n",
              "      <td>0.553980</td>\n",
              "      <td>0.299587</td>\n",
              "    </tr>\n",
              "  </tbody>\n",
              "</table>\n",
              "</div>"
            ],
            "text/plain": [
              "     A      B         C         D\n",
              "0  foo    one  1.216723  0.314523\n",
              "1  bar    one  0.762531 -2.301460\n",
              "2  foo    two  0.062766 -0.448490\n",
              "3  bar  three -0.458840  0.310048\n",
              "4  foo    two -0.600315 -0.900763\n",
              "5  bar    two -0.874219  0.697910\n",
              "6  foo    one -0.855035  1.082298\n",
              "7  foo  three  0.553980  0.299587"
            ]
          },
          "metadata": {
            "tags": []
          },
          "execution_count": 88
        }
      ]
    },
    {
      "cell_type": "markdown",
      "metadata": {
        "id": "-fjLjiKNlH7D"
      },
      "source": [
        "생성된 데이터프렘임을 그룹화된 후 각 그룹에 sum()함수를 적용합니다."
      ]
    },
    {
      "cell_type": "code",
      "metadata": {
        "id": "PaKUf2SflY9k",
        "outputId": "961c8ba0-36be-42ae-bad2-dfae0608b778",
        "colab": {
          "base_uri": "https://localhost:8080/",
          "height": 136
        }
      },
      "source": [
        "df.groupby('A').sum()"
      ],
      "execution_count": 89,
      "outputs": [
        {
          "output_type": "execute_result",
          "data": {
            "text/html": [
              "<div>\n",
              "<style scoped>\n",
              "    .dataframe tbody tr th:only-of-type {\n",
              "        vertical-align: middle;\n",
              "    }\n",
              "\n",
              "    .dataframe tbody tr th {\n",
              "        vertical-align: top;\n",
              "    }\n",
              "\n",
              "    .dataframe thead th {\n",
              "        text-align: right;\n",
              "    }\n",
              "</style>\n",
              "<table border=\"1\" class=\"dataframe\">\n",
              "  <thead>\n",
              "    <tr style=\"text-align: right;\">\n",
              "      <th></th>\n",
              "      <th>C</th>\n",
              "      <th>D</th>\n",
              "    </tr>\n",
              "    <tr>\n",
              "      <th>A</th>\n",
              "      <th></th>\n",
              "      <th></th>\n",
              "    </tr>\n",
              "  </thead>\n",
              "  <tbody>\n",
              "    <tr>\n",
              "      <th>bar</th>\n",
              "      <td>-0.570529</td>\n",
              "      <td>-1.293502</td>\n",
              "    </tr>\n",
              "    <tr>\n",
              "      <th>foo</th>\n",
              "      <td>0.378119</td>\n",
              "      <td>0.347155</td>\n",
              "    </tr>\n",
              "  </tbody>\n",
              "</table>\n",
              "</div>"
            ],
            "text/plain": [
              "            C         D\n",
              "A                      \n",
              "bar -0.570529 -1.293502\n",
              "foo  0.378119  0.347155"
            ]
          },
          "metadata": {
            "tags": []
          },
          "execution_count": 89
        }
      ]
    },
    {
      "cell_type": "markdown",
      "metadata": {
        "id": "Jj-0YpsWlilu"
      },
      "source": [
        "여러 열을 기준으로 그룹화된 계층적 인덱스가 형성됩니다, 여기에도 sum함수를 적용할 수 있습니다."
      ]
    },
    {
      "cell_type": "code",
      "metadata": {
        "id": "VxDGa1TMlvLe",
        "outputId": "5bc9336b-0e47-440b-a015-330ecbcb540b",
        "colab": {
          "base_uri": "https://localhost:8080/",
          "height": 254
        }
      },
      "source": [
        "df.groupby(['A','B']).sum()"
      ],
      "execution_count": 91,
      "outputs": [
        {
          "output_type": "execute_result",
          "data": {
            "text/html": [
              "<div>\n",
              "<style scoped>\n",
              "    .dataframe tbody tr th:only-of-type {\n",
              "        vertical-align: middle;\n",
              "    }\n",
              "\n",
              "    .dataframe tbody tr th {\n",
              "        vertical-align: top;\n",
              "    }\n",
              "\n",
              "    .dataframe thead th {\n",
              "        text-align: right;\n",
              "    }\n",
              "</style>\n",
              "<table border=\"1\" class=\"dataframe\">\n",
              "  <thead>\n",
              "    <tr style=\"text-align: right;\">\n",
              "      <th></th>\n",
              "      <th></th>\n",
              "      <th>C</th>\n",
              "      <th>D</th>\n",
              "    </tr>\n",
              "    <tr>\n",
              "      <th>A</th>\n",
              "      <th>B</th>\n",
              "      <th></th>\n",
              "      <th></th>\n",
              "    </tr>\n",
              "  </thead>\n",
              "  <tbody>\n",
              "    <tr>\n",
              "      <th rowspan=\"3\" valign=\"top\">bar</th>\n",
              "      <th>one</th>\n",
              "      <td>0.762531</td>\n",
              "      <td>-2.301460</td>\n",
              "    </tr>\n",
              "    <tr>\n",
              "      <th>three</th>\n",
              "      <td>-0.458840</td>\n",
              "      <td>0.310048</td>\n",
              "    </tr>\n",
              "    <tr>\n",
              "      <th>two</th>\n",
              "      <td>-0.874219</td>\n",
              "      <td>0.697910</td>\n",
              "    </tr>\n",
              "    <tr>\n",
              "      <th rowspan=\"3\" valign=\"top\">foo</th>\n",
              "      <th>one</th>\n",
              "      <td>0.361688</td>\n",
              "      <td>1.396821</td>\n",
              "    </tr>\n",
              "    <tr>\n",
              "      <th>three</th>\n",
              "      <td>0.553980</td>\n",
              "      <td>0.299587</td>\n",
              "    </tr>\n",
              "    <tr>\n",
              "      <th>two</th>\n",
              "      <td>-0.537549</td>\n",
              "      <td>-1.349253</td>\n",
              "    </tr>\n",
              "  </tbody>\n",
              "</table>\n",
              "</div>"
            ],
            "text/plain": [
              "                  C         D\n",
              "A   B                        \n",
              "bar one    0.762531 -2.301460\n",
              "    three -0.458840  0.310048\n",
              "    two   -0.874219  0.697910\n",
              "foo one    0.361688  1.396821\n",
              "    three  0.553980  0.299587\n",
              "    two   -0.537549 -1.349253"
            ]
          },
          "metadata": {
            "tags": []
          },
          "execution_count": 91
        }
      ]
    },
    {
      "cell_type": "markdown",
      "metadata": {
        "id": "q4IFhTNlmAe7"
      },
      "source": [
        "8. Reshaping (변형)\n",
        "\n",
        "계층적 인덱싱 및 변형 부분을 참조하세요.\n"
      ]
    },
    {
      "cell_type": "markdown",
      "metadata": {
        "id": "cVS70rhkmPn8"
      },
      "source": [
        "Stack (스택)"
      ]
    },
    {
      "cell_type": "code",
      "metadata": {
        "id": "MqDZZwYVmXzE",
        "outputId": "3e8fd866-9fe7-4fe2-a6e6-d850282978a6",
        "colab": {
          "base_uri": "https://localhost:8080/",
          "height": 195
        }
      },
      "source": [
        "tuples = list(zip(*[['bar', 'bar', 'baz', 'baz',\n",
        "                     'foo', 'foo', 'qux', 'qux'],\n",
        "                    ['one', 'two', 'one', 'two',\n",
        "                     'one', 'two', 'one', 'two']]))\n",
        "index = pd.MultiIndex.from_tuples(tuples, names=['first', 'second'])\n",
        "\n",
        "df = pd.DataFrame(np.random.randn(8, 2), index=index, columns=['A', 'B'])\n",
        "\n",
        "df2 = df[:4]\n",
        "\n",
        "df2\n"
      ],
      "execution_count": 97,
      "outputs": [
        {
          "output_type": "execute_result",
          "data": {
            "text/html": [
              "<div>\n",
              "<style scoped>\n",
              "    .dataframe tbody tr th:only-of-type {\n",
              "        vertical-align: middle;\n",
              "    }\n",
              "\n",
              "    .dataframe tbody tr th {\n",
              "        vertical-align: top;\n",
              "    }\n",
              "\n",
              "    .dataframe thead th {\n",
              "        text-align: right;\n",
              "    }\n",
              "</style>\n",
              "<table border=\"1\" class=\"dataframe\">\n",
              "  <thead>\n",
              "    <tr style=\"text-align: right;\">\n",
              "      <th></th>\n",
              "      <th></th>\n",
              "      <th>A</th>\n",
              "      <th>B</th>\n",
              "    </tr>\n",
              "    <tr>\n",
              "      <th>first</th>\n",
              "      <th>second</th>\n",
              "      <th></th>\n",
              "      <th></th>\n",
              "    </tr>\n",
              "  </thead>\n",
              "  <tbody>\n",
              "    <tr>\n",
              "      <th rowspan=\"2\" valign=\"top\">bar</th>\n",
              "      <th>one</th>\n",
              "      <td>-0.794988</td>\n",
              "      <td>-0.769441</td>\n",
              "    </tr>\n",
              "    <tr>\n",
              "      <th>two</th>\n",
              "      <td>-0.011785</td>\n",
              "      <td>0.685770</td>\n",
              "    </tr>\n",
              "    <tr>\n",
              "      <th rowspan=\"2\" valign=\"top\">baz</th>\n",
              "      <th>one</th>\n",
              "      <td>-1.026549</td>\n",
              "      <td>-1.396432</td>\n",
              "    </tr>\n",
              "    <tr>\n",
              "      <th>two</th>\n",
              "      <td>0.586408</td>\n",
              "      <td>2.039904</td>\n",
              "    </tr>\n",
              "  </tbody>\n",
              "</table>\n",
              "</div>"
            ],
            "text/plain": [
              "                     A         B\n",
              "first second                    \n",
              "bar   one    -0.794988 -0.769441\n",
              "      two    -0.011785  0.685770\n",
              "baz   one    -1.026549 -1.396432\n",
              "      two     0.586408  2.039904"
            ]
          },
          "metadata": {
            "tags": []
          },
          "execution_count": 97
        }
      ]
    },
    {
      "cell_type": "markdown",
      "metadata": {
        "id": "VjL8T0wmnr6V"
      },
      "source": [
        "stack() 메소드는 데이터프레임 열들의 계층을 \"압축\"합니다."
      ]
    },
    {
      "cell_type": "code",
      "metadata": {
        "id": "wD8kbIoSn1vG",
        "outputId": "8cbeaffe-e181-4544-d4fa-ed2e4e65ee37",
        "colab": {
          "base_uri": "https://localhost:8080/"
        }
      },
      "source": [
        "stacked = df2.stack()\n",
        "stacked"
      ],
      "execution_count": 98,
      "outputs": [
        {
          "output_type": "execute_result",
          "data": {
            "text/plain": [
              "first  second   \n",
              "bar    one     A   -0.794988\n",
              "               B   -0.769441\n",
              "       two     A   -0.011785\n",
              "               B    0.685770\n",
              "baz    one     A   -1.026549\n",
              "               B   -1.396432\n",
              "       two     A    0.586408\n",
              "               B    2.039904\n",
              "dtype: float64"
            ]
          },
          "metadata": {
            "tags": []
          },
          "execution_count": 98
        }
      ]
    },
    {
      "cell_type": "markdown",
      "metadata": {
        "id": "YEoZ2hQbn9Jf"
      },
      "source": [
        "\"stack된\" 데이터프레임 또는 (Multilndex를 인덱스로 사용하는) Series인 경우, stack()의 연산은 unstack()이며, 기본적으로 마지막 계층을 unstack합니다."
      ]
    },
    {
      "cell_type": "code",
      "metadata": {
        "id": "qnYlJ-bloBqT",
        "outputId": "05d97e6a-6338-487f-d72e-9a1b5bb322f6",
        "colab": {
          "base_uri": "https://localhost:8080/",
          "height": 195
        }
      },
      "source": [
        "stacked.unstack()"
      ],
      "execution_count": 99,
      "outputs": [
        {
          "output_type": "execute_result",
          "data": {
            "text/html": [
              "<div>\n",
              "<style scoped>\n",
              "    .dataframe tbody tr th:only-of-type {\n",
              "        vertical-align: middle;\n",
              "    }\n",
              "\n",
              "    .dataframe tbody tr th {\n",
              "        vertical-align: top;\n",
              "    }\n",
              "\n",
              "    .dataframe thead th {\n",
              "        text-align: right;\n",
              "    }\n",
              "</style>\n",
              "<table border=\"1\" class=\"dataframe\">\n",
              "  <thead>\n",
              "    <tr style=\"text-align: right;\">\n",
              "      <th></th>\n",
              "      <th></th>\n",
              "      <th>A</th>\n",
              "      <th>B</th>\n",
              "    </tr>\n",
              "    <tr>\n",
              "      <th>first</th>\n",
              "      <th>second</th>\n",
              "      <th></th>\n",
              "      <th></th>\n",
              "    </tr>\n",
              "  </thead>\n",
              "  <tbody>\n",
              "    <tr>\n",
              "      <th rowspan=\"2\" valign=\"top\">bar</th>\n",
              "      <th>one</th>\n",
              "      <td>-0.794988</td>\n",
              "      <td>-0.769441</td>\n",
              "    </tr>\n",
              "    <tr>\n",
              "      <th>two</th>\n",
              "      <td>-0.011785</td>\n",
              "      <td>0.685770</td>\n",
              "    </tr>\n",
              "    <tr>\n",
              "      <th rowspan=\"2\" valign=\"top\">baz</th>\n",
              "      <th>one</th>\n",
              "      <td>-1.026549</td>\n",
              "      <td>-1.396432</td>\n",
              "    </tr>\n",
              "    <tr>\n",
              "      <th>two</th>\n",
              "      <td>0.586408</td>\n",
              "      <td>2.039904</td>\n",
              "    </tr>\n",
              "  </tbody>\n",
              "</table>\n",
              "</div>"
            ],
            "text/plain": [
              "                     A         B\n",
              "first second                    \n",
              "bar   one    -0.794988 -0.769441\n",
              "      two    -0.011785  0.685770\n",
              "baz   one    -1.026549 -1.396432\n",
              "      two     0.586408  2.039904"
            ]
          },
          "metadata": {
            "tags": []
          },
          "execution_count": 99
        }
      ]
    },
    {
      "cell_type": "code",
      "metadata": {
        "id": "gDfqiaxIoc1P",
        "outputId": "59f253af-771b-43a1-8a3e-3041a948c56c",
        "colab": {
          "base_uri": "https://localhost:8080/",
          "height": 195
        }
      },
      "source": [
        "stacked.unstack(1)"
      ],
      "execution_count": 100,
      "outputs": [
        {
          "output_type": "execute_result",
          "data": {
            "text/html": [
              "<div>\n",
              "<style scoped>\n",
              "    .dataframe tbody tr th:only-of-type {\n",
              "        vertical-align: middle;\n",
              "    }\n",
              "\n",
              "    .dataframe tbody tr th {\n",
              "        vertical-align: top;\n",
              "    }\n",
              "\n",
              "    .dataframe thead th {\n",
              "        text-align: right;\n",
              "    }\n",
              "</style>\n",
              "<table border=\"1\" class=\"dataframe\">\n",
              "  <thead>\n",
              "    <tr style=\"text-align: right;\">\n",
              "      <th></th>\n",
              "      <th>second</th>\n",
              "      <th>one</th>\n",
              "      <th>two</th>\n",
              "    </tr>\n",
              "    <tr>\n",
              "      <th>first</th>\n",
              "      <th></th>\n",
              "      <th></th>\n",
              "      <th></th>\n",
              "    </tr>\n",
              "  </thead>\n",
              "  <tbody>\n",
              "    <tr>\n",
              "      <th rowspan=\"2\" valign=\"top\">bar</th>\n",
              "      <th>A</th>\n",
              "      <td>-0.794988</td>\n",
              "      <td>-0.011785</td>\n",
              "    </tr>\n",
              "    <tr>\n",
              "      <th>B</th>\n",
              "      <td>-0.769441</td>\n",
              "      <td>0.685770</td>\n",
              "    </tr>\n",
              "    <tr>\n",
              "      <th rowspan=\"2\" valign=\"top\">baz</th>\n",
              "      <th>A</th>\n",
              "      <td>-1.026549</td>\n",
              "      <td>0.586408</td>\n",
              "    </tr>\n",
              "    <tr>\n",
              "      <th>B</th>\n",
              "      <td>-1.396432</td>\n",
              "      <td>2.039904</td>\n",
              "    </tr>\n",
              "  </tbody>\n",
              "</table>\n",
              "</div>"
            ],
            "text/plain": [
              "second        one       two\n",
              "first                      \n",
              "bar   A -0.794988 -0.011785\n",
              "      B -0.769441  0.685770\n",
              "baz   A -1.026549  0.586408\n",
              "      B -1.396432  2.039904"
            ]
          },
          "metadata": {
            "tags": []
          },
          "execution_count": 100
        }
      ]
    },
    {
      "cell_type": "code",
      "metadata": {
        "id": "72Lxyydloi1d",
        "outputId": "a26fdcb1-db15-43b6-f891-5ac2503e52c7",
        "colab": {
          "base_uri": "https://localhost:8080/",
          "height": 195
        }
      },
      "source": [
        "stacked.unstack(0)"
      ],
      "execution_count": 101,
      "outputs": [
        {
          "output_type": "execute_result",
          "data": {
            "text/html": [
              "<div>\n",
              "<style scoped>\n",
              "    .dataframe tbody tr th:only-of-type {\n",
              "        vertical-align: middle;\n",
              "    }\n",
              "\n",
              "    .dataframe tbody tr th {\n",
              "        vertical-align: top;\n",
              "    }\n",
              "\n",
              "    .dataframe thead th {\n",
              "        text-align: right;\n",
              "    }\n",
              "</style>\n",
              "<table border=\"1\" class=\"dataframe\">\n",
              "  <thead>\n",
              "    <tr style=\"text-align: right;\">\n",
              "      <th></th>\n",
              "      <th>first</th>\n",
              "      <th>bar</th>\n",
              "      <th>baz</th>\n",
              "    </tr>\n",
              "    <tr>\n",
              "      <th>second</th>\n",
              "      <th></th>\n",
              "      <th></th>\n",
              "      <th></th>\n",
              "    </tr>\n",
              "  </thead>\n",
              "  <tbody>\n",
              "    <tr>\n",
              "      <th rowspan=\"2\" valign=\"top\">one</th>\n",
              "      <th>A</th>\n",
              "      <td>-0.794988</td>\n",
              "      <td>-1.026549</td>\n",
              "    </tr>\n",
              "    <tr>\n",
              "      <th>B</th>\n",
              "      <td>-0.769441</td>\n",
              "      <td>-1.396432</td>\n",
              "    </tr>\n",
              "    <tr>\n",
              "      <th rowspan=\"2\" valign=\"top\">two</th>\n",
              "      <th>A</th>\n",
              "      <td>-0.011785</td>\n",
              "      <td>0.586408</td>\n",
              "    </tr>\n",
              "    <tr>\n",
              "      <th>B</th>\n",
              "      <td>0.685770</td>\n",
              "      <td>2.039904</td>\n",
              "    </tr>\n",
              "  </tbody>\n",
              "</table>\n",
              "</div>"
            ],
            "text/plain": [
              "first          bar       baz\n",
              "second                      \n",
              "one    A -0.794988 -1.026549\n",
              "       B -0.769441 -1.396432\n",
              "two    A -0.011785  0.586408\n",
              "       B  0.685770  2.039904"
            ]
          },
          "metadata": {
            "tags": []
          },
          "execution_count": 101
        }
      ]
    },
    {
      "cell_type": "markdown",
      "metadata": {
        "id": "IA6LBa0lond3"
      },
      "source": [
        "pivot tables (피봇 테이블)\n",
        "\n",
        "피보ㅛ 테이블 부분을 참조하세요."
      ]
    },
    {
      "cell_type": "code",
      "metadata": {
        "id": "tND94KD8o0WR",
        "outputId": "57d84190-5fe4-4c59-9247-6684964188f0",
        "colab": {
          "base_uri": "https://localhost:8080/",
          "height": 402
        }
      },
      "source": [
        "df = pd.DataFrame({'A' : ['one', 'one', 'two', 'three'] * 3,\n",
        "                   'B' : ['A', 'B', 'C'] * 4,\n",
        "                   'C' : ['foo', 'foo', 'foo', 'bar', 'bar', 'bar'] * 2,\n",
        "                   'D' : np.random.randn(12),\n",
        "                   'E' : np.random.randn(12)})\n",
        "\n",
        "df"
      ],
      "execution_count": 102,
      "outputs": [
        {
          "output_type": "execute_result",
          "data": {
            "text/html": [
              "<div>\n",
              "<style scoped>\n",
              "    .dataframe tbody tr th:only-of-type {\n",
              "        vertical-align: middle;\n",
              "    }\n",
              "\n",
              "    .dataframe tbody tr th {\n",
              "        vertical-align: top;\n",
              "    }\n",
              "\n",
              "    .dataframe thead th {\n",
              "        text-align: right;\n",
              "    }\n",
              "</style>\n",
              "<table border=\"1\" class=\"dataframe\">\n",
              "  <thead>\n",
              "    <tr style=\"text-align: right;\">\n",
              "      <th></th>\n",
              "      <th>A</th>\n",
              "      <th>B</th>\n",
              "      <th>C</th>\n",
              "      <th>D</th>\n",
              "      <th>E</th>\n",
              "    </tr>\n",
              "  </thead>\n",
              "  <tbody>\n",
              "    <tr>\n",
              "      <th>0</th>\n",
              "      <td>one</td>\n",
              "      <td>A</td>\n",
              "      <td>foo</td>\n",
              "      <td>-1.763807</td>\n",
              "      <td>-0.252195</td>\n",
              "    </tr>\n",
              "    <tr>\n",
              "      <th>1</th>\n",
              "      <td>one</td>\n",
              "      <td>B</td>\n",
              "      <td>foo</td>\n",
              "      <td>0.237831</td>\n",
              "      <td>-1.486351</td>\n",
              "    </tr>\n",
              "    <tr>\n",
              "      <th>2</th>\n",
              "      <td>two</td>\n",
              "      <td>C</td>\n",
              "      <td>foo</td>\n",
              "      <td>-0.399724</td>\n",
              "      <td>-3.080647</td>\n",
              "    </tr>\n",
              "    <tr>\n",
              "      <th>3</th>\n",
              "      <td>three</td>\n",
              "      <td>A</td>\n",
              "      <td>bar</td>\n",
              "      <td>0.866655</td>\n",
              "      <td>0.530151</td>\n",
              "    </tr>\n",
              "    <tr>\n",
              "      <th>4</th>\n",
              "      <td>one</td>\n",
              "      <td>B</td>\n",
              "      <td>bar</td>\n",
              "      <td>-0.750532</td>\n",
              "      <td>0.543228</td>\n",
              "    </tr>\n",
              "    <tr>\n",
              "      <th>5</th>\n",
              "      <td>one</td>\n",
              "      <td>C</td>\n",
              "      <td>bar</td>\n",
              "      <td>-1.119290</td>\n",
              "      <td>-0.216574</td>\n",
              "    </tr>\n",
              "    <tr>\n",
              "      <th>6</th>\n",
              "      <td>two</td>\n",
              "      <td>A</td>\n",
              "      <td>foo</td>\n",
              "      <td>1.059568</td>\n",
              "      <td>0.010414</td>\n",
              "    </tr>\n",
              "    <tr>\n",
              "      <th>7</th>\n",
              "      <td>three</td>\n",
              "      <td>B</td>\n",
              "      <td>foo</td>\n",
              "      <td>1.831063</td>\n",
              "      <td>1.076954</td>\n",
              "    </tr>\n",
              "    <tr>\n",
              "      <th>8</th>\n",
              "      <td>one</td>\n",
              "      <td>C</td>\n",
              "      <td>foo</td>\n",
              "      <td>0.277464</td>\n",
              "      <td>-1.233810</td>\n",
              "    </tr>\n",
              "    <tr>\n",
              "      <th>9</th>\n",
              "      <td>one</td>\n",
              "      <td>A</td>\n",
              "      <td>bar</td>\n",
              "      <td>2.048400</td>\n",
              "      <td>0.234720</td>\n",
              "    </tr>\n",
              "    <tr>\n",
              "      <th>10</th>\n",
              "      <td>two</td>\n",
              "      <td>B</td>\n",
              "      <td>bar</td>\n",
              "      <td>1.191841</td>\n",
              "      <td>-0.680320</td>\n",
              "    </tr>\n",
              "    <tr>\n",
              "      <th>11</th>\n",
              "      <td>three</td>\n",
              "      <td>C</td>\n",
              "      <td>bar</td>\n",
              "      <td>1.838955</td>\n",
              "      <td>-1.501554</td>\n",
              "    </tr>\n",
              "  </tbody>\n",
              "</table>\n",
              "</div>"
            ],
            "text/plain": [
              "        A  B    C         D         E\n",
              "0     one  A  foo -1.763807 -0.252195\n",
              "1     one  B  foo  0.237831 -1.486351\n",
              "2     two  C  foo -0.399724 -3.080647\n",
              "3   three  A  bar  0.866655  0.530151\n",
              "4     one  B  bar -0.750532  0.543228\n",
              "5     one  C  bar -1.119290 -0.216574\n",
              "6     two  A  foo  1.059568  0.010414\n",
              "7   three  B  foo  1.831063  1.076954\n",
              "8     one  C  foo  0.277464 -1.233810\n",
              "9     one  A  bar  2.048400  0.234720\n",
              "10    two  B  bar  1.191841 -0.680320\n",
              "11  three  C  bar  1.838955 -1.501554"
            ]
          },
          "metadata": {
            "tags": []
          },
          "execution_count": 102
        }
      ]
    },
    {
      "cell_type": "markdown",
      "metadata": {
        "id": "ZRdWnPZSo4Sn"
      },
      "source": [
        "이 데이로부터 피봇 테이블을 매우 쉽게 생성할 수 있습니다."
      ]
    },
    {
      "cell_type": "code",
      "metadata": {
        "id": "NHr0-sMJoy2L",
        "outputId": "13cfdd0e-b1ac-412f-958c-cd06c697ad2d",
        "colab": {
          "base_uri": "https://localhost:8080/",
          "height": 343
        }
      },
      "source": [
        "pd.pivot_table(df, values='D', index=['A', 'B'], columns=['C'])\n",
        "\n"
      ],
      "execution_count": 104,
      "outputs": [
        {
          "output_type": "execute_result",
          "data": {
            "text/html": [
              "<div>\n",
              "<style scoped>\n",
              "    .dataframe tbody tr th:only-of-type {\n",
              "        vertical-align: middle;\n",
              "    }\n",
              "\n",
              "    .dataframe tbody tr th {\n",
              "        vertical-align: top;\n",
              "    }\n",
              "\n",
              "    .dataframe thead th {\n",
              "        text-align: right;\n",
              "    }\n",
              "</style>\n",
              "<table border=\"1\" class=\"dataframe\">\n",
              "  <thead>\n",
              "    <tr style=\"text-align: right;\">\n",
              "      <th></th>\n",
              "      <th>C</th>\n",
              "      <th>bar</th>\n",
              "      <th>foo</th>\n",
              "    </tr>\n",
              "    <tr>\n",
              "      <th>A</th>\n",
              "      <th>B</th>\n",
              "      <th></th>\n",
              "      <th></th>\n",
              "    </tr>\n",
              "  </thead>\n",
              "  <tbody>\n",
              "    <tr>\n",
              "      <th rowspan=\"3\" valign=\"top\">one</th>\n",
              "      <th>A</th>\n",
              "      <td>2.048400</td>\n",
              "      <td>-1.763807</td>\n",
              "    </tr>\n",
              "    <tr>\n",
              "      <th>B</th>\n",
              "      <td>-0.750532</td>\n",
              "      <td>0.237831</td>\n",
              "    </tr>\n",
              "    <tr>\n",
              "      <th>C</th>\n",
              "      <td>-1.119290</td>\n",
              "      <td>0.277464</td>\n",
              "    </tr>\n",
              "    <tr>\n",
              "      <th rowspan=\"3\" valign=\"top\">three</th>\n",
              "      <th>A</th>\n",
              "      <td>0.866655</td>\n",
              "      <td>NaN</td>\n",
              "    </tr>\n",
              "    <tr>\n",
              "      <th>B</th>\n",
              "      <td>NaN</td>\n",
              "      <td>1.831063</td>\n",
              "    </tr>\n",
              "    <tr>\n",
              "      <th>C</th>\n",
              "      <td>1.838955</td>\n",
              "      <td>NaN</td>\n",
              "    </tr>\n",
              "    <tr>\n",
              "      <th rowspan=\"3\" valign=\"top\">two</th>\n",
              "      <th>A</th>\n",
              "      <td>NaN</td>\n",
              "      <td>1.059568</td>\n",
              "    </tr>\n",
              "    <tr>\n",
              "      <th>B</th>\n",
              "      <td>1.191841</td>\n",
              "      <td>NaN</td>\n",
              "    </tr>\n",
              "    <tr>\n",
              "      <th>C</th>\n",
              "      <td>NaN</td>\n",
              "      <td>-0.399724</td>\n",
              "    </tr>\n",
              "  </tbody>\n",
              "</table>\n",
              "</div>"
            ],
            "text/plain": [
              "C             bar       foo\n",
              "A     B                    \n",
              "one   A  2.048400 -1.763807\n",
              "      B -0.750532  0.237831\n",
              "      C -1.119290  0.277464\n",
              "three A  0.866655       NaN\n",
              "      B       NaN  1.831063\n",
              "      C  1.838955       NaN\n",
              "two   A       NaN  1.059568\n",
              "      B  1.191841       NaN\n",
              "      C       NaN -0.399724"
            ]
          },
          "metadata": {
            "tags": []
          },
          "execution_count": 104
        }
      ]
    },
    {
      "cell_type": "markdown",
      "metadata": {
        "id": "Ac8T3AYqpjNA"
      },
      "source": [
        "9. Time Series ( 시계열)\n",
        "\n",
        "Pandas는 자주 일어나는 변환 (예시 : 5분마다 일어나는 데이터에 대한 2차 데이터 변환) 사이에 수행하는 리샘플링 연산을 위한 간단하고, 강력하며, 효율적인 함수를 제공합니다. 이는 재무 (금융) 응용에서 매우 일반적이지만 이에 국한되지는 않습니다. 시계열 부분을 참고하세요."
      ]
    },
    {
      "cell_type": "code",
      "metadata": {
        "id": "XPdUPqP3psly",
        "outputId": "22382118-8390-4c8d-b200-057823d5fa59",
        "colab": {
          "base_uri": "https://localhost:8080/"
        }
      },
      "source": [
        "rng = pd.date_range('1/1/2012', periods=100, freq='S')\n",
        "\n",
        "ts = pd.Series(np.random.randint(0, 500, len(rng)), index=rng)\n",
        "\n",
        "ts.resample('5Min').sum()"
      ],
      "execution_count": 105,
      "outputs": [
        {
          "output_type": "execute_result",
          "data": {
            "text/plain": [
              "2012-01-01    26755\n",
              "Freq: 5T, dtype: int64"
            ]
          },
          "metadata": {
            "tags": []
          },
          "execution_count": 105
        }
      ]
    },
    {
      "cell_type": "markdown",
      "metadata": {
        "id": "yAb7hoPTp3ml"
      },
      "source": [
        "시간대를 표현합니다.\n"
      ]
    },
    {
      "cell_type": "code",
      "metadata": {
        "id": "ui_waExnp9KE",
        "outputId": "fa69a7f5-901b-4fff-d46d-2c8136bdbf2b",
        "colab": {
          "base_uri": "https://localhost:8080/"
        }
      },
      "source": [
        "rng = pd.date_range('3/6/2012 00:00', periods=5, freq='D')\n",
        "\n",
        "ts = pd.Series(np.random.randn(len(rng)), rng)\n",
        "\n",
        "ts"
      ],
      "execution_count": 106,
      "outputs": [
        {
          "output_type": "execute_result",
          "data": {
            "text/plain": [
              "2012-03-06    1.154807\n",
              "2012-03-07    0.460286\n",
              "2012-03-08   -0.138080\n",
              "2012-03-09    0.328910\n",
              "2012-03-10   -1.701095\n",
              "Freq: D, dtype: float64"
            ]
          },
          "metadata": {
            "tags": []
          },
          "execution_count": 106
        }
      ]
    },
    {
      "cell_type": "code",
      "metadata": {
        "id": "61pnBOiOqDD2",
        "outputId": "37bf9f2b-22f6-4eb8-d661-8961ab26da3e",
        "colab": {
          "base_uri": "https://localhost:8080/"
        }
      },
      "source": [
        "ts_utc = ts.tz_localize('UTC')\n",
        "\n",
        "ts_utc"
      ],
      "execution_count": 107,
      "outputs": [
        {
          "output_type": "execute_result",
          "data": {
            "text/plain": [
              "2012-03-06 00:00:00+00:00    1.154807\n",
              "2012-03-07 00:00:00+00:00    0.460286\n",
              "2012-03-08 00:00:00+00:00   -0.138080\n",
              "2012-03-09 00:00:00+00:00    0.328910\n",
              "2012-03-10 00:00:00+00:00   -1.701095\n",
              "Freq: D, dtype: float64"
            ]
          },
          "metadata": {
            "tags": []
          },
          "execution_count": 107
        }
      ]
    },
    {
      "cell_type": "markdown",
      "metadata": {
        "id": "bm9svf3oqLxH"
      },
      "source": [
        "다른 시간대로 변환합니다."
      ]
    },
    {
      "cell_type": "code",
      "metadata": {
        "id": "kS6FcBOfqO4m",
        "outputId": "5c5eb8d4-cccb-45ef-dec9-ba64d70d0b86",
        "colab": {
          "base_uri": "https://localhost:8080/"
        }
      },
      "source": [
        "ts_utc.tz_convert('US/Eastern')"
      ],
      "execution_count": 108,
      "outputs": [
        {
          "output_type": "execute_result",
          "data": {
            "text/plain": [
              "2012-03-05 19:00:00-05:00    1.154807\n",
              "2012-03-06 19:00:00-05:00    0.460286\n",
              "2012-03-07 19:00:00-05:00   -0.138080\n",
              "2012-03-08 19:00:00-05:00    0.328910\n",
              "2012-03-09 19:00:00-05:00   -1.701095\n",
              "Freq: D, dtype: float64"
            ]
          },
          "metadata": {
            "tags": []
          },
          "execution_count": 108
        }
      ]
    },
    {
      "cell_type": "markdown",
      "metadata": {
        "id": "noahFKiyqYCU"
      },
      "source": [
        "시간표현↔ 기간 표현으로 변환합니다."
      ]
    },
    {
      "cell_type": "code",
      "metadata": {
        "id": "GLrq6t4Vqeks",
        "outputId": "cc1dcc07-a533-4ed1-e4d3-068d706d6dca",
        "colab": {
          "base_uri": "https://localhost:8080/"
        }
      },
      "source": [
        "rng = pd.date_range('1/1/2012', periods=5, freq='M')\n",
        "\n",
        "ts = pd.Series(np.random.randn(len(rng)), index=rng)\n",
        "\n",
        "ts"
      ],
      "execution_count": 109,
      "outputs": [
        {
          "output_type": "execute_result",
          "data": {
            "text/plain": [
              "2012-01-31   -0.501174\n",
              "2012-02-29   -0.454983\n",
              "2012-03-31    0.278583\n",
              "2012-04-30    1.403341\n",
              "2012-05-31   -0.916638\n",
              "Freq: M, dtype: float64"
            ]
          },
          "metadata": {
            "tags": []
          },
          "execution_count": 109
        }
      ]
    },
    {
      "cell_type": "code",
      "metadata": {
        "id": "V6HLysIlqnw5",
        "outputId": "596d17a4-2858-42d7-f3c5-373d81a3f090",
        "colab": {
          "base_uri": "https://localhost:8080/"
        }
      },
      "source": [
        "ps = ts.to_period()\n",
        "\n",
        "ps"
      ],
      "execution_count": 110,
      "outputs": [
        {
          "output_type": "execute_result",
          "data": {
            "text/plain": [
              "2012-01   -0.501174\n",
              "2012-02   -0.454983\n",
              "2012-03    0.278583\n",
              "2012-04    1.403341\n",
              "2012-05   -0.916638\n",
              "Freq: M, dtype: float64"
            ]
          },
          "metadata": {
            "tags": []
          },
          "execution_count": 110
        }
      ]
    },
    {
      "cell_type": "code",
      "metadata": {
        "id": "TNmcpFcTqr3F",
        "outputId": "021deee9-1b5c-4109-e4eb-01e196fcb74e",
        "colab": {
          "base_uri": "https://localhost:8080/"
        }
      },
      "source": [
        "ps.to_timestamp()"
      ],
      "execution_count": 111,
      "outputs": [
        {
          "output_type": "execute_result",
          "data": {
            "text/plain": [
              "2012-01-01   -0.501174\n",
              "2012-02-01   -0.454983\n",
              "2012-03-01    0.278583\n",
              "2012-04-01    1.403341\n",
              "2012-05-01   -0.916638\n",
              "Freq: MS, dtype: float64"
            ]
          },
          "metadata": {
            "tags": []
          },
          "execution_count": 111
        }
      ]
    },
    {
      "cell_type": "markdown",
      "metadata": {
        "id": "6D6Mn_DPqvKc"
      },
      "source": [
        "기간 ↔ 시간 변환은 편리한 산술 기능들을 사용할 수 있도록 만들어줍니다. 다음 예제에서, 우리는 11월에 끝나는 연말 결산의 분기별 빈도를 분기말 익월의 월말일 오전 9시로 변환합니다."
      ]
    },
    {
      "cell_type": "code",
      "metadata": {
        "id": "jILyz55UqxEd",
        "outputId": "1fcd78c8-54dc-4a07-ee96-0057cf80ef66",
        "colab": {
          "base_uri": "https://localhost:8080/"
        }
      },
      "source": [
        "prng = pd.period_range('1990Q1', '2000Q4', freq='Q-NOV')\n",
        "\n",
        "ts = pd.Series(np.random.randn(len(prng)), prng)\n",
        "\n",
        "ts.index = (prng.asfreq('M', 'e') + 1).asfreq('H', 's') + 9\n",
        "\n",
        "ts.head()"
      ],
      "execution_count": 112,
      "outputs": [
        {
          "output_type": "execute_result",
          "data": {
            "text/plain": [
              "1990-03-01 09:00   -1.057026\n",
              "1990-06-01 09:00    0.536279\n",
              "1990-09-01 09:00   -0.469488\n",
              "1990-12-01 09:00    0.887085\n",
              "1991-03-01 09:00    0.334750\n",
              "Freq: H, dtype: float64"
            ]
          },
          "metadata": {
            "tags": []
          },
          "execution_count": 112
        }
      ]
    },
    {
      "cell_type": "markdown",
      "metadata": {
        "id": "5q2Jj9M5q7Ye"
      },
      "source": [
        "10. Categoricals (범주화)\n",
        "\n",
        "Pandas는 데이터프레임 내에 범주형 데이터를 포함할 수 있습니다. 범주형소개 와 API 문서 부분을 참조하세요."
      ]
    },
    {
      "cell_type": "code",
      "metadata": {
        "id": "TqSZ-R2srQyh"
      },
      "source": [
        "df = pd.DataFrame({\"id\":[1,2,3,4,5,6], \"raw_grade\":['a', 'b', 'b', 'a', 'a', 'e']})"
      ],
      "execution_count": 119,
      "outputs": []
    },
    {
      "cell_type": "markdown",
      "metadata": {
        "id": "XmPleAuVrd-K"
      },
      "source": [
        "가종하지 않은 성적을 범주형 데이터로 변환합니다."
      ]
    },
    {
      "cell_type": "code",
      "metadata": {
        "id": "stwJJvjqrilK",
        "outputId": "754e65cf-856c-4ec6-813d-6da85136473e",
        "colab": {
          "base_uri": "https://localhost:8080/"
        }
      },
      "source": [
        "df[\"grade\"] = df[\"raw_grade\"].astype(\"category\")\n",
        "\n",
        "df[\"grade\"]"
      ],
      "execution_count": 120,
      "outputs": [
        {
          "output_type": "execute_result",
          "data": {
            "text/plain": [
              "0    a\n",
              "1    b\n",
              "2    b\n",
              "3    a\n",
              "4    a\n",
              "5    e\n",
              "Name: grade, dtype: category\n",
              "Categories (3, object): ['a', 'b', 'e']"
            ]
          },
          "metadata": {
            "tags": []
          },
          "execution_count": 120
        }
      ]
    },
    {
      "cell_type": "markdown",
      "metadata": {
        "id": "ejeDG-1GsZ9K"
      },
      "source": [
        "범주의 순서를 바꾸고 동시에 누락된 범주를 추가합니다(series.cat에 속하는 메소드 기본적으로 새로운 series를 반환합니다.)"
      ]
    },
    {
      "cell_type": "code",
      "metadata": {
        "id": "GNnWJhK5su0Q",
        "outputId": "195f129c-fa07-4620-c524-d7ed2bd4bbe7",
        "colab": {
          "base_uri": "https://localhost:8080/"
        }
      },
      "source": [
        "df[\"grade\"] = df[\"grade\"].cat.set_categories([\"very bad\", \"bad\", \"medium\", \"good\", \"very good\"])\n",
        "\n",
        "df[\"grade\"]"
      ],
      "execution_count": 121,
      "outputs": [
        {
          "output_type": "execute_result",
          "data": {
            "text/plain": [
              "0    NaN\n",
              "1    NaN\n",
              "2    NaN\n",
              "3    NaN\n",
              "4    NaN\n",
              "5    NaN\n",
              "Name: grade, dtype: category\n",
              "Categories (5, object): ['very bad', 'bad', 'medium', 'good', 'very good']"
            ]
          },
          "metadata": {
            "tags": []
          },
          "execution_count": 121
        }
      ]
    },
    {
      "cell_type": "markdown",
      "metadata": {
        "id": "cOwb2lpBs7ez"
      },
      "source": [
        "정렬은 사전 순서가 아닌, 해당 범주에서 지정된 순서대로 배열합니다.\n",
        "\n",
        "역자 주: 131번에서 very bad, bad, medium, good, very good 의 순서로 기재되어 있기 때문에 정렬 결과도 해당 순서대로 배열됩니다."
      ]
    },
    {
      "cell_type": "code",
      "metadata": {
        "id": "bkbpLQvntS5K",
        "outputId": "c89fb7ff-fb42-4909-afa8-027850c6cb0d",
        "colab": {
          "base_uri": "https://localhost:8080/",
          "height": 225
        }
      },
      "source": [
        "df.sort_values(by= \"grade\")"
      ],
      "execution_count": 122,
      "outputs": [
        {
          "output_type": "execute_result",
          "data": {
            "text/html": [
              "<div>\n",
              "<style scoped>\n",
              "    .dataframe tbody tr th:only-of-type {\n",
              "        vertical-align: middle;\n",
              "    }\n",
              "\n",
              "    .dataframe tbody tr th {\n",
              "        vertical-align: top;\n",
              "    }\n",
              "\n",
              "    .dataframe thead th {\n",
              "        text-align: right;\n",
              "    }\n",
              "</style>\n",
              "<table border=\"1\" class=\"dataframe\">\n",
              "  <thead>\n",
              "    <tr style=\"text-align: right;\">\n",
              "      <th></th>\n",
              "      <th>id</th>\n",
              "      <th>raw_grade</th>\n",
              "      <th>grade</th>\n",
              "    </tr>\n",
              "  </thead>\n",
              "  <tbody>\n",
              "    <tr>\n",
              "      <th>0</th>\n",
              "      <td>1</td>\n",
              "      <td>a</td>\n",
              "      <td>NaN</td>\n",
              "    </tr>\n",
              "    <tr>\n",
              "      <th>1</th>\n",
              "      <td>2</td>\n",
              "      <td>b</td>\n",
              "      <td>NaN</td>\n",
              "    </tr>\n",
              "    <tr>\n",
              "      <th>2</th>\n",
              "      <td>3</td>\n",
              "      <td>b</td>\n",
              "      <td>NaN</td>\n",
              "    </tr>\n",
              "    <tr>\n",
              "      <th>3</th>\n",
              "      <td>4</td>\n",
              "      <td>a</td>\n",
              "      <td>NaN</td>\n",
              "    </tr>\n",
              "    <tr>\n",
              "      <th>4</th>\n",
              "      <td>5</td>\n",
              "      <td>a</td>\n",
              "      <td>NaN</td>\n",
              "    </tr>\n",
              "    <tr>\n",
              "      <th>5</th>\n",
              "      <td>6</td>\n",
              "      <td>e</td>\n",
              "      <td>NaN</td>\n",
              "    </tr>\n",
              "  </tbody>\n",
              "</table>\n",
              "</div>"
            ],
            "text/plain": [
              "   id raw_grade grade\n",
              "0   1         a   NaN\n",
              "1   2         b   NaN\n",
              "2   3         b   NaN\n",
              "3   4         a   NaN\n",
              "4   5         a   NaN\n",
              "5   6         e   NaN"
            ]
          },
          "metadata": {
            "tags": []
          },
          "execution_count": 122
        }
      ]
    },
    {
      "cell_type": "markdown",
      "metadata": {
        "id": "_18838vYtgXb"
      },
      "source": [
        "범주의 열을 기준으로 그룹화하면 빈 범주도 표시됩니다"
      ]
    },
    {
      "cell_type": "code",
      "metadata": {
        "id": "8dTC4mDxtn_u",
        "outputId": "944de282-6d4b-49d8-82ec-f2728ac06d07",
        "colab": {
          "base_uri": "https://localhost:8080/"
        }
      },
      "source": [
        "df.groupby(\"grade\"). size()"
      ],
      "execution_count": 123,
      "outputs": [
        {
          "output_type": "execute_result",
          "data": {
            "text/plain": [
              "grade\n",
              "very bad     0\n",
              "bad          0\n",
              "medium       0\n",
              "good         0\n",
              "very good    0\n",
              "dtype: int64"
            ]
          },
          "metadata": {
            "tags": []
          },
          "execution_count": 123
        }
      ]
    },
    {
      "cell_type": "markdown",
      "metadata": {
        "id": "FFxajm6-tzDq"
      },
      "source": [
        "11. plotting (그래프)\n",
        "\n",
        "plotting 부분을 참조하세요."
      ]
    },
    {
      "cell_type": "code",
      "metadata": {
        "id": "cvU2UQY8t-4G",
        "outputId": "f4da4d39-a83f-4726-8ad6-efec13063475",
        "colab": {
          "base_uri": "https://localhost:8080/",
          "height": 294
        }
      },
      "source": [
        "ts = pd.Series(np.random.randn(1000), index=pd.date_range('1/1/2000', periods=1000))\n",
        "\n",
        "ts = ts.cumsum()\n",
        "\n",
        "ts.plot()"
      ],
      "execution_count": 125,
      "outputs": [
        {
          "output_type": "execute_result",
          "data": {
            "text/plain": [
              "<matplotlib.axes._subplots.AxesSubplot at 0x7f25d2add4e0>"
            ]
          },
          "metadata": {
            "tags": []
          },
          "execution_count": 125
        },
        {
          "output_type": "display_data",
          "data": {
            "image/png": "[encoded data removed]",
            "text/plain": [
              "<Figure size 432x288 with 1 Axes>"
            ]
          },
          "metadata": {
            "tags": [],
            "needs_background": "light"
          }
        }
      ]
    },
    {
      "cell_type": "markdown",
      "metadata": {
        "id": "rM0mY3QzuPY3"
      },
      "source": [
        "데이터프레임에서 plot()메소드는 라벨이 존재하는 모든 열을 그릴 때 편리합니다."
      ]
    },
    {
      "cell_type": "code",
      "metadata": {
        "id": "Hvu00Eujucdg",
        "outputId": "5d04ed25-d6f4-4099-ca7f-224f4b04d739",
        "colab": {
          "base_uri": "https://localhost:8080/",
          "height": 315
        }
      },
      "source": [
        "df = pd.DataFrame(np.random.randn(1000, 4), index=ts.index,\n",
        "                  columns=['A', 'B', 'C', 'D'])  \n",
        "df = df.cumsum()\n",
        "\n",
        "plt.figure(); df.plot(); plt.legend(loc='best')"
      ],
      "execution_count": 126,
      "outputs": [
        {
          "output_type": "execute_result",
          "data": {
            "text/plain": [
              "<matplotlib.legend.Legend at 0x7f25d29adf28>"
            ]
          },
          "metadata": {
            "tags": []
          },
          "execution_count": 126
        },
        {
          "output_type": "display_data",
          "data": {
            "text/plain": [
              "<Figure size 432x288 with 0 Axes>"
            ]
          },
          "metadata": {
            "tags": []
          }
        },
        {
          "output_type": "display_data",
          "data": {
            "image/png": "[encoded data removed]",
            "text/plain": [
              "<Figure size 432x288 with 1 Axes>"
            ]
          },
          "metadata": {
            "tags": [],
            "needs_background": "light"
          }
        }
      ]
    },
    {
      "cell_type": "markdown",
      "metadata": {
        "id": "fHlKW0btugS7"
      },
      "source": [
        "12. Getting Data In/ Out (데이터입/출력)"
      ]
    },
    {
      "cell_type": "markdown",
      "metadata": {
        "id": "gFlC7ks_up_0"
      },
      "source": [
        "CSV\n",
        "\n",
        "csv 파일에 씁니다."
      ]
    },
    {
      "cell_type": "code",
      "metadata": {
        "id": "qHcPjyD1uwJI"
      },
      "source": [
        "df.to_csv('foo.csv')"
      ],
      "execution_count": 127,
      "outputs": []
    },
    {
      "cell_type": "markdown",
      "metadata": {
        "id": "JvfaA1Chu0gC"
      },
      "source": [
        "csv 파일을 읽습니다."
      ]
    },
    {
      "cell_type": "code",
      "metadata": {
        "id": "8hd67Ye7uz2i",
        "outputId": "b8e26996-57cf-4d8e-add8-5e900f4b1e55",
        "colab": {
          "base_uri": "https://localhost:8080/",
          "height": 402
        }
      },
      "source": [
        "pd.read_csv('foo.csv')"
      ],
      "execution_count": 128,
      "outputs": [
        {
          "output_type": "execute_result",
          "data": {
            "text/html": [
              "<div>\n",
              "<style scoped>\n",
              "    .dataframe tbody tr th:only-of-type {\n",
              "        vertical-align: middle;\n",
              "    }\n",
              "\n",
              "    .dataframe tbody tr th {\n",
              "        vertical-align: top;\n",
              "    }\n",
              "\n",
              "    .dataframe thead th {\n",
              "        text-align: right;\n",
              "    }\n",
              "</style>\n",
              "<table border=\"1\" class=\"dataframe\">\n",
              "  <thead>\n",
              "    <tr style=\"text-align: right;\">\n",
              "      <th></th>\n",
              "      <th>Unnamed: 0</th>\n",
              "      <th>A</th>\n",
              "      <th>B</th>\n",
              "      <th>C</th>\n",
              "      <th>D</th>\n",
              "    </tr>\n",
              "  </thead>\n",
              "  <tbody>\n",
              "    <tr>\n",
              "      <th>0</th>\n",
              "      <td>2000-01-01</td>\n",
              "      <td>0.280353</td>\n",
              "      <td>1.296893</td>\n",
              "      <td>-1.097626</td>\n",
              "      <td>0.768056</td>\n",
              "    </tr>\n",
              "    <tr>\n",
              "      <th>1</th>\n",
              "      <td>2000-01-02</td>\n",
              "      <td>-1.089355</td>\n",
              "      <td>2.847020</td>\n",
              "      <td>-1.863945</td>\n",
              "      <td>1.719845</td>\n",
              "    </tr>\n",
              "    <tr>\n",
              "      <th>2</th>\n",
              "      <td>2000-01-03</td>\n",
              "      <td>-1.281490</td>\n",
              "      <td>2.852504</td>\n",
              "      <td>-2.745883</td>\n",
              "      <td>1.945448</td>\n",
              "    </tr>\n",
              "    <tr>\n",
              "      <th>3</th>\n",
              "      <td>2000-01-04</td>\n",
              "      <td>-0.139539</td>\n",
              "      <td>3.617231</td>\n",
              "      <td>-2.739149</td>\n",
              "      <td>0.906859</td>\n",
              "    </tr>\n",
              "    <tr>\n",
              "      <th>4</th>\n",
              "      <td>2000-01-05</td>\n",
              "      <td>-1.304498</td>\n",
              "      <td>3.649817</td>\n",
              "      <td>-1.981081</td>\n",
              "      <td>1.387088</td>\n",
              "    </tr>\n",
              "    <tr>\n",
              "      <th>...</th>\n",
              "      <td>...</td>\n",
              "      <td>...</td>\n",
              "      <td>...</td>\n",
              "      <td>...</td>\n",
              "      <td>...</td>\n",
              "    </tr>\n",
              "    <tr>\n",
              "      <th>995</th>\n",
              "      <td>2002-09-22</td>\n",
              "      <td>22.347220</td>\n",
              "      <td>2.491960</td>\n",
              "      <td>65.458653</td>\n",
              "      <td>20.122744</td>\n",
              "    </tr>\n",
              "    <tr>\n",
              "      <th>996</th>\n",
              "      <td>2002-09-23</td>\n",
              "      <td>21.936443</td>\n",
              "      <td>1.604322</td>\n",
              "      <td>66.379792</td>\n",
              "      <td>20.702678</td>\n",
              "    </tr>\n",
              "    <tr>\n",
              "      <th>997</th>\n",
              "      <td>2002-09-24</td>\n",
              "      <td>22.154637</td>\n",
              "      <td>0.961829</td>\n",
              "      <td>63.980942</td>\n",
              "      <td>20.804868</td>\n",
              "    </tr>\n",
              "    <tr>\n",
              "      <th>998</th>\n",
              "      <td>2002-09-25</td>\n",
              "      <td>23.114169</td>\n",
              "      <td>-0.047867</td>\n",
              "      <td>63.231008</td>\n",
              "      <td>20.532317</td>\n",
              "    </tr>\n",
              "    <tr>\n",
              "      <th>999</th>\n",
              "      <td>2002-09-26</td>\n",
              "      <td>22.300030</td>\n",
              "      <td>-1.369450</td>\n",
              "      <td>61.688241</td>\n",
              "      <td>20.040329</td>\n",
              "    </tr>\n",
              "  </tbody>\n",
              "</table>\n",
              "<p>1000 rows × 5 columns</p>\n",
              "</div>"
            ],
            "text/plain": [
              "     Unnamed: 0          A         B          C          D\n",
              "0    2000-01-01   0.280353  1.296893  -1.097626   0.768056\n",
              "1    2000-01-02  -1.089355  2.847020  -1.863945   1.719845\n",
              "2    2000-01-03  -1.281490  2.852504  -2.745883   1.945448\n",
              "3    2000-01-04  -0.139539  3.617231  -2.739149   0.906859\n",
              "4    2000-01-05  -1.304498  3.649817  -1.981081   1.387088\n",
              "..          ...        ...       ...        ...        ...\n",
              "995  2002-09-22  22.347220  2.491960  65.458653  20.122744\n",
              "996  2002-09-23  21.936443  1.604322  66.379792  20.702678\n",
              "997  2002-09-24  22.154637  0.961829  63.980942  20.804868\n",
              "998  2002-09-25  23.114169 -0.047867  63.231008  20.532317\n",
              "999  2002-09-26  22.300030 -1.369450  61.688241  20.040329\n",
              "\n",
              "[1000 rows x 5 columns]"
            ]
          },
          "metadata": {
            "tags": []
          },
          "execution_count": 128
        }
      ]
    },
    {
      "cell_type": "markdown",
      "metadata": {
        "id": "hBcaRtdzu8PW"
      },
      "source": [
        "HDF\n",
        "\n",
        "HDFStore에 읽고 씁니다.\n",
        "\n",
        "HDF5 Store에 씁니다."
      ]
    },
    {
      "cell_type": "code",
      "metadata": {
        "id": "ix3mjv-mvKBG"
      },
      "source": [
        "df.to_hdf('foo.h5','df')"
      ],
      "execution_count": 130,
      "outputs": []
    },
    {
      "cell_type": "markdown",
      "metadata": {
        "id": "nPrS_oDdvMS4"
      },
      "source": [
        "HDF5 Store에서 읽어옵니다."
      ]
    },
    {
      "cell_type": "code",
      "metadata": {
        "id": "sNDrJMu0vSZ1",
        "outputId": "db1ae429-8523-4f5c-ad71-8a9adefde54d",
        "colab": {
          "base_uri": "https://localhost:8080/",
          "height": 402
        }
      },
      "source": [
        "pd.read_hdf('foo.h5','df')"
      ],
      "execution_count": 131,
      "outputs": [
        {
          "output_type": "execute_result",
          "data": {
            "text/html": [
              "<div>\n",
              "<style scoped>\n",
              "    .dataframe tbody tr th:only-of-type {\n",
              "        vertical-align: middle;\n",
              "    }\n",
              "\n",
              "    .dataframe tbody tr th {\n",
              "        vertical-align: top;\n",
              "    }\n",
              "\n",
              "    .dataframe thead th {\n",
              "        text-align: right;\n",
              "    }\n",
              "</style>\n",
              "<table border=\"1\" class=\"dataframe\">\n",
              "  <thead>\n",
              "    <tr style=\"text-align: right;\">\n",
              "      <th></th>\n",
              "      <th>A</th>\n",
              "      <th>B</th>\n",
              "      <th>C</th>\n",
              "      <th>D</th>\n",
              "    </tr>\n",
              "  </thead>\n",
              "  <tbody>\n",
              "    <tr>\n",
              "      <th>2000-01-01</th>\n",
              "      <td>0.280353</td>\n",
              "      <td>1.296893</td>\n",
              "      <td>-1.097626</td>\n",
              "      <td>0.768056</td>\n",
              "    </tr>\n",
              "    <tr>\n",
              "      <th>2000-01-02</th>\n",
              "      <td>-1.089355</td>\n",
              "      <td>2.847020</td>\n",
              "      <td>-1.863945</td>\n",
              "      <td>1.719845</td>\n",
              "    </tr>\n",
              "    <tr>\n",
              "      <th>2000-01-03</th>\n",
              "      <td>-1.281490</td>\n",
              "      <td>2.852504</td>\n",
              "      <td>-2.745883</td>\n",
              "      <td>1.945448</td>\n",
              "    </tr>\n",
              "    <tr>\n",
              "      <th>2000-01-04</th>\n",
              "      <td>-0.139539</td>\n",
              "      <td>3.617231</td>\n",
              "      <td>-2.739149</td>\n",
              "      <td>0.906859</td>\n",
              "    </tr>\n",
              "    <tr>\n",
              "      <th>2000-01-05</th>\n",
              "      <td>-1.304498</td>\n",
              "      <td>3.649817</td>\n",
              "      <td>-1.981081</td>\n",
              "      <td>1.387088</td>\n",
              "    </tr>\n",
              "    <tr>\n",
              "      <th>...</th>\n",
              "      <td>...</td>\n",
              "      <td>...</td>\n",
              "      <td>...</td>\n",
              "      <td>...</td>\n",
              "    </tr>\n",
              "    <tr>\n",
              "      <th>2002-09-22</th>\n",
              "      <td>22.347220</td>\n",
              "      <td>2.491960</td>\n",
              "      <td>65.458653</td>\n",
              "      <td>20.122744</td>\n",
              "    </tr>\n",
              "    <tr>\n",
              "      <th>2002-09-23</th>\n",
              "      <td>21.936443</td>\n",
              "      <td>1.604322</td>\n",
              "      <td>66.379792</td>\n",
              "      <td>20.702678</td>\n",
              "    </tr>\n",
              "    <tr>\n",
              "      <th>2002-09-24</th>\n",
              "      <td>22.154637</td>\n",
              "      <td>0.961829</td>\n",
              "      <td>63.980942</td>\n",
              "      <td>20.804868</td>\n",
              "    </tr>\n",
              "    <tr>\n",
              "      <th>2002-09-25</th>\n",
              "      <td>23.114169</td>\n",
              "      <td>-0.047867</td>\n",
              "      <td>63.231008</td>\n",
              "      <td>20.532317</td>\n",
              "    </tr>\n",
              "    <tr>\n",
              "      <th>2002-09-26</th>\n",
              "      <td>22.300030</td>\n",
              "      <td>-1.369450</td>\n",
              "      <td>61.688241</td>\n",
              "      <td>20.040329</td>\n",
              "    </tr>\n",
              "  </tbody>\n",
              "</table>\n",
              "<p>1000 rows × 4 columns</p>\n",
              "</div>"
            ],
            "text/plain": [
              "                    A         B          C          D\n",
              "2000-01-01   0.280353  1.296893  -1.097626   0.768056\n",
              "2000-01-02  -1.089355  2.847020  -1.863945   1.719845\n",
              "2000-01-03  -1.281490  2.852504  -2.745883   1.945448\n",
              "2000-01-04  -0.139539  3.617231  -2.739149   0.906859\n",
              "2000-01-05  -1.304498  3.649817  -1.981081   1.387088\n",
              "...               ...       ...        ...        ...\n",
              "2002-09-22  22.347220  2.491960  65.458653  20.122744\n",
              "2002-09-23  21.936443  1.604322  66.379792  20.702678\n",
              "2002-09-24  22.154637  0.961829  63.980942  20.804868\n",
              "2002-09-25  23.114169 -0.047867  63.231008  20.532317\n",
              "2002-09-26  22.300030 -1.369450  61.688241  20.040329\n",
              "\n",
              "[1000 rows x 4 columns]"
            ]
          },
          "metadata": {
            "tags": []
          },
          "execution_count": 131
        }
      ]
    },
    {
      "cell_type": "markdown",
      "metadata": {
        "id": "JhxkvUL8vYLX"
      },
      "source": [
        "Excel\n",
        "\n",
        "MS Excel에 읽고 씁니다.\n",
        "\n",
        "엑셀 파일에 씁니다."
      ]
    },
    {
      "cell_type": "code",
      "metadata": {
        "id": "DJxs9jk7vgcv"
      },
      "source": [
        "df.to_excel('foo.xlsx', sheet_name='Sheet1')"
      ],
      "execution_count": 132,
      "outputs": []
    },
    {
      "cell_type": "markdown",
      "metadata": {
        "id": "GvPnF4RPviTf"
      },
      "source": [
        "엑셀 파일을 읽어옵니다."
      ]
    },
    {
      "cell_type": "code",
      "metadata": {
        "id": "3Ax3RPGmvmRu",
        "outputId": "1fe84722-5410-4736-fb5b-d345f0f4b2c7",
        "colab": {
          "base_uri": "https://localhost:8080/",
          "height": 402
        }
      },
      "source": [
        "pd.read_excel('foo.xlsx', 'Sheet1', index_col=None, na_values=['NA'])"
      ],
      "execution_count": 133,
      "outputs": [
        {
          "output_type": "execute_result",
          "data": {
            "text/html": [
              "<div>\n",
              "<style scoped>\n",
              "    .dataframe tbody tr th:only-of-type {\n",
              "        vertical-align: middle;\n",
              "    }\n",
              "\n",
              "    .dataframe tbody tr th {\n",
              "        vertical-align: top;\n",
              "    }\n",
              "\n",
              "    .dataframe thead th {\n",
              "        text-align: right;\n",
              "    }\n",
              "</style>\n",
              "<table border=\"1\" class=\"dataframe\">\n",
              "  <thead>\n",
              "    <tr style=\"text-align: right;\">\n",
              "      <th></th>\n",
              "      <th>Unnamed: 0</th>\n",
              "      <th>A</th>\n",
              "      <th>B</th>\n",
              "      <th>C</th>\n",
              "      <th>D</th>\n",
              "    </tr>\n",
              "  </thead>\n",
              "  <tbody>\n",
              "    <tr>\n",
              "      <th>0</th>\n",
              "      <td>2000-01-01</td>\n",
              "      <td>0.280353</td>\n",
              "      <td>1.296893</td>\n",
              "      <td>-1.097626</td>\n",
              "      <td>0.768056</td>\n",
              "    </tr>\n",
              "    <tr>\n",
              "      <th>1</th>\n",
              "      <td>2000-01-02</td>\n",
              "      <td>-1.089355</td>\n",
              "      <td>2.847020</td>\n",
              "      <td>-1.863945</td>\n",
              "      <td>1.719845</td>\n",
              "    </tr>\n",
              "    <tr>\n",
              "      <th>2</th>\n",
              "      <td>2000-01-03</td>\n",
              "      <td>-1.281490</td>\n",
              "      <td>2.852504</td>\n",
              "      <td>-2.745883</td>\n",
              "      <td>1.945448</td>\n",
              "    </tr>\n",
              "    <tr>\n",
              "      <th>3</th>\n",
              "      <td>2000-01-04</td>\n",
              "      <td>-0.139539</td>\n",
              "      <td>3.617231</td>\n",
              "      <td>-2.739149</td>\n",
              "      <td>0.906859</td>\n",
              "    </tr>\n",
              "    <tr>\n",
              "      <th>4</th>\n",
              "      <td>2000-01-05</td>\n",
              "      <td>-1.304498</td>\n",
              "      <td>3.649817</td>\n",
              "      <td>-1.981081</td>\n",
              "      <td>1.387088</td>\n",
              "    </tr>\n",
              "    <tr>\n",
              "      <th>...</th>\n",
              "      <td>...</td>\n",
              "      <td>...</td>\n",
              "      <td>...</td>\n",
              "      <td>...</td>\n",
              "      <td>...</td>\n",
              "    </tr>\n",
              "    <tr>\n",
              "      <th>995</th>\n",
              "      <td>2002-09-22</td>\n",
              "      <td>22.347220</td>\n",
              "      <td>2.491960</td>\n",
              "      <td>65.458653</td>\n",
              "      <td>20.122744</td>\n",
              "    </tr>\n",
              "    <tr>\n",
              "      <th>996</th>\n",
              "      <td>2002-09-23</td>\n",
              "      <td>21.936443</td>\n",
              "      <td>1.604322</td>\n",
              "      <td>66.379792</td>\n",
              "      <td>20.702678</td>\n",
              "    </tr>\n",
              "    <tr>\n",
              "      <th>997</th>\n",
              "      <td>2002-09-24</td>\n",
              "      <td>22.154637</td>\n",
              "      <td>0.961829</td>\n",
              "      <td>63.980942</td>\n",
              "      <td>20.804868</td>\n",
              "    </tr>\n",
              "    <tr>\n",
              "      <th>998</th>\n",
              "      <td>2002-09-25</td>\n",
              "      <td>23.114169</td>\n",
              "      <td>-0.047867</td>\n",
              "      <td>63.231008</td>\n",
              "      <td>20.532317</td>\n",
              "    </tr>\n",
              "    <tr>\n",
              "      <th>999</th>\n",
              "      <td>2002-09-26</td>\n",
              "      <td>22.300030</td>\n",
              "      <td>-1.369450</td>\n",
              "      <td>61.688241</td>\n",
              "      <td>20.040329</td>\n",
              "    </tr>\n",
              "  </tbody>\n",
              "</table>\n",
              "<p>1000 rows × 5 columns</p>\n",
              "</div>"
            ],
            "text/plain": [
              "    Unnamed: 0          A         B          C          D\n",
              "0   2000-01-01   0.280353  1.296893  -1.097626   0.768056\n",
              "1   2000-01-02  -1.089355  2.847020  -1.863945   1.719845\n",
              "2   2000-01-03  -1.281490  2.852504  -2.745883   1.945448\n",
              "3   2000-01-04  -0.139539  3.617231  -2.739149   0.906859\n",
              "4   2000-01-05  -1.304498  3.649817  -1.981081   1.387088\n",
              "..         ...        ...       ...        ...        ...\n",
              "995 2002-09-22  22.347220  2.491960  65.458653  20.122744\n",
              "996 2002-09-23  21.936443  1.604322  66.379792  20.702678\n",
              "997 2002-09-24  22.154637  0.961829  63.980942  20.804868\n",
              "998 2002-09-25  23.114169 -0.047867  63.231008  20.532317\n",
              "999 2002-09-26  22.300030 -1.369450  61.688241  20.040329\n",
              "\n",
              "[1000 rows x 5 columns]"
            ]
          },
          "metadata": {
            "tags": []
          },
          "execution_count": 133
        }
      ]
    },
    {
      "cell_type": "markdown",
      "metadata": {
        "id": "B8U2erPqvrCG"
      },
      "source": [
        "13. Gotchas (잡았다!)\n",
        "\n",
        "연산 수행시 다음과 같은 예외 상황을 볼 수도 있습니다."
      ]
    },
    {
      "cell_type": "code",
      "metadata": {
        "id": "19f7r8Cuv3Rc",
        "outputId": "3ff74300-acb6-423d-d119-b846143a2a37",
        "colab": {
          "base_uri": "https://localhost:8080/",
          "height": 310
        }
      },
      "source": [
        "if pd.Series([False, True, False]):\n",
        "    print(\"I was true\")"
      ],
      "execution_count": 135,
      "outputs": [
        {
          "output_type": "error",
          "ename": "ValueError",
          "evalue": "ignored",
          "traceback": [
            "\u001b[0;31m---------------------------------------------------------------------------\u001b[0m",
            "\u001b[0;31mValueError\u001b[0m                                Traceback (most recent call last)",
            "\u001b[0;32m<ipython-input-135-5c782b38cd2f>\u001b[0m in \u001b[0;36m<module>\u001b[0;34m()\u001b[0m\n\u001b[0;32m----> 1\u001b[0;31m \u001b[0;32mif\u001b[0m \u001b[0mpd\u001b[0m\u001b[0;34m.\u001b[0m\u001b[0mSeries\u001b[0m\u001b[0;34m(\u001b[0m\u001b[0;34m[\u001b[0m\u001b[0;32mFalse\u001b[0m\u001b[0;34m,\u001b[0m \u001b[0;32mTrue\u001b[0m\u001b[0;34m,\u001b[0m \u001b[0;32mFalse\u001b[0m\u001b[0;34m]\u001b[0m\u001b[0;34m)\u001b[0m\u001b[0;34m:\u001b[0m\u001b[0;34m\u001b[0m\u001b[0;34m\u001b[0m\u001b[0m\n\u001b[0m\u001b[1;32m      2\u001b[0m     \u001b[0mprint\u001b[0m\u001b[0;34m(\u001b[0m\u001b[0;34m\"I was true\"\u001b[0m\u001b[0;34m)\u001b[0m\u001b[0;34m\u001b[0m\u001b[0;34m\u001b[0m\u001b[0m\n",
            "\u001b[0;32m/usr/local/lib/python3.6/dist-packages/pandas/core/generic.py\u001b[0m in \u001b[0;36m__nonzero__\u001b[0;34m(self)\u001b[0m\n\u001b[1;32m   1328\u001b[0m     \u001b[0;32mdef\u001b[0m \u001b[0m__nonzero__\u001b[0m\u001b[0;34m(\u001b[0m\u001b[0mself\u001b[0m\u001b[0;34m)\u001b[0m\u001b[0;34m:\u001b[0m\u001b[0;34m\u001b[0m\u001b[0;34m\u001b[0m\u001b[0m\n\u001b[1;32m   1329\u001b[0m         raise ValueError(\n\u001b[0;32m-> 1330\u001b[0;31m             \u001b[0;34mf\"The truth value of a {type(self).__name__} is ambiguous. \"\u001b[0m\u001b[0;34m\u001b[0m\u001b[0;34m\u001b[0m\u001b[0m\n\u001b[0m\u001b[1;32m   1331\u001b[0m             \u001b[0;34m\"Use a.empty, a.bool(), a.item(), a.any() or a.all().\"\u001b[0m\u001b[0;34m\u001b[0m\u001b[0;34m\u001b[0m\u001b[0m\n\u001b[1;32m   1332\u001b[0m         )\n",
            "\u001b[0;31mValueError\u001b[0m: The truth value of a Series is ambiguous. Use a.empty, a.bool(), a.item(), a.any() or a.all()."
          ]
        }
      ]
    },
    {
      "cell_type": "markdown",
      "metadata": {
        "id": "-2y8h5ORv807"
      },
      "source": [
        "이러한 경우에는 any(),all(),empty 등을 사용해서 무엇을 원하는지를 선택(반영)해주어야 합니다.\n"
      ]
    },
    {
      "cell_type": "code",
      "metadata": {
        "id": "FyXQ_NQ5wWOF"
      },
      "source": [
        "if pd.Series([False, True, False])is not None:\n",
        "      print(\"I was not None\")"
      ],
      "execution_count": null,
      "outputs": []
    }
  ]
}